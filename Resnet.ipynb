{
 "cells": [
  {
   "cell_type": "code",
   "execution_count": 1,
   "id": "a88134b5",
   "metadata": {},
   "outputs": [],
   "source": [
    "#import essential libraries \n",
    "import torch\n",
    "import torch.nn as nn\n",
    "import torch.optim as optim\n",
    "import torchvision\n",
    "import torchvision.transforms as T\n",
    "from torchvision import models\n",
    "import os\n",
    "import pandas as pd\n",
    "from torchvision.io import read_image\n",
    "from sklearn.model_selection import train_test_split\n",
    "from torch.optim import lr_scheduler\n",
    "from torch.utils.data import Dataset\n",
    "from torchvision.datasets import ImageFolder\n",
    "from torchvision import datasets\n",
    "from torchvision.transforms import ToTensor\n",
    "import matplotlib.pyplot as plt\n",
    "import torchvision.transforms as transforms\n",
    "import time\n",
    "import copy\n",
    "from tqdm import tqdm\n",
    "import numpy as np\n",
    "from mlxtend.plotting import plot_confusion_matrix\n",
    "from sklearn.metrics import confusion_matrix\n",
    "from tensorflow.keras import layers\n",
    "from torchvision import transforms\n",
    "from torch.utils.data import Dataset, DataLoader\n",
    "from PIL import Image\n",
    "import random\n",
    "import pdb"
   ]
  },
  {
   "cell_type": "code",
   "execution_count": 2,
   "id": "5332f3b6",
   "metadata": {},
   "outputs": [],
   "source": [
    "#%automatic reloading during training\n",
    "%load_ext autoreload\n",
    "%autoreload 2"
   ]
  },
  {
   "cell_type": "code",
   "execution_count": 3,
   "id": "ce51d819",
   "metadata": {},
   "outputs": [],
   "source": [
    "# set seed for  reproduciblity of the code\n",
    "random_seed = 2023 # or any of your favorite number \n",
    "torch.manual_seed(random_seed)\n",
    "torch.cuda.manual_seed(random_seed)\n",
    "torch.backends.cudnn.deterministic = True\n",
    "torch.backends.cudnn.benchmark = False\n",
    "np.random.seed(random_seed)"
   ]
  },
  {
   "cell_type": "code",
   "execution_count": 4,
   "id": "8c91a4f2",
   "metadata": {},
   "outputs": [
    {
     "name": "stdout",
     "output_type": "stream",
     "text": [
      "cuda\n"
     ]
    }
   ],
   "source": [
    "# Set the device, check GPU\n",
    "device = torch.device(\"cuda\" if torch.cuda.is_available() else \"cpu\")\n",
    "print(device)"
   ]
  },
  {
   "cell_type": "code",
   "execution_count": 5,
   "id": "84f60ee2",
   "metadata": {},
   "outputs": [],
   "source": [
    "#define a custom class from my dataset\n",
    "class CustomDataset(Dataset):\n",
    "    def __init__(self, root_dir, transform=None):\n",
    "        self.root_dir = root_dir\n",
    "        self.transform = transform\n",
    "        self.classes = {'MS': 1, 'noMS': 0}\n",
    "        self.data = self.load_data()\n",
    "        random.shuffle(self.data)  # Shuffle the data upon initialization\n",
    "\n",
    "    def load_data(self):\n",
    "        data = []\n",
    "\n",
    "        for class_name, class_label in self.classes.items():\n",
    "            class_path = os.path.join(self.root_dir, class_name)\n",
    "\n",
    "            for filename in os.listdir(class_path):\n",
    "                if filename.endswith(\".jpg\"):\n",
    "                    img_path = os.path.join(class_path, filename)\n",
    "                    data.append((img_path, class_label))\n",
    "\n",
    "        return data\n",
    "\n",
    "    def __len__(self):\n",
    "        return len(self.data)\n",
    "\n",
    "    def __getitem__(self, idx):\n",
    "        img_path, label = self.data[idx]\n",
    "        image = Image.open(img_path).convert(\"RGB\")\n",
    "\n",
    "        if self.transform:\n",
    "            image = self.transform(image)\n",
    "\n",
    "        return image, label"
   ]
  },
  {
   "cell_type": "code",
   "execution_count": 8,
   "id": "85dc044e",
   "metadata": {},
   "outputs": [],
   "source": [
    "transform = transforms.Compose([\n",
    "    transforms.Resize((224, 224)),\n",
    "    transforms.ToTensor(),\n",
    "    transforms.Normalize([0.485, 0.456, 0.406], [0.229, 0.224, 0.225])\n",
    "])\n",
    "\n",
    "dataset = CustomDataset(root_dir='C:\\\\Users\\\\hajami\\\\Desktop\\\\535-data', transform=transform)\n"
   ]
  },
  {
   "cell_type": "code",
   "execution_count": 6,
   "id": "0eaedc60",
   "metadata": {},
   "outputs": [],
   "source": [
    "# Define the transformation\n",
    "transform = transforms.Compose([\n",
    "    transforms.Resize((224, 224)),  # Adjust the size as needed\n",
    "    transforms.ToTensor(),\n",
    "])\n",
    "dataset = CustomDataset(root_dir='C:\\\\Users\\\\hajami\\\\Desktop\\\\535-data', transform=transform)"
   ]
  },
  {
   "cell_type": "code",
   "execution_count": 9,
   "id": "4171b99a",
   "metadata": {},
   "outputs": [
    {
     "name": "stdout",
     "output_type": "stream",
     "text": [
      "21420\n",
      "6120\n",
      "3060\n"
     ]
    }
   ],
   "source": [
    "#split the dataset \n",
    "from torch.utils.data import random_split\n",
    "\n",
    "# Split the dataset into train, validation, and test sets\n",
    "train_size = int(0.70 * len(dataset))\n",
    "val_size = int(0.20 * len(dataset))\n",
    "test_size = len(dataset) - train_size - val_size  # Corrected calculation\n",
    "\n",
    "train_data, val_data, test_data = random_split(dataset, [train_size, val_size, test_size])\n",
    "\n",
    "# Access the individual datasets\n",
    "print(len(train_data))  # Number of samples in the training set\n",
    "print(len(val_data))    # Number of samples in the validation set\n",
    "print(len(test_data))   # Number of samples in the test set"
   ]
  },
  {
   "cell_type": "code",
   "execution_count": 10,
   "id": "dfac730c",
   "metadata": {},
   "outputs": [],
   "source": [
    "#define the dataloader for training and testing loops\n",
    "from torch.utils.data import DataLoader\n",
    "\n",
    "train_len = len(train_data)\n",
    "train_dataloader = DataLoader(train_data, batch_size=32, shuffle=True)\n",
    "\n",
    "val_len = len(val_data)\n",
    "val_dataloader = DataLoader(val_data, batch_size=32, shuffle=True)\n",
    "\n",
    "test_len = len(test_data)\n",
    "test_dataloader = DataLoader(test_data, batch_size=32, shuffle=False)\n",
    "\n",
    "data_loaders = {'train':train_dataloader, 'val':val_dataloader}"
   ]
  },
  {
   "cell_type": "code",
   "execution_count": 11,
   "id": "c0837acf",
   "metadata": {},
   "outputs": [],
   "source": [
    "classes = train_data.dataset.classes"
   ]
  },
  {
   "cell_type": "code",
   "execution_count": 12,
   "id": "1e235a01",
   "metadata": {},
   "outputs": [
    {
     "name": "stdout",
     "output_type": "stream",
     "text": [
      "Feature batch shape: torch.Size([32, 3, 224, 224])\n",
      "Labels batch shape: torch.Size([32])\n"
     ]
    }
   ],
   "source": [
    "train_features, train_labels = next(iter(train_dataloader))\n",
    "print(f\"Feature batch shape: {train_features.size()}\")\n",
    "print(f\"Labels batch shape: {train_labels.size()}\")\n",
    "img = train_features[0].squeeze()\n",
    "label = train_labels[0]"
   ]
  },
  {
   "cell_type": "code",
   "execution_count": 13,
   "id": "9f72799c",
   "metadata": {},
   "outputs": [
    {
     "name": "stdout",
     "output_type": "stream",
     "text": [
      "True\n"
     ]
    }
   ],
   "source": [
    "print(torch.cuda.is_available())"
   ]
  },
  {
   "cell_type": "code",
   "execution_count": 14,
   "id": "115d6a83",
   "metadata": {},
   "outputs": [
    {
     "data": {
      "text/plain": [
       "device(type='cuda', index=0)"
      ]
     },
     "execution_count": 14,
     "metadata": {},
     "output_type": "execute_result"
    }
   ],
   "source": [
    "device = torch.device(\"cuda:0\" if torch.cuda.is_available() else \"cpu\")\n",
    "device"
   ]
  },
  {
   "cell_type": "code",
   "execution_count": 15,
   "id": "f2966d38",
   "metadata": {},
   "outputs": [],
   "source": [
    "train_loss =  []\n",
    "train_acc = []\n",
    "val_loss = []\n",
    "val_acc = []\n",
    "def train_model(model, criterion, optimizer, scheduler, num_epochs):\n",
    "    since = time.time()\n",
    "    best_model_wts = copy.deepcopy(model.state_dict())\n",
    "    best_acc = 0.0\n",
    "    \n",
    "    avg_loss = 0\n",
    "    avg_acc = 0\n",
    "    avg_loss_val = 0\n",
    "    avg_acc_val = 0\n",
    "    \n",
    "    train_batches = len(train_dataloader)\n",
    "    val_batches = len(val_dataloader)\n",
    "    \n",
    "    for epoch in range(num_epochs):\n",
    "        print(\"Epoch {}/{}\".format(epoch, num_epochs))\n",
    "        print('-' * 10)\n",
    "        \n",
    "        loss_train = 0\n",
    "        loss_val = 0\n",
    "        acc_train = 0\n",
    "        acc_val = 0\n",
    "        \n",
    "        model.train(True)\n",
    "        \n",
    "        for data in tqdm(train_dataloader):\n",
    "            \n",
    "                \n",
    "            inputs, labels = data\n",
    "            inputs = inputs.to(device)\n",
    "            labels = labels.to(device)\n",
    "            \n",
    "        \n",
    "            optimizer.zero_grad()\n",
    "            \n",
    "            outputs = model(inputs)\n",
    "            \n",
    "            _, preds = torch.max(outputs.data, 1)\n",
    "            loss = criterion(outputs, labels)\n",
    "            \n",
    "            loss.backward()\n",
    "            optimizer.step()\n",
    "            \n",
    "            loss_train += loss.item()\n",
    "            acc_train += torch.sum(preds == labels.data)\n",
    "            \n",
    "            del inputs, labels, outputs, preds\n",
    "            torch.cuda.empty_cache()\n",
    "        \n",
    "        print()\n",
    "        # * 2 as we only used half of the dataset\n",
    "        avg_loss = loss_train / train_len\n",
    "        avg_acc = acc_train / train_len\n",
    "        train_loss.append(avg_loss)\n",
    "        train_acc.append(avg_acc)\n",
    "        \n",
    "        model.train(False)\n",
    "        model.eval()\n",
    "            \n",
    "        for data in tqdm(val_dataloader):\n",
    "                \n",
    "            inputs, labels = data\n",
    "            inputs = inputs.to(device)\n",
    "            labels = labels.to(device)\n",
    "            \n",
    "            optimizer.zero_grad()\n",
    "            \n",
    "            outputs = model(inputs)\n",
    "            \n",
    "            _, preds = torch.max(outputs.data, 1)\n",
    "            loss = criterion(outputs, labels)\n",
    "            \n",
    "            loss_val += loss.item()\n",
    "            acc_val += torch.sum(preds == labels.data)\n",
    "            \n",
    "            del inputs, labels, outputs, preds\n",
    "            torch.cuda.empty_cache()\n",
    "        \n",
    "        avg_loss_val = loss_val / val_len\n",
    "        avg_acc_val = acc_val / val_len\n",
    "        \n",
    "        val_loss.append(avg_loss_val)\n",
    "        val_acc.append(avg_acc_val)\n",
    "        print()\n",
    "        print(\"Epoch {} result: \".format(epoch))\n",
    "        print(\"Avg loss (train): {:.4f}\".format(avg_loss))\n",
    "        print(\"Avg acc (train): {:.4f}\".format(avg_acc))\n",
    "        print(\"Avg loss (val): {:.4f}\".format(avg_loss_val))\n",
    "        print(\"Avg acc (val): {:.4f}\".format(avg_acc_val))\n",
    "        print('-' * 10)\n",
    "        print()\n",
    "        \n",
    "        if avg_acc_val > best_acc:\n",
    "            best_acc = avg_acc_val\n",
    "            best_model_wts = copy.deepcopy(model.state_dict())\n",
    "        \n",
    "        #scheduler.step(avg_loss_val)\n",
    "        \n",
    "    elapsed_time = time.time() - since\n",
    "    print()\n",
    "    print(\"Training completed in {:.0f}m {:.0f}s\".format(elapsed_time // 60, elapsed_time % 60))\n",
    "    print(\"Best acc: {:.4f}\".format(best_acc))\n",
    "    \n",
    "    model.load_state_dict(best_model_wts)\n",
    "    return model"
   ]
  },
  {
   "cell_type": "code",
   "execution_count": 16,
   "id": "57f33ec3",
   "metadata": {},
   "outputs": [
    {
     "data": {
      "text/plain": [
       "(21420, 6120, 3060)"
      ]
     },
     "execution_count": 16,
     "metadata": {},
     "output_type": "execute_result"
    }
   ],
   "source": [
    "train_len, val_len, test_len"
   ]
  },
  {
   "cell_type": "code",
   "execution_count": 17,
   "id": "bc24c01e",
   "metadata": {},
   "outputs": [
    {
     "name": "stderr",
     "output_type": "stream",
     "text": [
      "C:\\Users\\hajami\\AppData\\Local\\anaconda3\\envs\\Hanieh_second_env\\lib\\site-packages\\torchvision\\models\\_utils.py:208: UserWarning: The parameter 'pretrained' is deprecated since 0.13 and may be removed in the future, please use 'weights' instead.\n",
      "  warnings.warn(\n",
      "C:\\Users\\hajami\\AppData\\Local\\anaconda3\\envs\\Hanieh_second_env\\lib\\site-packages\\torchvision\\models\\_utils.py:223: UserWarning: Arguments other than a weight enum or `None` for 'weights' are deprecated since 0.13 and may be removed in the future. The current behavior is equivalent to passing `weights=ResNet18_Weights.IMAGENET1K_V1`. You can also use `weights=ResNet18_Weights.DEFAULT` to get the most up-to-date weights.\n",
      "  warnings.warn(msg)\n"
     ]
    }
   ],
   "source": [
    "model = models.resnet18(pretrained=True)\n",
    "model.fc = nn.Linear(model.fc.in_features, 2, bias=True)\n",
    "model.to(device)\n",
    "\n",
    "for param in model.parameters():\n",
    "    param.requires_grad = False\n",
    "    \n",
    "for param in model.fc.parameters():\n",
    "    param.requires_grad = True\n",
    "\n",
    "for param in model.layer4[1].parameters():\n",
    "    param.requires_grad = True\n",
    "\n",
    "\n",
    "model.to(device)\n",
    "\n",
    "criterion = nn.CrossEntropyLoss()\n",
    "\n",
    "optimizer = optim.Adam(model.parameters(), lr=0.0000001)\n",
    "scheduler = lr_scheduler.StepLR(optimizer, step_size=7, gamma=0.7)"
   ]
  },
  {
   "cell_type": "code",
   "execution_count": 18,
   "id": "b17e4fdf",
   "metadata": {
    "scrolled": false
   },
   "outputs": [
    {
     "name": "stdout",
     "output_type": "stream",
     "text": [
      "Epoch 0/40\n",
      "----------\n"
     ]
    },
    {
     "name": "stderr",
     "output_type": "stream",
     "text": [
      "100%|████████████████████████████████████████████████████████████████████████████████| 670/670 [00:51<00:00, 12.93it/s]\n"
     ]
    },
    {
     "name": "stdout",
     "output_type": "stream",
     "text": [
      "\n"
     ]
    },
    {
     "name": "stderr",
     "output_type": "stream",
     "text": [
      "100%|████████████████████████████████████████████████████████████████████████████████| 192/192 [00:14<00:00, 12.99it/s]\n"
     ]
    },
    {
     "name": "stdout",
     "output_type": "stream",
     "text": [
      "\n",
      "Epoch 0 result: \n",
      "Avg loss (train): 0.0217\n",
      "Avg acc (train): 0.5752\n",
      "Avg loss (val): 0.0207\n",
      "Avg acc (val): 0.6163\n",
      "----------\n",
      "\n",
      "Epoch 1/40\n",
      "----------\n"
     ]
    },
    {
     "name": "stderr",
     "output_type": "stream",
     "text": [
      "100%|████████████████████████████████████████████████████████████████████████████████| 670/670 [00:51<00:00, 13.06it/s]\n"
     ]
    },
    {
     "name": "stdout",
     "output_type": "stream",
     "text": [
      "\n"
     ]
    },
    {
     "name": "stderr",
     "output_type": "stream",
     "text": [
      "100%|████████████████████████████████████████████████████████████████████████████████| 192/192 [00:14<00:00, 13.18it/s]\n"
     ]
    },
    {
     "name": "stdout",
     "output_type": "stream",
     "text": [
      "\n",
      "Epoch 1 result: \n",
      "Avg loss (train): 0.0198\n",
      "Avg acc (train): 0.6434\n",
      "Avg loss (val): 0.0190\n",
      "Avg acc (val): 0.6838\n",
      "----------\n",
      "\n",
      "Epoch 2/40\n",
      "----------\n"
     ]
    },
    {
     "name": "stderr",
     "output_type": "stream",
     "text": [
      "100%|████████████████████████████████████████████████████████████████████████████████| 670/670 [00:51<00:00, 12.93it/s]\n"
     ]
    },
    {
     "name": "stdout",
     "output_type": "stream",
     "text": [
      "\n"
     ]
    },
    {
     "name": "stderr",
     "output_type": "stream",
     "text": [
      "100%|████████████████████████████████████████████████████████████████████████████████| 192/192 [00:14<00:00, 13.21it/s]\n"
     ]
    },
    {
     "name": "stdout",
     "output_type": "stream",
     "text": [
      "\n",
      "Epoch 2 result: \n",
      "Avg loss (train): 0.0183\n",
      "Avg acc (train): 0.7013\n",
      "Avg loss (val): 0.0179\n",
      "Avg acc (val): 0.7152\n",
      "----------\n",
      "\n",
      "Epoch 3/40\n",
      "----------\n"
     ]
    },
    {
     "name": "stderr",
     "output_type": "stream",
     "text": [
      "100%|████████████████████████████████████████████████████████████████████████████████| 670/670 [00:51<00:00, 13.02it/s]\n"
     ]
    },
    {
     "name": "stdout",
     "output_type": "stream",
     "text": [
      "\n"
     ]
    },
    {
     "name": "stderr",
     "output_type": "stream",
     "text": [
      "100%|████████████████████████████████████████████████████████████████████████████████| 192/192 [00:14<00:00, 13.04it/s]\n"
     ]
    },
    {
     "name": "stdout",
     "output_type": "stream",
     "text": [
      "\n",
      "Epoch 3 result: \n",
      "Avg loss (train): 0.0171\n",
      "Avg acc (train): 0.7449\n",
      "Avg loss (val): 0.0165\n",
      "Avg acc (val): 0.7681\n",
      "----------\n",
      "\n",
      "Epoch 4/40\n",
      "----------\n"
     ]
    },
    {
     "name": "stderr",
     "output_type": "stream",
     "text": [
      "100%|████████████████████████████████████████████████████████████████████████████████| 670/670 [00:50<00:00, 13.22it/s]\n"
     ]
    },
    {
     "name": "stdout",
     "output_type": "stream",
     "text": [
      "\n"
     ]
    },
    {
     "name": "stderr",
     "output_type": "stream",
     "text": [
      "100%|████████████████████████████████████████████████████████████████████████████████| 192/192 [00:15<00:00, 12.09it/s]\n"
     ]
    },
    {
     "name": "stdout",
     "output_type": "stream",
     "text": [
      "\n",
      "Epoch 4 result: \n",
      "Avg loss (train): 0.0160\n",
      "Avg acc (train): 0.7771\n",
      "Avg loss (val): 0.0157\n",
      "Avg acc (val): 0.7895\n",
      "----------\n",
      "\n",
      "Epoch 5/40\n",
      "----------\n"
     ]
    },
    {
     "name": "stderr",
     "output_type": "stream",
     "text": [
      "100%|████████████████████████████████████████████████████████████████████████████████| 670/670 [00:55<00:00, 12.17it/s]\n"
     ]
    },
    {
     "name": "stdout",
     "output_type": "stream",
     "text": [
      "\n"
     ]
    },
    {
     "name": "stderr",
     "output_type": "stream",
     "text": [
      "100%|████████████████████████████████████████████████████████████████████████████████| 192/192 [00:14<00:00, 13.36it/s]\n"
     ]
    },
    {
     "name": "stdout",
     "output_type": "stream",
     "text": [
      "\n",
      "Epoch 5 result: \n",
      "Avg loss (train): 0.0152\n",
      "Avg acc (train): 0.8001\n",
      "Avg loss (val): 0.0147\n",
      "Avg acc (val): 0.8170\n",
      "----------\n",
      "\n",
      "Epoch 6/40\n",
      "----------\n"
     ]
    },
    {
     "name": "stderr",
     "output_type": "stream",
     "text": [
      "100%|████████████████████████████████████████████████████████████████████████████████| 670/670 [00:51<00:00, 12.95it/s]\n"
     ]
    },
    {
     "name": "stdout",
     "output_type": "stream",
     "text": [
      "\n"
     ]
    },
    {
     "name": "stderr",
     "output_type": "stream",
     "text": [
      "100%|████████████████████████████████████████████████████████████████████████████████| 192/192 [00:14<00:00, 13.00it/s]\n"
     ]
    },
    {
     "name": "stdout",
     "output_type": "stream",
     "text": [
      "\n",
      "Epoch 6 result: \n",
      "Avg loss (train): 0.0144\n",
      "Avg acc (train): 0.8189\n",
      "Avg loss (val): 0.0140\n",
      "Avg acc (val): 0.8281\n",
      "----------\n",
      "\n",
      "Epoch 7/40\n",
      "----------\n"
     ]
    },
    {
     "name": "stderr",
     "output_type": "stream",
     "text": [
      "100%|████████████████████████████████████████████████████████████████████████████████| 670/670 [00:56<00:00, 11.83it/s]\n"
     ]
    },
    {
     "name": "stdout",
     "output_type": "stream",
     "text": [
      "\n"
     ]
    },
    {
     "name": "stderr",
     "output_type": "stream",
     "text": [
      "100%|████████████████████████████████████████████████████████████████████████████████| 192/192 [00:14<00:00, 13.33it/s]\n"
     ]
    },
    {
     "name": "stdout",
     "output_type": "stream",
     "text": [
      "\n",
      "Epoch 7 result: \n",
      "Avg loss (train): 0.0137\n",
      "Avg acc (train): 0.8317\n",
      "Avg loss (val): 0.0135\n",
      "Avg acc (val): 0.8412\n",
      "----------\n",
      "\n",
      "Epoch 8/40\n",
      "----------\n"
     ]
    },
    {
     "name": "stderr",
     "output_type": "stream",
     "text": [
      "100%|████████████████████████████████████████████████████████████████████████████████| 670/670 [00:52<00:00, 12.81it/s]\n"
     ]
    },
    {
     "name": "stdout",
     "output_type": "stream",
     "text": [
      "\n"
     ]
    },
    {
     "name": "stderr",
     "output_type": "stream",
     "text": [
      "100%|████████████████████████████████████████████████████████████████████████████████| 192/192 [00:14<00:00, 13.56it/s]\n"
     ]
    },
    {
     "name": "stdout",
     "output_type": "stream",
     "text": [
      "\n",
      "Epoch 8 result: \n",
      "Avg loss (train): 0.0131\n",
      "Avg acc (train): 0.8428\n",
      "Avg loss (val): 0.0127\n",
      "Avg acc (val): 0.8520\n",
      "----------\n",
      "\n",
      "Epoch 9/40\n",
      "----------\n"
     ]
    },
    {
     "name": "stderr",
     "output_type": "stream",
     "text": [
      "100%|████████████████████████████████████████████████████████████████████████████████| 670/670 [00:51<00:00, 12.97it/s]\n"
     ]
    },
    {
     "name": "stdout",
     "output_type": "stream",
     "text": [
      "\n"
     ]
    },
    {
     "name": "stderr",
     "output_type": "stream",
     "text": [
      "100%|████████████████████████████████████████████████████████████████████████████████| 192/192 [00:14<00:00, 13.19it/s]\n"
     ]
    },
    {
     "name": "stdout",
     "output_type": "stream",
     "text": [
      "\n",
      "Epoch 9 result: \n",
      "Avg loss (train): 0.0126\n",
      "Avg acc (train): 0.8506\n",
      "Avg loss (val): 0.0123\n",
      "Avg acc (val): 0.8583\n",
      "----------\n",
      "\n",
      "Epoch 10/40\n",
      "----------\n"
     ]
    },
    {
     "name": "stderr",
     "output_type": "stream",
     "text": [
      "100%|████████████████████████████████████████████████████████████████████████████████| 670/670 [00:50<00:00, 13.16it/s]\n"
     ]
    },
    {
     "name": "stdout",
     "output_type": "stream",
     "text": [
      "\n"
     ]
    },
    {
     "name": "stderr",
     "output_type": "stream",
     "text": [
      "100%|████████████████████████████████████████████████████████████████████████████████| 192/192 [00:14<00:00, 13.26it/s]\n"
     ]
    },
    {
     "name": "stdout",
     "output_type": "stream",
     "text": [
      "\n",
      "Epoch 10 result: \n",
      "Avg loss (train): 0.0121\n",
      "Avg acc (train): 0.8579\n",
      "Avg loss (val): 0.0118\n",
      "Avg acc (val): 0.8673\n",
      "----------\n",
      "\n",
      "Epoch 11/40\n",
      "----------\n"
     ]
    },
    {
     "name": "stderr",
     "output_type": "stream",
     "text": [
      "100%|████████████████████████████████████████████████████████████████████████████████| 670/670 [00:51<00:00, 12.96it/s]\n"
     ]
    },
    {
     "name": "stdout",
     "output_type": "stream",
     "text": [
      "\n"
     ]
    },
    {
     "name": "stderr",
     "output_type": "stream",
     "text": [
      "100%|████████████████████████████████████████████████████████████████████████████████| 192/192 [00:14<00:00, 13.03it/s]\n"
     ]
    },
    {
     "name": "stdout",
     "output_type": "stream",
     "text": [
      "\n",
      "Epoch 11 result: \n",
      "Avg loss (train): 0.0117\n",
      "Avg acc (train): 0.8643\n",
      "Avg loss (val): 0.0114\n",
      "Avg acc (val): 0.8711\n",
      "----------\n",
      "\n",
      "Epoch 12/40\n",
      "----------\n"
     ]
    },
    {
     "name": "stderr",
     "output_type": "stream",
     "text": [
      "100%|████████████████████████████████████████████████████████████████████████████████| 670/670 [00:50<00:00, 13.19it/s]\n"
     ]
    },
    {
     "name": "stdout",
     "output_type": "stream",
     "text": [
      "\n"
     ]
    },
    {
     "name": "stderr",
     "output_type": "stream",
     "text": [
      "100%|████████████████████████████████████████████████████████████████████████████████| 192/192 [00:14<00:00, 13.39it/s]\n"
     ]
    },
    {
     "name": "stdout",
     "output_type": "stream",
     "text": [
      "\n",
      "Epoch 12 result: \n",
      "Avg loss (train): 0.0113\n",
      "Avg acc (train): 0.8692\n",
      "Avg loss (val): 0.0110\n",
      "Avg acc (val): 0.8758\n",
      "----------\n",
      "\n",
      "Epoch 13/40\n",
      "----------\n"
     ]
    },
    {
     "name": "stderr",
     "output_type": "stream",
     "text": [
      "100%|████████████████████████████████████████████████████████████████████████████████| 670/670 [00:52<00:00, 12.81it/s]\n"
     ]
    },
    {
     "name": "stdout",
     "output_type": "stream",
     "text": [
      "\n"
     ]
    },
    {
     "name": "stderr",
     "output_type": "stream",
     "text": [
      "100%|████████████████████████████████████████████████████████████████████████████████| 192/192 [00:14<00:00, 13.06it/s]\n"
     ]
    },
    {
     "name": "stdout",
     "output_type": "stream",
     "text": [
      "\n",
      "Epoch 13 result: \n",
      "Avg loss (train): 0.0109\n",
      "Avg acc (train): 0.8756\n",
      "Avg loss (val): 0.0107\n",
      "Avg acc (val): 0.8848\n",
      "----------\n",
      "\n",
      "Epoch 14/40\n",
      "----------\n"
     ]
    },
    {
     "name": "stderr",
     "output_type": "stream",
     "text": [
      "100%|████████████████████████████████████████████████████████████████████████████████| 670/670 [00:50<00:00, 13.17it/s]\n"
     ]
    },
    {
     "name": "stdout",
     "output_type": "stream",
     "text": [
      "\n"
     ]
    },
    {
     "name": "stderr",
     "output_type": "stream",
     "text": [
      "100%|████████████████████████████████████████████████████████████████████████████████| 192/192 [00:14<00:00, 13.35it/s]\n"
     ]
    },
    {
     "name": "stdout",
     "output_type": "stream",
     "text": [
      "\n",
      "Epoch 14 result: \n",
      "Avg loss (train): 0.0106\n",
      "Avg acc (train): 0.8783\n",
      "Avg loss (val): 0.0103\n",
      "Avg acc (val): 0.8886\n",
      "----------\n",
      "\n",
      "Epoch 15/40\n",
      "----------\n"
     ]
    },
    {
     "name": "stderr",
     "output_type": "stream",
     "text": [
      "100%|████████████████████████████████████████████████████████████████████████████████| 670/670 [00:52<00:00, 12.78it/s]\n"
     ]
    },
    {
     "name": "stdout",
     "output_type": "stream",
     "text": [
      "\n"
     ]
    },
    {
     "name": "stderr",
     "output_type": "stream",
     "text": [
      "100%|████████████████████████████████████████████████████████████████████████████████| 192/192 [00:14<00:00, 12.99it/s]\n"
     ]
    },
    {
     "name": "stdout",
     "output_type": "stream",
     "text": [
      "\n",
      "Epoch 15 result: \n",
      "Avg loss (train): 0.0104\n",
      "Avg acc (train): 0.8802\n",
      "Avg loss (val): 0.0100\n",
      "Avg acc (val): 0.8920\n",
      "----------\n",
      "\n",
      "Epoch 16/40\n",
      "----------\n"
     ]
    },
    {
     "name": "stderr",
     "output_type": "stream",
     "text": [
      "100%|████████████████████████████████████████████████████████████████████████████████| 670/670 [00:50<00:00, 13.17it/s]\n"
     ]
    },
    {
     "name": "stdout",
     "output_type": "stream",
     "text": [
      "\n"
     ]
    },
    {
     "name": "stderr",
     "output_type": "stream",
     "text": [
      "100%|████████████████████████████████████████████████████████████████████████████████| 192/192 [00:14<00:00, 13.30it/s]\n"
     ]
    },
    {
     "name": "stdout",
     "output_type": "stream",
     "text": [
      "\n",
      "Epoch 16 result: \n",
      "Avg loss (train): 0.0101\n",
      "Avg acc (train): 0.8837\n",
      "Avg loss (val): 0.0099\n",
      "Avg acc (val): 0.8941\n",
      "----------\n",
      "\n",
      "Epoch 17/40\n",
      "----------\n"
     ]
    },
    {
     "name": "stderr",
     "output_type": "stream",
     "text": [
      "100%|████████████████████████████████████████████████████████████████████████████████| 670/670 [00:52<00:00, 12.87it/s]\n"
     ]
    },
    {
     "name": "stdout",
     "output_type": "stream",
     "text": [
      "\n"
     ]
    },
    {
     "name": "stderr",
     "output_type": "stream",
     "text": [
      "100%|████████████████████████████████████████████████████████████████████████████████| 192/192 [00:14<00:00, 13.12it/s]\n"
     ]
    },
    {
     "name": "stdout",
     "output_type": "stream",
     "text": [
      "\n",
      "Epoch 17 result: \n",
      "Avg loss (train): 0.0099\n",
      "Avg acc (train): 0.8872\n",
      "Avg loss (val): 0.0096\n",
      "Avg acc (val): 0.8984\n",
      "----------\n",
      "\n",
      "Epoch 18/40\n",
      "----------\n"
     ]
    },
    {
     "name": "stderr",
     "output_type": "stream",
     "text": [
      "100%|████████████████████████████████████████████████████████████████████████████████| 670/670 [00:49<00:00, 13.41it/s]\n"
     ]
    },
    {
     "name": "stdout",
     "output_type": "stream",
     "text": [
      "\n"
     ]
    },
    {
     "name": "stderr",
     "output_type": "stream",
     "text": [
      "100%|████████████████████████████████████████████████████████████████████████████████| 192/192 [00:14<00:00, 13.37it/s]\n"
     ]
    },
    {
     "name": "stdout",
     "output_type": "stream",
     "text": [
      "\n",
      "Epoch 18 result: \n",
      "Avg loss (train): 0.0096\n",
      "Avg acc (train): 0.8909\n",
      "Avg loss (val): 0.0092\n",
      "Avg acc (val): 0.9013\n",
      "----------\n",
      "\n",
      "Epoch 19/40\n",
      "----------\n"
     ]
    },
    {
     "name": "stderr",
     "output_type": "stream",
     "text": [
      "100%|████████████████████████████████████████████████████████████████████████████████| 670/670 [00:51<00:00, 13.06it/s]\n"
     ]
    },
    {
     "name": "stdout",
     "output_type": "stream",
     "text": [
      "\n"
     ]
    },
    {
     "name": "stderr",
     "output_type": "stream",
     "text": [
      "100%|████████████████████████████████████████████████████████████████████████████████| 192/192 [00:14<00:00, 13.15it/s]\n"
     ]
    },
    {
     "name": "stdout",
     "output_type": "stream",
     "text": [
      "\n",
      "Epoch 19 result: \n",
      "Avg loss (train): 0.0094\n",
      "Avg acc (train): 0.8951\n",
      "Avg loss (val): 0.0091\n",
      "Avg acc (val): 0.9008\n",
      "----------\n",
      "\n",
      "Epoch 20/40\n",
      "----------\n"
     ]
    },
    {
     "name": "stderr",
     "output_type": "stream",
     "text": [
      "100%|████████████████████████████████████████████████████████████████████████████████| 670/670 [00:51<00:00, 13.01it/s]\n"
     ]
    },
    {
     "name": "stdout",
     "output_type": "stream",
     "text": [
      "\n"
     ]
    },
    {
     "name": "stderr",
     "output_type": "stream",
     "text": [
      "100%|████████████████████████████████████████████████████████████████████████████████| 192/192 [00:14<00:00, 13.15it/s]\n"
     ]
    },
    {
     "name": "stdout",
     "output_type": "stream",
     "text": [
      "\n",
      "Epoch 20 result: \n",
      "Avg loss (train): 0.0092\n",
      "Avg acc (train): 0.8980\n",
      "Avg loss (val): 0.0090\n",
      "Avg acc (val): 0.9025\n",
      "----------\n",
      "\n",
      "Epoch 21/40\n",
      "----------\n"
     ]
    },
    {
     "name": "stderr",
     "output_type": "stream",
     "text": [
      "100%|████████████████████████████████████████████████████████████████████████████████| 670/670 [00:50<00:00, 13.30it/s]\n"
     ]
    },
    {
     "name": "stdout",
     "output_type": "stream",
     "text": [
      "\n"
     ]
    },
    {
     "name": "stderr",
     "output_type": "stream",
     "text": [
      "100%|████████████████████████████████████████████████████████████████████████████████| 192/192 [00:14<00:00, 13.30it/s]\n"
     ]
    },
    {
     "name": "stdout",
     "output_type": "stream",
     "text": [
      "\n",
      "Epoch 21 result: \n",
      "Avg loss (train): 0.0090\n",
      "Avg acc (train): 0.9009\n",
      "Avg loss (val): 0.0086\n",
      "Avg acc (val): 0.9072\n",
      "----------\n",
      "\n",
      "Epoch 22/40\n",
      "----------\n"
     ]
    },
    {
     "name": "stderr",
     "output_type": "stream",
     "text": [
      "100%|████████████████████████████████████████████████████████████████████████████████| 670/670 [00:50<00:00, 13.17it/s]\n"
     ]
    },
    {
     "name": "stdout",
     "output_type": "stream",
     "text": [
      "\n"
     ]
    },
    {
     "name": "stderr",
     "output_type": "stream",
     "text": [
      "100%|████████████████████████████████████████████████████████████████████████████████| 192/192 [00:14<00:00, 13.29it/s]\n"
     ]
    },
    {
     "name": "stdout",
     "output_type": "stream",
     "text": [
      "\n",
      "Epoch 22 result: \n",
      "Avg loss (train): 0.0089\n",
      "Avg acc (train): 0.9004\n",
      "Avg loss (val): 0.0084\n",
      "Avg acc (val): 0.9096\n",
      "----------\n",
      "\n",
      "Epoch 23/40\n",
      "----------\n"
     ]
    },
    {
     "name": "stderr",
     "output_type": "stream",
     "text": [
      "100%|████████████████████████████████████████████████████████████████████████████████| 670/670 [00:50<00:00, 13.23it/s]\n"
     ]
    },
    {
     "name": "stdout",
     "output_type": "stream",
     "text": [
      "\n"
     ]
    },
    {
     "name": "stderr",
     "output_type": "stream",
     "text": [
      "100%|████████████████████████████████████████████████████████████████████████████████| 192/192 [00:14<00:00, 13.39it/s]\n"
     ]
    },
    {
     "name": "stdout",
     "output_type": "stream",
     "text": [
      "\n",
      "Epoch 23 result: \n",
      "Avg loss (train): 0.0087\n",
      "Avg acc (train): 0.9004\n",
      "Avg loss (val): 0.0085\n",
      "Avg acc (val): 0.9046\n",
      "----------\n",
      "\n",
      "Epoch 24/40\n",
      "----------\n"
     ]
    },
    {
     "name": "stderr",
     "output_type": "stream",
     "text": [
      "100%|████████████████████████████████████████████████████████████████████████████████| 670/670 [00:50<00:00, 13.22it/s]\n"
     ]
    },
    {
     "name": "stdout",
     "output_type": "stream",
     "text": [
      "\n"
     ]
    },
    {
     "name": "stderr",
     "output_type": "stream",
     "text": [
      "100%|████████████████████████████████████████████████████████████████████████████████| 192/192 [00:14<00:00, 13.24it/s]\n"
     ]
    },
    {
     "name": "stdout",
     "output_type": "stream",
     "text": [
      "\n",
      "Epoch 24 result: \n",
      "Avg loss (train): 0.0085\n",
      "Avg acc (train): 0.9059\n",
      "Avg loss (val): 0.0081\n",
      "Avg acc (val): 0.9147\n",
      "----------\n",
      "\n",
      "Epoch 25/40\n",
      "----------\n"
     ]
    },
    {
     "name": "stderr",
     "output_type": "stream",
     "text": [
      "100%|████████████████████████████████████████████████████████████████████████████████| 670/670 [00:51<00:00, 12.96it/s]\n"
     ]
    },
    {
     "name": "stdout",
     "output_type": "stream",
     "text": [
      "\n"
     ]
    },
    {
     "name": "stderr",
     "output_type": "stream",
     "text": [
      "100%|████████████████████████████████████████████████████████████████████████████████| 192/192 [00:14<00:00, 13.18it/s]\n"
     ]
    },
    {
     "name": "stdout",
     "output_type": "stream",
     "text": [
      "\n",
      "Epoch 25 result: \n",
      "Avg loss (train): 0.0084\n",
      "Avg acc (train): 0.9056\n",
      "Avg loss (val): 0.0080\n",
      "Avg acc (val): 0.9170\n",
      "----------\n",
      "\n",
      "Epoch 26/40\n",
      "----------\n"
     ]
    },
    {
     "name": "stderr",
     "output_type": "stream",
     "text": [
      "100%|████████████████████████████████████████████████████████████████████████████████| 670/670 [00:50<00:00, 13.29it/s]\n"
     ]
    },
    {
     "name": "stdout",
     "output_type": "stream",
     "text": [
      "\n"
     ]
    },
    {
     "name": "stderr",
     "output_type": "stream",
     "text": [
      "100%|████████████████████████████████████████████████████████████████████████████████| 192/192 [00:14<00:00, 13.30it/s]\n"
     ]
    },
    {
     "name": "stdout",
     "output_type": "stream",
     "text": [
      "\n",
      "Epoch 26 result: \n",
      "Avg loss (train): 0.0082\n",
      "Avg acc (train): 0.9067\n",
      "Avg loss (val): 0.0079\n",
      "Avg acc (val): 0.9190\n",
      "----------\n",
      "\n",
      "Epoch 27/40\n",
      "----------\n"
     ]
    },
    {
     "name": "stderr",
     "output_type": "stream",
     "text": [
      "100%|████████████████████████████████████████████████████████████████████████████████| 670/670 [00:51<00:00, 12.93it/s]\n"
     ]
    },
    {
     "name": "stdout",
     "output_type": "stream",
     "text": [
      "\n"
     ]
    },
    {
     "name": "stderr",
     "output_type": "stream",
     "text": [
      "100%|████████████████████████████████████████████████████████████████████████████████| 192/192 [00:14<00:00, 13.22it/s]\n"
     ]
    },
    {
     "name": "stdout",
     "output_type": "stream",
     "text": [
      "\n",
      "Epoch 27 result: \n",
      "Avg loss (train): 0.0081\n",
      "Avg acc (train): 0.9090\n",
      "Avg loss (val): 0.0078\n",
      "Avg acc (val): 0.9191\n",
      "----------\n",
      "\n",
      "Epoch 28/40\n",
      "----------\n"
     ]
    },
    {
     "name": "stderr",
     "output_type": "stream",
     "text": [
      "100%|████████████████████████████████████████████████████████████████████████████████| 670/670 [00:50<00:00, 13.29it/s]\n"
     ]
    },
    {
     "name": "stdout",
     "output_type": "stream",
     "text": [
      "\n"
     ]
    },
    {
     "name": "stderr",
     "output_type": "stream",
     "text": [
      "100%|████████████████████████████████████████████████████████████████████████████████| 192/192 [00:14<00:00, 13.35it/s]\n"
     ]
    },
    {
     "name": "stdout",
     "output_type": "stream",
     "text": [
      "\n",
      "Epoch 28 result: \n",
      "Avg loss (train): 0.0080\n",
      "Avg acc (train): 0.9120\n",
      "Avg loss (val): 0.0077\n",
      "Avg acc (val): 0.9186\n",
      "----------\n",
      "\n",
      "Epoch 29/40\n",
      "----------\n"
     ]
    },
    {
     "name": "stderr",
     "output_type": "stream",
     "text": [
      "100%|████████████████████████████████████████████████████████████████████████████████| 670/670 [00:50<00:00, 13.27it/s]\n"
     ]
    },
    {
     "name": "stdout",
     "output_type": "stream",
     "text": [
      "\n"
     ]
    },
    {
     "name": "stderr",
     "output_type": "stream",
     "text": [
      "100%|████████████████████████████████████████████████████████████████████████████████| 192/192 [00:14<00:00, 13.37it/s]\n"
     ]
    },
    {
     "name": "stdout",
     "output_type": "stream",
     "text": [
      "\n",
      "Epoch 29 result: \n",
      "Avg loss (train): 0.0078\n",
      "Avg acc (train): 0.9120\n",
      "Avg loss (val): 0.0075\n",
      "Avg acc (val): 0.9237\n",
      "----------\n",
      "\n",
      "Epoch 30/40\n",
      "----------\n"
     ]
    },
    {
     "name": "stderr",
     "output_type": "stream",
     "text": [
      "100%|████████████████████████████████████████████████████████████████████████████████| 670/670 [00:51<00:00, 12.92it/s]\n"
     ]
    },
    {
     "name": "stdout",
     "output_type": "stream",
     "text": [
      "\n"
     ]
    },
    {
     "name": "stderr",
     "output_type": "stream",
     "text": [
      "100%|████████████████████████████████████████████████████████████████████████████████| 192/192 [00:14<00:00, 13.16it/s]\n"
     ]
    },
    {
     "name": "stdout",
     "output_type": "stream",
     "text": [
      "\n",
      "Epoch 30 result: \n",
      "Avg loss (train): 0.0077\n",
      "Avg acc (train): 0.9137\n",
      "Avg loss (val): 0.0073\n",
      "Avg acc (val): 0.9248\n",
      "----------\n",
      "\n",
      "Epoch 31/40\n",
      "----------\n"
     ]
    },
    {
     "name": "stderr",
     "output_type": "stream",
     "text": [
      "100%|████████████████████████████████████████████████████████████████████████████████| 670/670 [00:50<00:00, 13.23it/s]\n"
     ]
    },
    {
     "name": "stdout",
     "output_type": "stream",
     "text": [
      "\n"
     ]
    },
    {
     "name": "stderr",
     "output_type": "stream",
     "text": [
      "100%|████████████████████████████████████████████████████████████████████████████████| 192/192 [00:14<00:00, 13.43it/s]\n"
     ]
    },
    {
     "name": "stdout",
     "output_type": "stream",
     "text": [
      "\n",
      "Epoch 31 result: \n",
      "Avg loss (train): 0.0076\n",
      "Avg acc (train): 0.9155\n",
      "Avg loss (val): 0.0075\n",
      "Avg acc (val): 0.9181\n",
      "----------\n",
      "\n",
      "Epoch 32/40\n",
      "----------\n"
     ]
    },
    {
     "name": "stderr",
     "output_type": "stream",
     "text": [
      "100%|████████████████████████████████████████████████████████████████████████████████| 670/670 [00:50<00:00, 13.20it/s]\n"
     ]
    },
    {
     "name": "stdout",
     "output_type": "stream",
     "text": [
      "\n"
     ]
    },
    {
     "name": "stderr",
     "output_type": "stream",
     "text": [
      "100%|████████████████████████████████████████████████████████████████████████████████| 192/192 [00:14<00:00, 13.35it/s]\n"
     ]
    },
    {
     "name": "stdout",
     "output_type": "stream",
     "text": [
      "\n",
      "Epoch 32 result: \n",
      "Avg loss (train): 0.0075\n",
      "Avg acc (train): 0.9170\n",
      "Avg loss (val): 0.0072\n",
      "Avg acc (val): 0.9263\n",
      "----------\n",
      "\n",
      "Epoch 33/40\n",
      "----------\n"
     ]
    },
    {
     "name": "stderr",
     "output_type": "stream",
     "text": [
      "100%|████████████████████████████████████████████████████████████████████████████████| 670/670 [00:51<00:00, 12.89it/s]\n"
     ]
    },
    {
     "name": "stdout",
     "output_type": "stream",
     "text": [
      "\n"
     ]
    },
    {
     "name": "stderr",
     "output_type": "stream",
     "text": [
      "100%|████████████████████████████████████████████████████████████████████████████████| 192/192 [00:14<00:00, 13.02it/s]\n"
     ]
    },
    {
     "name": "stdout",
     "output_type": "stream",
     "text": [
      "\n",
      "Epoch 33 result: \n",
      "Avg loss (train): 0.0074\n",
      "Avg acc (train): 0.9164\n",
      "Avg loss (val): 0.0069\n",
      "Avg acc (val): 0.9296\n",
      "----------\n",
      "\n",
      "Epoch 34/40\n",
      "----------\n"
     ]
    },
    {
     "name": "stderr",
     "output_type": "stream",
     "text": [
      "100%|████████████████████████████████████████████████████████████████████████████████| 670/670 [00:50<00:00, 13.26it/s]\n"
     ]
    },
    {
     "name": "stdout",
     "output_type": "stream",
     "text": [
      "\n"
     ]
    },
    {
     "name": "stderr",
     "output_type": "stream",
     "text": [
      "100%|████████████████████████████████████████████████████████████████████████████████| 192/192 [00:14<00:00, 13.38it/s]\n"
     ]
    },
    {
     "name": "stdout",
     "output_type": "stream",
     "text": [
      "\n",
      "Epoch 34 result: \n",
      "Avg loss (train): 0.0073\n",
      "Avg acc (train): 0.9190\n",
      "Avg loss (val): 0.0070\n",
      "Avg acc (val): 0.9250\n",
      "----------\n",
      "\n",
      "Epoch 35/40\n",
      "----------\n"
     ]
    },
    {
     "name": "stderr",
     "output_type": "stream",
     "text": [
      "100%|████████████████████████████████████████████████████████████████████████████████| 670/670 [00:50<00:00, 13.34it/s]\n"
     ]
    },
    {
     "name": "stdout",
     "output_type": "stream",
     "text": [
      "\n"
     ]
    },
    {
     "name": "stderr",
     "output_type": "stream",
     "text": [
      "100%|████████████████████████████████████████████████████████████████████████████████| 192/192 [00:14<00:00, 13.23it/s]\n"
     ]
    },
    {
     "name": "stdout",
     "output_type": "stream",
     "text": [
      "\n",
      "Epoch 35 result: \n",
      "Avg loss (train): 0.0072\n",
      "Avg acc (train): 0.9227\n",
      "Avg loss (val): 0.0068\n",
      "Avg acc (val): 0.9312\n",
      "----------\n",
      "\n",
      "Epoch 36/40\n",
      "----------\n"
     ]
    },
    {
     "name": "stderr",
     "output_type": "stream",
     "text": [
      "100%|████████████████████████████████████████████████████████████████████████████████| 670/670 [00:51<00:00, 12.92it/s]\n"
     ]
    },
    {
     "name": "stdout",
     "output_type": "stream",
     "text": [
      "\n"
     ]
    },
    {
     "name": "stderr",
     "output_type": "stream",
     "text": [
      "100%|████████████████████████████████████████████████████████████████████████████████| 192/192 [00:14<00:00, 13.15it/s]\n"
     ]
    },
    {
     "name": "stdout",
     "output_type": "stream",
     "text": [
      "\n",
      "Epoch 36 result: \n",
      "Avg loss (train): 0.0072\n",
      "Avg acc (train): 0.9205\n",
      "Avg loss (val): 0.0068\n",
      "Avg acc (val): 0.9296\n",
      "----------\n",
      "\n",
      "Epoch 37/40\n",
      "----------\n"
     ]
    },
    {
     "name": "stderr",
     "output_type": "stream",
     "text": [
      "100%|████████████████████████████████████████████████████████████████████████████████| 670/670 [00:51<00:00, 12.90it/s]\n"
     ]
    },
    {
     "name": "stdout",
     "output_type": "stream",
     "text": [
      "\n"
     ]
    },
    {
     "name": "stderr",
     "output_type": "stream",
     "text": [
      "100%|████████████████████████████████████████████████████████████████████████████████| 192/192 [00:14<00:00, 13.14it/s]\n"
     ]
    },
    {
     "name": "stdout",
     "output_type": "stream",
     "text": [
      "\n",
      "Epoch 37 result: \n",
      "Avg loss (train): 0.0070\n",
      "Avg acc (train): 0.9209\n",
      "Avg loss (val): 0.0066\n",
      "Avg acc (val): 0.9337\n",
      "----------\n",
      "\n",
      "Epoch 38/40\n",
      "----------\n"
     ]
    },
    {
     "name": "stderr",
     "output_type": "stream",
     "text": [
      "100%|████████████████████████████████████████████████████████████████████████████████| 670/670 [00:50<00:00, 13.30it/s]\n"
     ]
    },
    {
     "name": "stdout",
     "output_type": "stream",
     "text": [
      "\n"
     ]
    },
    {
     "name": "stderr",
     "output_type": "stream",
     "text": [
      "100%|████████████████████████████████████████████████████████████████████████████████| 192/192 [00:14<00:00, 13.36it/s]\n"
     ]
    },
    {
     "name": "stdout",
     "output_type": "stream",
     "text": [
      "\n",
      "Epoch 38 result: \n",
      "Avg loss (train): 0.0069\n",
      "Avg acc (train): 0.9228\n",
      "Avg loss (val): 0.0066\n",
      "Avg acc (val): 0.9320\n",
      "----------\n",
      "\n",
      "Epoch 39/40\n",
      "----------\n"
     ]
    },
    {
     "name": "stderr",
     "output_type": "stream",
     "text": [
      "100%|████████████████████████████████████████████████████████████████████████████████| 670/670 [00:50<00:00, 13.27it/s]\n"
     ]
    },
    {
     "name": "stdout",
     "output_type": "stream",
     "text": [
      "\n"
     ]
    },
    {
     "name": "stderr",
     "output_type": "stream",
     "text": [
      "100%|████████████████████████████████████████████████████████████████████████████████| 192/192 [00:14<00:00, 13.49it/s]"
     ]
    },
    {
     "name": "stdout",
     "output_type": "stream",
     "text": [
      "\n",
      "Epoch 39 result: \n",
      "Avg loss (train): 0.0069\n",
      "Avg acc (train): 0.9245\n",
      "Avg loss (val): 0.0065\n",
      "Avg acc (val): 0.9351\n",
      "----------\n",
      "\n",
      "\n",
      "Training completed in 43m 59s\n",
      "Best acc: 0.9351\n"
     ]
    },
    {
     "name": "stderr",
     "output_type": "stream",
     "text": [
      "\n"
     ]
    },
    {
     "data": {
      "text/plain": [
       "ResNet(\n",
       "  (conv1): Conv2d(3, 64, kernel_size=(7, 7), stride=(2, 2), padding=(3, 3), bias=False)\n",
       "  (bn1): BatchNorm2d(64, eps=1e-05, momentum=0.1, affine=True, track_running_stats=True)\n",
       "  (relu): ReLU(inplace=True)\n",
       "  (maxpool): MaxPool2d(kernel_size=3, stride=2, padding=1, dilation=1, ceil_mode=False)\n",
       "  (layer1): Sequential(\n",
       "    (0): BasicBlock(\n",
       "      (conv1): Conv2d(64, 64, kernel_size=(3, 3), stride=(1, 1), padding=(1, 1), bias=False)\n",
       "      (bn1): BatchNorm2d(64, eps=1e-05, momentum=0.1, affine=True, track_running_stats=True)\n",
       "      (relu): ReLU(inplace=True)\n",
       "      (conv2): Conv2d(64, 64, kernel_size=(3, 3), stride=(1, 1), padding=(1, 1), bias=False)\n",
       "      (bn2): BatchNorm2d(64, eps=1e-05, momentum=0.1, affine=True, track_running_stats=True)\n",
       "    )\n",
       "    (1): BasicBlock(\n",
       "      (conv1): Conv2d(64, 64, kernel_size=(3, 3), stride=(1, 1), padding=(1, 1), bias=False)\n",
       "      (bn1): BatchNorm2d(64, eps=1e-05, momentum=0.1, affine=True, track_running_stats=True)\n",
       "      (relu): ReLU(inplace=True)\n",
       "      (conv2): Conv2d(64, 64, kernel_size=(3, 3), stride=(1, 1), padding=(1, 1), bias=False)\n",
       "      (bn2): BatchNorm2d(64, eps=1e-05, momentum=0.1, affine=True, track_running_stats=True)\n",
       "    )\n",
       "  )\n",
       "  (layer2): Sequential(\n",
       "    (0): BasicBlock(\n",
       "      (conv1): Conv2d(64, 128, kernel_size=(3, 3), stride=(2, 2), padding=(1, 1), bias=False)\n",
       "      (bn1): BatchNorm2d(128, eps=1e-05, momentum=0.1, affine=True, track_running_stats=True)\n",
       "      (relu): ReLU(inplace=True)\n",
       "      (conv2): Conv2d(128, 128, kernel_size=(3, 3), stride=(1, 1), padding=(1, 1), bias=False)\n",
       "      (bn2): BatchNorm2d(128, eps=1e-05, momentum=0.1, affine=True, track_running_stats=True)\n",
       "      (downsample): Sequential(\n",
       "        (0): Conv2d(64, 128, kernel_size=(1, 1), stride=(2, 2), bias=False)\n",
       "        (1): BatchNorm2d(128, eps=1e-05, momentum=0.1, affine=True, track_running_stats=True)\n",
       "      )\n",
       "    )\n",
       "    (1): BasicBlock(\n",
       "      (conv1): Conv2d(128, 128, kernel_size=(3, 3), stride=(1, 1), padding=(1, 1), bias=False)\n",
       "      (bn1): BatchNorm2d(128, eps=1e-05, momentum=0.1, affine=True, track_running_stats=True)\n",
       "      (relu): ReLU(inplace=True)\n",
       "      (conv2): Conv2d(128, 128, kernel_size=(3, 3), stride=(1, 1), padding=(1, 1), bias=False)\n",
       "      (bn2): BatchNorm2d(128, eps=1e-05, momentum=0.1, affine=True, track_running_stats=True)\n",
       "    )\n",
       "  )\n",
       "  (layer3): Sequential(\n",
       "    (0): BasicBlock(\n",
       "      (conv1): Conv2d(128, 256, kernel_size=(3, 3), stride=(2, 2), padding=(1, 1), bias=False)\n",
       "      (bn1): BatchNorm2d(256, eps=1e-05, momentum=0.1, affine=True, track_running_stats=True)\n",
       "      (relu): ReLU(inplace=True)\n",
       "      (conv2): Conv2d(256, 256, kernel_size=(3, 3), stride=(1, 1), padding=(1, 1), bias=False)\n",
       "      (bn2): BatchNorm2d(256, eps=1e-05, momentum=0.1, affine=True, track_running_stats=True)\n",
       "      (downsample): Sequential(\n",
       "        (0): Conv2d(128, 256, kernel_size=(1, 1), stride=(2, 2), bias=False)\n",
       "        (1): BatchNorm2d(256, eps=1e-05, momentum=0.1, affine=True, track_running_stats=True)\n",
       "      )\n",
       "    )\n",
       "    (1): BasicBlock(\n",
       "      (conv1): Conv2d(256, 256, kernel_size=(3, 3), stride=(1, 1), padding=(1, 1), bias=False)\n",
       "      (bn1): BatchNorm2d(256, eps=1e-05, momentum=0.1, affine=True, track_running_stats=True)\n",
       "      (relu): ReLU(inplace=True)\n",
       "      (conv2): Conv2d(256, 256, kernel_size=(3, 3), stride=(1, 1), padding=(1, 1), bias=False)\n",
       "      (bn2): BatchNorm2d(256, eps=1e-05, momentum=0.1, affine=True, track_running_stats=True)\n",
       "    )\n",
       "  )\n",
       "  (layer4): Sequential(\n",
       "    (0): BasicBlock(\n",
       "      (conv1): Conv2d(256, 512, kernel_size=(3, 3), stride=(2, 2), padding=(1, 1), bias=False)\n",
       "      (bn1): BatchNorm2d(512, eps=1e-05, momentum=0.1, affine=True, track_running_stats=True)\n",
       "      (relu): ReLU(inplace=True)\n",
       "      (conv2): Conv2d(512, 512, kernel_size=(3, 3), stride=(1, 1), padding=(1, 1), bias=False)\n",
       "      (bn2): BatchNorm2d(512, eps=1e-05, momentum=0.1, affine=True, track_running_stats=True)\n",
       "      (downsample): Sequential(\n",
       "        (0): Conv2d(256, 512, kernel_size=(1, 1), stride=(2, 2), bias=False)\n",
       "        (1): BatchNorm2d(512, eps=1e-05, momentum=0.1, affine=True, track_running_stats=True)\n",
       "      )\n",
       "    )\n",
       "    (1): BasicBlock(\n",
       "      (conv1): Conv2d(512, 512, kernel_size=(3, 3), stride=(1, 1), padding=(1, 1), bias=False)\n",
       "      (bn1): BatchNorm2d(512, eps=1e-05, momentum=0.1, affine=True, track_running_stats=True)\n",
       "      (relu): ReLU(inplace=True)\n",
       "      (conv2): Conv2d(512, 512, kernel_size=(3, 3), stride=(1, 1), padding=(1, 1), bias=False)\n",
       "      (bn2): BatchNorm2d(512, eps=1e-05, momentum=0.1, affine=True, track_running_stats=True)\n",
       "    )\n",
       "  )\n",
       "  (avgpool): AdaptiveAvgPool2d(output_size=(1, 1))\n",
       "  (fc): Linear(in_features=512, out_features=2, bias=True)\n",
       ")"
      ]
     },
     "execution_count": 18,
     "metadata": {},
     "output_type": "execute_result"
    }
   ],
   "source": [
    "train_model(model, criterion, optimizer, scheduler, num_epochs=40)"
   ]
  },
  {
   "cell_type": "code",
   "execution_count": 20,
   "id": "a747f9d5",
   "metadata": {},
   "outputs": [
    {
     "data": {
      "image/png": "[encoded data removed]",
      "text/plain": [
       "<Figure size 640x480 with 1 Axes>"
      ]
     },
     "metadata": {},
     "output_type": "display_data"
    }
   ],
   "source": [
    "# Your existing code to plot the losses\n",
    "fig_loss, ax_loss = plt.subplots()\n",
    "ax_loss.plot(train_loss, label='train loss', marker='o')\n",
    "ax_loss.plot(val_loss, label='val loss', marker='o')\n",
    "ax_loss.legend()\n",
    "ax_loss.set_title('Loss per epoch')\n",
    "ax_loss.set_xlabel('Epochs')\n",
    "ax_loss.set_ylabel('Loss')\n",
    "\n",
    "# Customize y-axis limits from 0 to 0.06\n",
    "ax_loss.set_ylim(0, 0.04)\n",
    "\n",
    "# Set x-axis ticks and labels\n",
    "num_epochs = len(train_loss)\n",
    "ax_loss.set_xticks(range(0, num_epochs + 1, 5))  # Set ticks at intervals of 5\n",
    "ax_loss.set_xticklabels(range(0, num_epochs + 1, 5))  # Set labels corresponding to the ticks\n",
    "\n",
    "plt.show()\n"
   ]
  },
  {
   "cell_type": "code",
   "execution_count": 21,
   "id": "e3b84218",
   "metadata": {},
   "outputs": [
    {
     "data": {
      "image/png": "[encoded data removed]",
      "text/plain": [
       "<Figure size 640x480 with 1 Axes>"
      ]
     },
     "metadata": {},
     "output_type": "display_data"
    }
   ],
   "source": [
    "\n",
    "# Move tensors to CPU and extract values for plotting\n",
    "train_acc_cpu = [acc.cpu().item() for acc in train_acc]\n",
    "val_acc_cpu = [acc.cpu().item() for acc in val_acc]\n",
    "\n",
    "fig_acc, ax_acc = plt.subplots()\n",
    "ax_acc.plot(train_acc_cpu, label='train accuracy', marker='o')\n",
    "ax_acc.plot(val_acc_cpu, label='val accuracy', marker='o')\n",
    "ax_acc.legend()\n",
    "ax_acc.set_title('Accuracy per epoch')\n",
    "ax_acc.set_xlabel('Epochs')\n",
    "ax_acc.set_ylabel('Accuracy')\n",
    "\n",
    "# Set x-axis ticks and labels\n",
    "num_epochs = len(train_acc_cpu)\n",
    "ax_acc.set_xticks(range(0, num_epochs + 1, 5))  # Set ticks at intervals of 5\n",
    "ax_acc.set_xticklabels(range(0, num_epochs + 1, 5))  # Set labels corresponding to the ticks\n",
    "\n",
    "# Customize y-axis limits from 70 to 100\n",
    "ax_acc.set_ylim(0.65, 1)\n",
    "\n",
    "plt.show()  # Display the accuracy plot\n"
   ]
  },
  {
   "cell_type": "code",
   "execution_count": 22,
   "id": "8569e5d1",
   "metadata": {},
   "outputs": [
    {
     "name": "stderr",
     "output_type": "stream",
     "text": [
      "100%|██████████████████████████████████████████████████████████████████████████████████| 96/96 [00:06<00:00, 15.08it/s]"
     ]
    },
    {
     "name": "stdout",
     "output_type": "stream",
     "text": [
      "test loss: 0.216795 acc: 0.925490\n"
     ]
    },
    {
     "name": "stderr",
     "output_type": "stream",
     "text": [
      "\n"
     ]
    }
   ],
   "source": [
    "running_loss = 0.0\n",
    "running_correct = 0\n",
    "model.eval()\n",
    "# Iterate over batches\n",
    "for inputs, labels in tqdm(test_dataloader):\n",
    "    inputs = inputs.to(device)\n",
    "    labels = labels.to(device)\n",
    "\n",
    "    with torch.set_grad_enabled(False):\n",
    "        outputs = model(inputs)\n",
    "        _, preds = torch.max(outputs, 1)\n",
    "        loss = criterion(outputs, labels)\n",
    "\n",
    "    running_loss += loss.item() * inputs.size(0)\n",
    "    running_correct += torch.sum(preds==labels.data)\n",
    "    \n",
    "epoch_loss = running_loss / test_len\n",
    "epoch_acc = running_correct.double() / test_len\n",
    "\n",
    "print('{} loss: {:4f} acc: {:4f}'.format('test', epoch_loss, epoch_acc))"
   ]
  },
  {
   "cell_type": "code",
   "execution_count": 31,
   "id": "99b2e948",
   "metadata": {
    "scrolled": true
   },
   "outputs": [
    {
     "name": "stderr",
     "output_type": "stream",
     "text": [
      "\n",
      "  0%|                                                                                           | 0/96 [00:00<?, ?it/s]\u001b[A\n",
      "  1%|▊                                                                                  | 1/96 [00:00<00:23,  3.99it/s]\u001b[A\n",
      "  2%|█▋                                                                                 | 2/96 [00:00<00:18,  4.98it/s]\u001b[A\n",
      "  3%|██▌                                                                                | 3/96 [00:00<00:14,  6.34it/s]\u001b[A\n",
      "  4%|███▍                                                                               | 4/96 [00:00<00:12,  7.11it/s]\u001b[A\n",
      "  5%|████▎                                                                              | 5/96 [00:00<00:11,  7.88it/s]\u001b[A\n",
      "  7%|██████                                                                             | 7/96 [00:00<00:08, 10.77it/s]\u001b[A\n",
      "  9%|███████▊                                                                           | 9/96 [00:00<00:06, 12.81it/s]\u001b[A\n",
      " 11%|█████████▍                                                                        | 11/96 [00:01<00:06, 14.12it/s]\u001b[A\n",
      " 14%|███████████                                                                       | 13/96 [00:01<00:05, 14.97it/s]\u001b[A\n",
      " 16%|████████████▊                                                                     | 15/96 [00:01<00:05, 15.60it/s]\u001b[A\n",
      " 18%|██████████████▌                                                                   | 17/96 [00:01<00:05, 15.63it/s]\u001b[A\n",
      " 20%|████████████████▏                                                                 | 19/96 [00:01<00:05, 15.27it/s]\u001b[A\n",
      " 22%|█████████████████▉                                                                | 21/96 [00:01<00:04, 15.70it/s]\u001b[A\n",
      " 24%|███████████████████▋                                                              | 23/96 [00:01<00:04, 15.97it/s]\u001b[A\n",
      " 26%|█████████████████████▎                                                            | 25/96 [00:01<00:04, 16.36it/s]\u001b[A\n",
      " 28%|███████████████████████                                                           | 27/96 [00:02<00:04, 16.55it/s]\u001b[A\n",
      " 30%|████████████████████████▊                                                         | 29/96 [00:02<00:03, 16.77it/s]\u001b[A\n",
      " 32%|██████████████████████████▍                                                       | 31/96 [00:02<00:03, 16.72it/s]\u001b[A\n",
      " 34%|████████████████████████████▏                                                     | 33/96 [00:02<00:03, 16.94it/s]\u001b[A\n",
      " 36%|█████████████████████████████▉                                                    | 35/96 [00:02<00:03, 16.75it/s]\u001b[A\n",
      " 39%|███████████████████████████████▌                                                  | 37/96 [00:02<00:03, 16.58it/s]\u001b[A\n",
      " 41%|█████████████████████████████████▎                                                | 39/96 [00:02<00:03, 16.51it/s]\u001b[A\n",
      " 43%|███████████████████████████████████                                               | 41/96 [00:02<00:03, 16.49it/s]\u001b[A\n",
      " 45%|████████████████████████████████████▋                                             | 43/96 [00:03<00:03, 16.49it/s]\u001b[A\n",
      " 47%|██████████████████████████████████████▍                                           | 45/96 [00:03<00:03, 16.16it/s]\u001b[A\n",
      " 49%|████████████████████████████████████████▏                                         | 47/96 [00:03<00:02, 16.41it/s]\u001b[A\n",
      " 51%|█████████████████████████████████████████▊                                        | 49/96 [00:03<00:02, 16.43it/s]\u001b[A\n",
      " 53%|███████████████████████████████████████████▌                                      | 51/96 [00:03<00:02, 16.20it/s]\u001b[A\n",
      " 55%|█████████████████████████████████████████████▎                                    | 53/96 [00:03<00:02, 16.16it/s]\u001b[A\n",
      " 57%|██████████████████████████████████████████████▉                                   | 55/96 [00:03<00:02, 15.64it/s]\u001b[A\n",
      " 59%|████████████████████████████████████████████████▋                                 | 57/96 [00:03<00:02, 15.44it/s]\u001b[A\n",
      " 61%|██████████████████████████████████████████████████▍                               | 59/96 [00:04<00:02, 15.27it/s]\u001b[A\n",
      " 64%|████████████████████████████████████████████████████                              | 61/96 [00:04<00:02, 15.54it/s]\u001b[A\n",
      " 66%|█████████████████████████████████████████████████████▊                            | 63/96 [00:04<00:02, 15.55it/s]\u001b[A\n",
      " 68%|███████████████████████████████████████████████████████▌                          | 65/96 [00:04<00:01, 15.59it/s]\u001b[A\n",
      " 70%|█████████████████████████████████████████████████████████▏                        | 67/96 [00:04<00:01, 15.23it/s]\u001b[A\n",
      " 72%|██████████████████████████████████████████████████████████▉                       | 69/96 [00:04<00:01, 15.33it/s]\u001b[A\n",
      " 74%|████████████████████████████████████████████████████████████▋                     | 71/96 [00:04<00:01, 15.02it/s]\u001b[A\n",
      " 76%|██████████████████████████████████████████████████████████████▎                   | 73/96 [00:04<00:01, 15.18it/s]\u001b[A\n",
      " 78%|████████████████████████████████████████████████████████████████                  | 75/96 [00:05<00:01, 15.02it/s]\u001b[A\n",
      " 80%|█████████████████████████████████████████████████████████████████▊                | 77/96 [00:05<00:01, 14.75it/s]\u001b[A\n",
      " 82%|███████████████████████████████████████████████████████████████████▍              | 79/96 [00:05<00:01, 14.63it/s]\u001b[A\n",
      " 84%|█████████████████████████████████████████████████████████████████████▏            | 81/96 [00:05<00:01, 14.69it/s]\u001b[A\n",
      " 86%|██████████████████████████████████████████████████████████████████████▉           | 83/96 [00:05<00:00, 14.88it/s]\u001b[A\n",
      " 89%|████████████████████████████████████████████████████████████████████████▌         | 85/96 [00:05<00:00, 14.78it/s]\u001b[A\n",
      " 91%|██████████████████████████████████████████████████████████████████████████▎       | 87/96 [00:05<00:00, 14.97it/s]\u001b[A\n",
      " 93%|████████████████████████████████████████████████████████████████████████████      | 89/96 [00:06<00:00, 14.71it/s]\u001b[A\n",
      " 95%|█████████████████████████████████████████████████████████████████████████████▋    | 91/96 [00:06<00:00, 14.79it/s]\u001b[A\n",
      " 97%|███████████████████████████████████████████████████████████████████████████████▍  | 93/96 [00:06<00:00, 15.02it/s]\u001b[A\n",
      "100%|██████████████████████████████████████████████████████████████████████████████████| 96/96 [00:06<00:00, 14.76it/s]\u001b[A\n"
     ]
    },
    {
     "name": "stdout",
     "output_type": "stream",
     "text": [
      "Epoch 1 test loss: 0.2168 test acc: 0.9255\n"
     ]
    },
    {
     "name": "stderr",
     "output_type": "stream",
     "text": [
      "\n",
      "  0%|                                                                                           | 0/96 [00:00<?, ?it/s]\u001b[A\n",
      "  2%|█▋                                                                                 | 2/96 [00:00<00:05, 15.68it/s]\u001b[A\n",
      "  4%|███▍                                                                               | 4/96 [00:00<00:06, 15.27it/s]\u001b[A\n",
      "  6%|█████▏                                                                             | 6/96 [00:00<00:05, 15.13it/s]\u001b[A\n",
      "  8%|██████▉                                                                            | 8/96 [00:00<00:06, 14.64it/s]\u001b[A\n",
      " 10%|████████▌                                                                         | 10/96 [00:00<00:05, 14.80it/s]\u001b[A\n",
      " 12%|██████████▎                                                                       | 12/96 [00:00<00:05, 14.60it/s]\u001b[A\n",
      " 15%|███████████▉                                                                      | 14/96 [00:00<00:05, 14.52it/s]\u001b[A\n",
      " 17%|█████████████▋                                                                    | 16/96 [00:01<00:05, 14.84it/s]\u001b[A\n",
      " 19%|███████████████▍                                                                  | 18/96 [00:01<00:05, 14.82it/s]\u001b[A\n",
      " 21%|█████████████████                                                                 | 20/96 [00:01<00:05, 14.87it/s]\u001b[A\n",
      " 23%|██████████████████▊                                                               | 22/96 [00:01<00:04, 14.82it/s]\u001b[A\n",
      " 25%|████████████████████▌                                                             | 24/96 [00:01<00:04, 14.94it/s]\u001b[A\n",
      " 27%|██████████████████████▏                                                           | 26/96 [00:01<00:04, 14.49it/s]\u001b[A\n",
      " 29%|███████████████████████▉                                                          | 28/96 [00:01<00:04, 14.45it/s]\u001b[A\n",
      " 31%|█████████████████████████▋                                                        | 30/96 [00:02<00:04, 14.70it/s]\u001b[A\n",
      " 33%|███████████████████████████▎                                                      | 32/96 [00:02<00:04, 14.65it/s]\u001b[A\n",
      " 35%|█████████████████████████████                                                     | 34/96 [00:02<00:04, 14.37it/s]\u001b[A\n",
      " 38%|██████████████████████████████▊                                                   | 36/96 [00:02<00:04, 14.68it/s]\u001b[A\n",
      " 40%|████████████████████████████████▍                                                 | 38/96 [00:02<00:04, 14.30it/s]\u001b[A\n",
      " 42%|██████████████████████████████████▏                                               | 40/96 [00:02<00:03, 14.47it/s]\u001b[A\n",
      " 44%|███████████████████████████████████▉                                              | 42/96 [00:02<00:03, 14.27it/s]\u001b[A\n",
      " 46%|█████████████████████████████████████▌                                            | 44/96 [00:03<00:03, 14.14it/s]\u001b[A\n",
      " 48%|███████████████████████████████████████▎                                          | 46/96 [00:03<00:03, 14.15it/s]\u001b[A\n",
      " 50%|█████████████████████████████████████████                                         | 48/96 [00:03<00:03, 14.42it/s]\u001b[A\n",
      " 52%|██████████████████████████████████████████▋                                       | 50/96 [00:03<00:03, 14.49it/s]\u001b[A\n",
      " 54%|████████████████████████████████████████████▍                                     | 52/96 [00:03<00:03, 14.44it/s]\u001b[A\n",
      " 56%|██████████████████████████████████████████████▏                                   | 54/96 [00:03<00:02, 14.14it/s]\u001b[A\n",
      " 58%|███████████████████████████████████████████████▊                                  | 56/96 [00:03<00:02, 14.05it/s]\u001b[A\n",
      " 60%|█████████████████████████████████████████████████▌                                | 58/96 [00:03<00:02, 14.23it/s]\u001b[A\n",
      " 62%|███████████████████████████████████████████████████▎                              | 60/96 [00:04<00:02, 14.21it/s]\u001b[A\n",
      " 65%|████████████████████████████████████████████████████▉                             | 62/96 [00:04<00:02, 14.07it/s]\u001b[A\n",
      " 67%|██████████████████████████████████████████████████████▋                           | 64/96 [00:04<00:02, 14.21it/s]\u001b[A\n",
      " 69%|████████████████████████████████████████████████████████▍                         | 66/96 [00:04<00:02, 14.34it/s]\u001b[A\n",
      " 71%|██████████████████████████████████████████████████████████                        | 68/96 [00:04<00:01, 14.38it/s]\u001b[A\n",
      " 73%|███████████████████████████████████████████████████████████▊                      | 70/96 [00:04<00:01, 14.46it/s]\u001b[A\n",
      " 75%|█████████████████████████████████████████████████████████████▌                    | 72/96 [00:04<00:01, 14.46it/s]\u001b[A\n",
      " 77%|███████████████████████████████████████████████████████████████▏                  | 74/96 [00:05<00:01, 14.00it/s]\u001b[A\n",
      " 79%|████████████████████████████████████████████████████████████████▉                 | 76/96 [00:05<00:01, 13.53it/s]\u001b[A\n",
      " 81%|██████████████████████████████████████████████████████████████████▋               | 78/96 [00:05<00:01, 13.60it/s]\u001b[A\n",
      " 83%|████████████████████████████████████████████████████████████████████▎             | 80/96 [00:05<00:01, 13.59it/s]\u001b[A\n",
      " 85%|██████████████████████████████████████████████████████████████████████            | 82/96 [00:05<00:01, 13.69it/s]\u001b[A\n",
      " 88%|███████████████████████████████████████████████████████████████████████▊          | 84/96 [00:05<00:00, 13.38it/s]\u001b[A\n",
      " 90%|█████████████████████████████████████████████████████████████████████████▍        | 86/96 [00:06<00:00, 13.49it/s]\u001b[A\n",
      " 92%|███████████████████████████████████████████████████████████████████████████▏      | 88/96 [00:06<00:00, 13.68it/s]\u001b[A\n",
      " 94%|████████████████████████████████████████████████████████████████████████████▉     | 90/96 [00:06<00:00, 13.76it/s]\u001b[A\n",
      " 96%|██████████████████████████████████████████████████████████████████████████████▌   | 92/96 [00:06<00:00, 13.73it/s]\u001b[A\n",
      " 98%|████████████████████████████████████████████████████████████████████████████████▎ | 94/96 [00:06<00:00, 13.83it/s]\u001b[A\n",
      "100%|██████████████████████████████████████████████████████████████████████████████████| 96/96 [00:06<00:00, 14.30it/s]\u001b[A\n"
     ]
    },
    {
     "name": "stdout",
     "output_type": "stream",
     "text": [
      "Epoch 2 test loss: 0.2168 test acc: 0.9255\n"
     ]
    },
    {
     "name": "stderr",
     "output_type": "stream",
     "text": [
      "\n",
      "  0%|                                                                                           | 0/96 [00:00<?, ?it/s]\u001b[A\n",
      "  2%|█▋                                                                                 | 2/96 [00:00<00:07, 12.71it/s]\u001b[A\n",
      "  4%|███▍                                                                               | 4/96 [00:00<00:06, 13.57it/s]\u001b[A\n",
      "  6%|█████▏                                                                             | 6/96 [00:00<00:06, 14.04it/s]\u001b[A\n",
      "  8%|██████▉                                                                            | 8/96 [00:00<00:06, 14.12it/s]\u001b[A\n",
      " 10%|████████▌                                                                         | 10/96 [00:00<00:06, 14.27it/s]\u001b[A\n",
      " 12%|██████████▎                                                                       | 12/96 [00:00<00:05, 14.46it/s]\u001b[A\n",
      " 15%|███████████▉                                                                      | 14/96 [00:00<00:05, 14.03it/s]\u001b[A\n",
      " 17%|█████████████▋                                                                    | 16/96 [00:01<00:05, 14.28it/s]\u001b[A\n",
      " 19%|███████████████▍                                                                  | 18/96 [00:01<00:05, 14.14it/s]\u001b[A\n",
      " 21%|█████████████████                                                                 | 20/96 [00:01<00:05, 13.81it/s]\u001b[A\n",
      " 23%|██████████████████▊                                                               | 22/96 [00:01<00:05, 13.85it/s]\u001b[A\n",
      " 25%|████████████████████▌                                                             | 24/96 [00:01<00:05, 13.88it/s]\u001b[A\n",
      " 27%|██████████████████████▏                                                           | 26/96 [00:01<00:04, 14.12it/s]\u001b[A\n",
      " 29%|███████████████████████▉                                                          | 28/96 [00:01<00:04, 14.06it/s]\u001b[A\n",
      " 31%|█████████████████████████▋                                                        | 30/96 [00:02<00:04, 13.99it/s]\u001b[A\n",
      " 33%|███████████████████████████▎                                                      | 32/96 [00:02<00:04, 14.01it/s]\u001b[A\n",
      " 35%|█████████████████████████████                                                     | 34/96 [00:02<00:04, 14.01it/s]\u001b[A\n",
      " 38%|██████████████████████████████▊                                                   | 36/96 [00:02<00:04, 14.17it/s]\u001b[A\n",
      " 40%|████████████████████████████████▍                                                 | 38/96 [00:02<00:04, 14.07it/s]\u001b[A\n",
      " 42%|██████████████████████████████████▏                                               | 40/96 [00:02<00:03, 14.03it/s]\u001b[A\n",
      " 44%|███████████████████████████████████▉                                              | 42/96 [00:03<00:03, 13.86it/s]\u001b[A\n",
      " 46%|█████████████████████████████████████▌                                            | 44/96 [00:03<00:03, 14.15it/s]\u001b[A\n",
      " 48%|███████████████████████████████████████▎                                          | 46/96 [00:03<00:03, 14.30it/s]\u001b[A\n",
      " 50%|█████████████████████████████████████████                                         | 48/96 [00:03<00:03, 14.43it/s]\u001b[A\n",
      " 52%|██████████████████████████████████████████▋                                       | 50/96 [00:03<00:03, 14.41it/s]\u001b[A\n",
      " 54%|████████████████████████████████████████████▍                                     | 52/96 [00:03<00:03, 14.29it/s]\u001b[A\n",
      " 56%|██████████████████████████████████████████████▏                                   | 54/96 [00:03<00:02, 14.34it/s]\u001b[A\n",
      " 58%|███████████████████████████████████████████████▊                                  | 56/96 [00:03<00:02, 14.45it/s]\u001b[A\n",
      " 60%|█████████████████████████████████████████████████▌                                | 58/96 [00:04<00:02, 14.39it/s]\u001b[A\n",
      " 62%|███████████████████████████████████████████████████▎                              | 60/96 [00:04<00:02, 14.16it/s]\u001b[A\n",
      " 65%|████████████████████████████████████████████████████▉                             | 62/96 [00:04<00:02, 14.13it/s]\u001b[A\n",
      " 67%|██████████████████████████████████████████████████████▋                           | 64/96 [00:04<00:02, 14.04it/s]\u001b[A\n",
      " 69%|████████████████████████████████████████████████████████▍                         | 66/96 [00:04<00:02, 14.22it/s]\u001b[A\n",
      " 71%|██████████████████████████████████████████████████████████                        | 68/96 [00:04<00:01, 14.47it/s]\u001b[A\n",
      " 73%|███████████████████████████████████████████████████████████▊                      | 70/96 [00:04<00:01, 14.43it/s]\u001b[A\n",
      " 75%|█████████████████████████████████████████████████████████████▌                    | 72/96 [00:05<00:01, 14.43it/s]\u001b[A\n",
      " 77%|███████████████████████████████████████████████████████████████▏                  | 74/96 [00:05<00:01, 14.16it/s]\u001b[A\n",
      " 79%|████████████████████████████████████████████████████████████████▉                 | 76/96 [00:05<00:01, 14.34it/s]\u001b[A\n",
      " 81%|██████████████████████████████████████████████████████████████████▋               | 78/96 [00:05<00:01, 14.33it/s]\u001b[A\n",
      " 83%|████████████████████████████████████████████████████████████████████▎             | 80/96 [00:05<00:01, 14.40it/s]\u001b[A\n",
      " 85%|██████████████████████████████████████████████████████████████████████            | 82/96 [00:05<00:00, 14.47it/s]\u001b[A\n",
      " 88%|███████████████████████████████████████████████████████████████████████▊          | 84/96 [00:05<00:00, 14.59it/s]\u001b[A\n",
      " 90%|█████████████████████████████████████████████████████████████████████████▍        | 86/96 [00:06<00:00, 14.35it/s]\u001b[A\n",
      " 92%|███████████████████████████████████████████████████████████████████████████▏      | 88/96 [00:06<00:00, 14.57it/s]\u001b[A\n",
      " 94%|████████████████████████████████████████████████████████████████████████████▉     | 90/96 [00:06<00:00, 14.47it/s]\u001b[A\n",
      " 96%|██████████████████████████████████████████████████████████████████████████████▌   | 92/96 [00:06<00:00, 14.20it/s]\u001b[A\n",
      " 98%|████████████████████████████████████████████████████████████████████████████████▎ | 94/96 [00:06<00:00, 14.43it/s]\u001b[A\n",
      "100%|██████████████████████████████████████████████████████████████████████████████████| 96/96 [00:06<00:00, 14.26it/s]\u001b[A\n"
     ]
    },
    {
     "name": "stdout",
     "output_type": "stream",
     "text": [
      "Epoch 3 test loss: 0.2168 test acc: 0.9255\n"
     ]
    },
    {
     "name": "stderr",
     "output_type": "stream",
     "text": [
      "\n",
      "  0%|                                                                                           | 0/96 [00:00<?, ?it/s]\u001b[A\n",
      "  2%|█▋                                                                                 | 2/96 [00:00<00:06, 14.51it/s]\u001b[A\n",
      "  4%|███▍                                                                               | 4/96 [00:00<00:06, 14.79it/s]\u001b[A\n",
      "  6%|█████▏                                                                             | 6/96 [00:00<00:06, 14.73it/s]\u001b[A\n",
      "  8%|██████▉                                                                            | 8/96 [00:00<00:06, 14.65it/s]\u001b[A\n",
      " 10%|████████▌                                                                         | 10/96 [00:00<00:05, 14.73it/s]\u001b[A\n",
      " 12%|██████████▎                                                                       | 12/96 [00:00<00:05, 14.83it/s]\u001b[A\n",
      " 15%|███████████▉                                                                      | 14/96 [00:00<00:05, 14.88it/s]\u001b[A\n",
      " 17%|█████████████▋                                                                    | 16/96 [00:01<00:05, 15.02it/s]\u001b[A\n",
      " 19%|███████████████▍                                                                  | 18/96 [00:01<00:05, 14.57it/s]\u001b[A\n",
      " 21%|█████████████████                                                                 | 20/96 [00:01<00:05, 14.49it/s]\u001b[A\n",
      " 23%|██████████████████▊                                                               | 22/96 [00:01<00:05, 14.57it/s]\u001b[A\n",
      " 25%|████████████████████▌                                                             | 24/96 [00:01<00:04, 14.70it/s]\u001b[A\n",
      " 27%|██████████████████████▏                                                           | 26/96 [00:01<00:04, 14.71it/s]\u001b[A\n",
      " 29%|███████████████████████▉                                                          | 28/96 [00:01<00:04, 14.50it/s]\u001b[A\n",
      " 31%|█████████████████████████▋                                                        | 30/96 [00:02<00:04, 14.67it/s]\u001b[A\n",
      " 33%|███████████████████████████▎                                                      | 32/96 [00:02<00:04, 14.76it/s]\u001b[A\n",
      " 35%|█████████████████████████████                                                     | 34/96 [00:02<00:04, 14.70it/s]\u001b[A\n",
      " 38%|██████████████████████████████▊                                                   | 36/96 [00:02<00:04, 14.62it/s]\u001b[A\n",
      " 40%|████████████████████████████████▍                                                 | 38/96 [00:02<00:03, 14.54it/s]\u001b[A\n",
      " 42%|██████████████████████████████████▏                                               | 40/96 [00:02<00:03, 14.60it/s]\u001b[A\n",
      " 44%|███████████████████████████████████▉                                              | 42/96 [00:02<00:03, 14.62it/s]\u001b[A\n",
      " 46%|█████████████████████████████████████▌                                            | 44/96 [00:03<00:03, 14.57it/s]\u001b[A\n",
      " 48%|███████████████████████████████████████▎                                          | 46/96 [00:03<00:03, 14.50it/s]\u001b[A\n",
      " 50%|█████████████████████████████████████████                                         | 48/96 [00:03<00:03, 14.32it/s]\u001b[A\n",
      " 52%|██████████████████████████████████████████▋                                       | 50/96 [00:03<00:03, 14.23it/s]\u001b[A\n",
      " 54%|████████████████████████████████████████████▍                                     | 52/96 [00:03<00:03, 14.05it/s]\u001b[A\n",
      " 56%|██████████████████████████████████████████████▏                                   | 54/96 [00:03<00:03, 13.91it/s]\u001b[A\n",
      " 58%|███████████████████████████████████████████████▊                                  | 56/96 [00:03<00:02, 13.92it/s]\u001b[A\n",
      " 60%|█████████████████████████████████████████████████▌                                | 58/96 [00:04<00:02, 14.10it/s]\u001b[A\n",
      " 62%|███████████████████████████████████████████████████▎                              | 60/96 [00:04<00:02, 14.14it/s]\u001b[A\n",
      " 65%|████████████████████████████████████████████████████▉                             | 62/96 [00:04<00:02, 14.32it/s]\u001b[A\n",
      " 67%|██████████████████████████████████████████████████████▋                           | 64/96 [00:04<00:02, 13.85it/s]\u001b[A\n",
      " 69%|████████████████████████████████████████████████████████▍                         | 66/96 [00:04<00:02, 13.77it/s]\u001b[A\n",
      " 71%|██████████████████████████████████████████████████████████                        | 68/96 [00:04<00:02, 13.81it/s]\u001b[A\n",
      " 73%|███████████████████████████████████████████████████████████▊                      | 70/96 [00:04<00:01, 13.81it/s]\u001b[A\n",
      " 75%|█████████████████████████████████████████████████████████████▌                    | 72/96 [00:05<00:01, 13.79it/s]\u001b[A\n",
      " 77%|███████████████████████████████████████████████████████████████▏                  | 74/96 [00:05<00:01, 13.81it/s]\u001b[A\n",
      " 79%|████████████████████████████████████████████████████████████████▉                 | 76/96 [00:05<00:01, 13.96it/s]\u001b[A\n",
      " 81%|██████████████████████████████████████████████████████████████████▋               | 78/96 [00:05<00:01, 13.75it/s]\u001b[A\n",
      " 83%|████████████████████████████████████████████████████████████████████▎             | 80/96 [00:05<00:01, 13.61it/s]\u001b[A\n",
      " 85%|██████████████████████████████████████████████████████████████████████            | 82/96 [00:05<00:01, 13.74it/s]\u001b[A\n",
      " 88%|███████████████████████████████████████████████████████████████████████▊          | 84/96 [00:05<00:00, 13.85it/s]\u001b[A\n",
      " 90%|█████████████████████████████████████████████████████████████████████████▍        | 86/96 [00:06<00:00, 13.88it/s]\u001b[A\n",
      " 92%|███████████████████████████████████████████████████████████████████████████▏      | 88/96 [00:06<00:00, 13.75it/s]\u001b[A\n",
      " 94%|████████████████████████████████████████████████████████████████████████████▉     | 90/96 [00:06<00:00, 13.89it/s]\u001b[A\n",
      " 96%|██████████████████████████████████████████████████████████████████████████████▌   | 92/96 [00:06<00:00, 13.88it/s]\u001b[A\n",
      " 98%|████████████████████████████████████████████████████████████████████████████████▎ | 94/96 [00:06<00:00, 13.84it/s]\u001b[A\n",
      "100%|██████████████████████████████████████████████████████████████████████████████████| 96/96 [00:06<00:00, 14.26it/s]\u001b[A\n"
     ]
    },
    {
     "name": "stdout",
     "output_type": "stream",
     "text": [
      "Epoch 4 test loss: 0.2168 test acc: 0.9255\n"
     ]
    },
    {
     "name": "stderr",
     "output_type": "stream",
     "text": [
      "\n",
      "  0%|                                                                                           | 0/96 [00:00<?, ?it/s]\u001b[A\n",
      "  2%|█▋                                                                                 | 2/96 [00:00<00:06, 13.57it/s]\u001b[A\n",
      "  4%|███▍                                                                               | 4/96 [00:00<00:06, 14.18it/s]\u001b[A\n",
      "  6%|█████▏                                                                             | 6/96 [00:00<00:06, 13.94it/s]\u001b[A\n",
      "  8%|██████▉                                                                            | 8/96 [00:00<00:06, 14.05it/s]\u001b[A\n",
      " 10%|████████▌                                                                         | 10/96 [00:00<00:06, 14.01it/s]\u001b[A\n",
      " 12%|██████████▎                                                                       | 12/96 [00:00<00:05, 14.03it/s]\u001b[A\n",
      " 15%|███████████▉                                                                      | 14/96 [00:00<00:05, 14.16it/s]\u001b[A\n",
      " 17%|█████████████▋                                                                    | 16/96 [00:01<00:05, 14.18it/s]\u001b[A\n",
      " 19%|███████████████▍                                                                  | 18/96 [00:01<00:05, 14.10it/s]\u001b[A\n",
      " 21%|█████████████████                                                                 | 20/96 [00:01<00:05, 14.18it/s]\u001b[A\n",
      " 23%|██████████████████▊                                                               | 22/96 [00:01<00:05, 13.97it/s]\u001b[A\n",
      " 25%|████████████████████▌                                                             | 24/96 [00:01<00:05, 13.88it/s]\u001b[A\n",
      " 27%|██████████████████████▏                                                           | 26/96 [00:01<00:05, 13.75it/s]\u001b[A\n",
      " 29%|███████████████████████▉                                                          | 28/96 [00:02<00:04, 13.84it/s]\u001b[A\n",
      " 31%|█████████████████████████▋                                                        | 30/96 [00:02<00:04, 14.04it/s]\u001b[A\n",
      " 33%|███████████████████████████▎                                                      | 32/96 [00:02<00:04, 14.10it/s]\u001b[A\n",
      " 35%|█████████████████████████████                                                     | 34/96 [00:02<00:04, 14.13it/s]\u001b[A\n",
      " 38%|██████████████████████████████▊                                                   | 36/96 [00:02<00:04, 13.93it/s]\u001b[A\n",
      " 40%|████████████████████████████████▍                                                 | 38/96 [00:02<00:04, 13.93it/s]\u001b[A\n",
      " 42%|██████████████████████████████████▏                                               | 40/96 [00:02<00:03, 14.02it/s]\u001b[A\n",
      " 44%|███████████████████████████████████▉                                              | 42/96 [00:02<00:03, 14.05it/s]\u001b[A\n",
      " 46%|█████████████████████████████████████▌                                            | 44/96 [00:03<00:03, 13.91it/s]\u001b[A\n",
      " 48%|███████████████████████████████████████▎                                          | 46/96 [00:03<00:03, 14.07it/s]\u001b[A\n",
      " 50%|█████████████████████████████████████████                                         | 48/96 [00:03<00:03, 13.89it/s]\u001b[A\n",
      " 52%|██████████████████████████████████████████▋                                       | 50/96 [00:03<00:03, 13.96it/s]\u001b[A\n",
      " 54%|████████████████████████████████████████████▍                                     | 52/96 [00:03<00:03, 13.76it/s]\u001b[A\n",
      " 56%|██████████████████████████████████████████████▏                                   | 54/96 [00:03<00:03, 13.67it/s]\u001b[A\n",
      " 58%|███████████████████████████████████████████████▊                                  | 56/96 [00:04<00:02, 13.78it/s]\u001b[A\n",
      " 60%|█████████████████████████████████████████████████▌                                | 58/96 [00:04<00:02, 13.92it/s]\u001b[A\n",
      " 62%|███████████████████████████████████████████████████▎                              | 60/96 [00:04<00:02, 13.79it/s]\u001b[A\n",
      " 65%|████████████████████████████████████████████████████▉                             | 62/96 [00:04<00:02, 13.64it/s]\u001b[A\n",
      " 67%|██████████████████████████████████████████████████████▋                           | 64/96 [00:04<00:02, 13.54it/s]\u001b[A\n",
      " 69%|████████████████████████████████████████████████████████▍                         | 66/96 [00:04<00:02, 13.52it/s]\u001b[A\n",
      " 71%|██████████████████████████████████████████████████████████                        | 68/96 [00:04<00:02, 13.61it/s]\u001b[A\n",
      " 73%|███████████████████████████████████████████████████████████▊                      | 70/96 [00:05<00:01, 13.85it/s]\u001b[A\n",
      " 75%|█████████████████████████████████████████████████████████████▌                    | 72/96 [00:05<00:01, 13.82it/s]\u001b[A\n",
      " 77%|███████████████████████████████████████████████████████████████▏                  | 74/96 [00:05<00:01, 13.66it/s]\u001b[A\n",
      " 79%|████████████████████████████████████████████████████████████████▉                 | 76/96 [00:05<00:01, 13.75it/s]\u001b[A\n",
      " 81%|██████████████████████████████████████████████████████████████████▋               | 78/96 [00:05<00:01, 14.01it/s]\u001b[A\n",
      " 83%|████████████████████████████████████████████████████████████████████▎             | 80/96 [00:05<00:01, 14.11it/s]\u001b[A\n",
      " 85%|██████████████████████████████████████████████████████████████████████            | 82/96 [00:05<00:01, 13.83it/s]\u001b[A\n",
      " 88%|███████████████████████████████████████████████████████████████████████▊          | 84/96 [00:06<00:00, 13.75it/s]\u001b[A\n",
      " 90%|█████████████████████████████████████████████████████████████████████████▍        | 86/96 [00:06<00:00, 13.67it/s]\u001b[A\n",
      " 92%|███████████████████████████████████████████████████████████████████████████▏      | 88/96 [00:06<00:00, 13.62it/s]\u001b[A\n",
      " 94%|████████████████████████████████████████████████████████████████████████████▉     | 90/96 [00:06<00:00, 13.75it/s]\u001b[A\n",
      " 96%|██████████████████████████████████████████████████████████████████████████████▌   | 92/96 [00:06<00:00, 13.95it/s]\u001b[A\n",
      " 98%|████████████████████████████████████████████████████████████████████████████████▎ | 94/96 [00:06<00:00, 13.89it/s]\u001b[A\n",
      "100%|██████████████████████████████████████████████████████████████████████████████████| 96/96 [00:06<00:00, 13.93it/s]\u001b[A\n"
     ]
    },
    {
     "name": "stdout",
     "output_type": "stream",
     "text": [
      "Epoch 5 test loss: 0.2168 test acc: 0.9255\n"
     ]
    },
    {
     "name": "stderr",
     "output_type": "stream",
     "text": [
      "\n",
      "  0%|                                                                                           | 0/96 [00:00<?, ?it/s]\u001b[A\n",
      "  2%|█▋                                                                                 | 2/96 [00:00<00:07, 13.30it/s]\u001b[A\n",
      "  4%|███▍                                                                               | 4/96 [00:00<00:06, 13.30it/s]\u001b[A\n",
      "  6%|█████▏                                                                             | 6/96 [00:00<00:06, 13.80it/s]\u001b[A\n",
      "  8%|██████▉                                                                            | 8/96 [00:00<00:06, 13.62it/s]\u001b[A\n",
      " 10%|████████▌                                                                         | 10/96 [00:00<00:06, 13.74it/s]\u001b[A\n",
      " 12%|██████████▎                                                                       | 12/96 [00:00<00:06, 13.87it/s]\u001b[A\n",
      " 15%|███████████▉                                                                      | 14/96 [00:01<00:05, 13.96it/s]\u001b[A\n",
      " 17%|█████████████▋                                                                    | 16/96 [00:01<00:05, 13.83it/s]\u001b[A\n",
      " 19%|███████████████▍                                                                  | 18/96 [00:01<00:05, 13.52it/s]\u001b[A\n",
      " 21%|█████████████████                                                                 | 20/96 [00:01<00:05, 13.79it/s]\u001b[A\n",
      " 23%|██████████████████▊                                                               | 22/96 [00:01<00:05, 13.61it/s]\u001b[A\n",
      " 25%|████████████████████▌                                                             | 24/96 [00:01<00:05, 13.68it/s]\u001b[A\n",
      " 27%|██████████████████████▏                                                           | 26/96 [00:01<00:05, 13.87it/s]\u001b[A\n",
      " 29%|███████████████████████▉                                                          | 28/96 [00:02<00:04, 13.98it/s]\u001b[A\n",
      " 31%|█████████████████████████▋                                                        | 30/96 [00:02<00:04, 14.11it/s]\u001b[A\n",
      " 33%|███████████████████████████▎                                                      | 32/96 [00:02<00:04, 13.80it/s]\u001b[A\n",
      " 35%|█████████████████████████████                                                     | 34/96 [00:02<00:04, 13.62it/s]\u001b[A\n",
      " 38%|██████████████████████████████▊                                                   | 36/96 [00:02<00:04, 13.82it/s]\u001b[A\n",
      " 40%|████████████████████████████████▍                                                 | 38/96 [00:02<00:04, 14.16it/s]\u001b[A\n",
      " 42%|██████████████████████████████████▏                                               | 40/96 [00:02<00:03, 14.46it/s]\u001b[A\n",
      " 44%|███████████████████████████████████▉                                              | 42/96 [00:03<00:03, 14.55it/s]\u001b[A\n",
      " 46%|█████████████████████████████████████▌                                            | 44/96 [00:03<00:03, 14.64it/s]\u001b[A\n",
      " 48%|███████████████████████████████████████▎                                          | 46/96 [00:03<00:03, 14.61it/s]\u001b[A\n",
      " 50%|█████████████████████████████████████████                                         | 48/96 [00:03<00:03, 14.69it/s]\u001b[A\n",
      " 52%|██████████████████████████████████████████▋                                       | 50/96 [00:03<00:03, 14.58it/s]\u001b[A\n",
      " 54%|████████████████████████████████████████████▍                                     | 52/96 [00:03<00:03, 14.41it/s]\u001b[A\n",
      " 56%|██████████████████████████████████████████████▏                                   | 54/96 [00:03<00:02, 14.33it/s]\u001b[A\n",
      " 58%|███████████████████████████████████████████████▊                                  | 56/96 [00:03<00:02, 14.48it/s]\u001b[A\n",
      " 60%|█████████████████████████████████████████████████▌                                | 58/96 [00:04<00:02, 14.22it/s]\u001b[A\n",
      " 62%|███████████████████████████████████████████████████▎                              | 60/96 [00:04<00:02, 14.20it/s]\u001b[A\n",
      " 65%|████████████████████████████████████████████████████▉                             | 62/96 [00:04<00:02, 14.03it/s]\u001b[A\n",
      " 67%|██████████████████████████████████████████████████████▋                           | 64/96 [00:04<00:02, 13.77it/s]\u001b[A\n",
      " 69%|████████████████████████████████████████████████████████▍                         | 66/96 [00:04<00:02, 14.03it/s]\u001b[A\n",
      " 71%|██████████████████████████████████████████████████████████                        | 68/96 [00:04<00:02, 13.58it/s]\u001b[A\n",
      " 73%|███████████████████████████████████████████████████████████▊                      | 70/96 [00:05<00:01, 13.68it/s]\u001b[A\n",
      " 75%|█████████████████████████████████████████████████████████████▌                    | 72/96 [00:05<00:01, 13.87it/s]\u001b[A\n",
      " 77%|███████████████████████████████████████████████████████████████▏                  | 74/96 [00:05<00:01, 13.83it/s]\u001b[A\n",
      " 79%|████████████████████████████████████████████████████████████████▉                 | 76/96 [00:05<00:01, 13.64it/s]\u001b[A\n",
      " 81%|██████████████████████████████████████████████████████████████████▋               | 78/96 [00:05<00:01, 13.70it/s]\u001b[A\n",
      " 83%|████████████████████████████████████████████████████████████████████▎             | 80/96 [00:05<00:01, 13.97it/s]\u001b[A\n",
      " 85%|██████████████████████████████████████████████████████████████████████            | 82/96 [00:05<00:01, 13.99it/s]\u001b[A\n",
      " 88%|███████████████████████████████████████████████████████████████████████▊          | 84/96 [00:05<00:00, 14.24it/s]\u001b[A\n",
      " 90%|█████████████████████████████████████████████████████████████████████████▍        | 86/96 [00:06<00:00, 14.39it/s]\u001b[A\n",
      " 92%|███████████████████████████████████████████████████████████████████████████▏      | 88/96 [00:06<00:00, 14.19it/s]\u001b[A\n",
      " 94%|████████████████████████████████████████████████████████████████████████████▉     | 90/96 [00:06<00:00, 13.94it/s]\u001b[A\n",
      " 96%|██████████████████████████████████████████████████████████████████████████████▌   | 92/96 [00:06<00:00, 14.11it/s]\u001b[A\n",
      " 98%|████████████████████████████████████████████████████████████████████████████████▎ | 94/96 [00:06<00:00, 14.12it/s]\u001b[A\n",
      "100%|██████████████████████████████████████████████████████████████████████████████████| 96/96 [00:06<00:00, 14.06it/s]\u001b[A\n"
     ]
    },
    {
     "name": "stdout",
     "output_type": "stream",
     "text": [
      "Epoch 6 test loss: 0.2168 test acc: 0.9255\n"
     ]
    },
    {
     "name": "stderr",
     "output_type": "stream",
     "text": [
      "\n",
      "  0%|                                                                                           | 0/96 [00:00<?, ?it/s]\u001b[A\n",
      "  2%|█▋                                                                                 | 2/96 [00:00<00:06, 14.03it/s]\u001b[A\n",
      "  4%|███▍                                                                               | 4/96 [00:00<00:06, 13.81it/s]\u001b[A\n",
      "  6%|█████▏                                                                             | 6/96 [00:00<00:06, 13.95it/s]\u001b[A\n",
      "  8%|██████▉                                                                            | 8/96 [00:00<00:06, 13.68it/s]\u001b[A\n",
      " 10%|████████▌                                                                         | 10/96 [00:00<00:06, 13.95it/s]\u001b[A\n",
      " 12%|██████████▎                                                                       | 12/96 [00:00<00:05, 14.05it/s]\u001b[A\n",
      " 15%|███████████▉                                                                      | 14/96 [00:01<00:05, 14.01it/s]\u001b[A\n",
      " 17%|█████████████▋                                                                    | 16/96 [00:01<00:05, 13.75it/s]\u001b[A\n",
      " 19%|███████████████▍                                                                  | 18/96 [00:01<00:05, 13.52it/s]\u001b[A\n",
      " 21%|█████████████████                                                                 | 20/96 [00:01<00:05, 13.65it/s]\u001b[A\n",
      " 23%|██████████████████▊                                                               | 22/96 [00:01<00:05, 13.76it/s]\u001b[A\n",
      " 25%|████████████████████▌                                                             | 24/96 [00:01<00:05, 14.15it/s]\u001b[A\n",
      " 27%|██████████████████████▏                                                           | 26/96 [00:01<00:05, 13.93it/s]\u001b[A\n",
      " 29%|███████████████████████▉                                                          | 28/96 [00:02<00:04, 14.00it/s]\u001b[A\n",
      " 31%|█████████████████████████▋                                                        | 30/96 [00:02<00:04, 14.28it/s]\u001b[A\n",
      " 33%|███████████████████████████▎                                                      | 32/96 [00:02<00:04, 14.37it/s]\u001b[A\n",
      " 35%|█████████████████████████████                                                     | 34/96 [00:02<00:04, 14.18it/s]\u001b[A\n",
      " 38%|██████████████████████████████▊                                                   | 36/96 [00:02<00:04, 14.02it/s]\u001b[A\n",
      " 40%|████████████████████████████████▍                                                 | 38/96 [00:02<00:04, 14.14it/s]\u001b[A\n",
      " 42%|██████████████████████████████████▏                                               | 40/96 [00:02<00:03, 14.14it/s]\u001b[A\n",
      " 44%|███████████████████████████████████▉                                              | 42/96 [00:03<00:03, 14.08it/s]\u001b[A\n",
      " 46%|█████████████████████████████████████▌                                            | 44/96 [00:03<00:03, 13.96it/s]\u001b[A\n",
      " 48%|███████████████████████████████████████▎                                          | 46/96 [00:03<00:03, 14.01it/s]\u001b[A\n",
      " 50%|█████████████████████████████████████████                                         | 48/96 [00:03<00:03, 14.11it/s]\u001b[A\n",
      " 52%|██████████████████████████████████████████▋                                       | 50/96 [00:03<00:03, 14.20it/s]\u001b[A\n",
      " 54%|████████████████████████████████████████████▍                                     | 52/96 [00:03<00:03, 14.00it/s]\u001b[A\n",
      " 56%|██████████████████████████████████████████████▏                                   | 54/96 [00:03<00:03, 13.83it/s]\u001b[A\n",
      " 58%|███████████████████████████████████████████████▊                                  | 56/96 [00:04<00:02, 13.78it/s]\u001b[A\n",
      " 60%|█████████████████████████████████████████████████▌                                | 58/96 [00:04<00:02, 13.72it/s]\u001b[A\n",
      " 62%|███████████████████████████████████████████████████▎                              | 60/96 [00:04<00:02, 13.93it/s]\u001b[A\n",
      " 65%|████████████████████████████████████████████████████▉                             | 62/96 [00:04<00:02, 13.76it/s]\u001b[A\n",
      " 67%|██████████████████████████████████████████████████████▋                           | 64/96 [00:04<00:02, 13.64it/s]\u001b[A\n",
      " 69%|████████████████████████████████████████████████████████▍                         | 66/96 [00:04<00:02, 13.40it/s]\u001b[A\n",
      " 71%|██████████████████████████████████████████████████████████                        | 68/96 [00:04<00:02, 13.56it/s]\u001b[A\n",
      " 73%|███████████████████████████████████████████████████████████▊                      | 70/96 [00:05<00:01, 13.79it/s]\u001b[A\n",
      " 75%|█████████████████████████████████████████████████████████████▌                    | 72/96 [00:05<00:01, 14.03it/s]\u001b[A\n",
      " 77%|███████████████████████████████████████████████████████████████▏                  | 74/96 [00:05<00:01, 13.78it/s]\u001b[A\n",
      " 79%|████████████████████████████████████████████████████████████████▉                 | 76/96 [00:05<00:01, 13.53it/s]\u001b[A\n",
      " 81%|██████████████████████████████████████████████████████████████████▋               | 78/96 [00:05<00:01, 13.82it/s]\u001b[A\n",
      " 83%|████████████████████████████████████████████████████████████████████▎             | 80/96 [00:05<00:01, 13.69it/s]\u001b[A\n",
      " 85%|██████████████████████████████████████████████████████████████████████            | 82/96 [00:05<00:01, 13.57it/s]\u001b[A\n",
      " 88%|███████████████████████████████████████████████████████████████████████▊          | 84/96 [00:06<00:00, 13.63it/s]\u001b[A\n",
      " 90%|█████████████████████████████████████████████████████████████████████████▍        | 86/96 [00:06<00:00, 13.67it/s]\u001b[A\n",
      " 92%|███████████████████████████████████████████████████████████████████████████▏      | 88/96 [00:06<00:00, 13.61it/s]\u001b[A\n",
      " 94%|████████████████████████████████████████████████████████████████████████████▉     | 90/96 [00:06<00:00, 13.70it/s]\u001b[A\n",
      " 96%|██████████████████████████████████████████████████████████████████████████████▌   | 92/96 [00:06<00:00, 13.72it/s]\u001b[A\n",
      " 98%|████████████████████████████████████████████████████████████████████████████████▎ | 94/96 [00:06<00:00, 13.56it/s]\u001b[A\n",
      "100%|██████████████████████████████████████████████████████████████████████████████████| 96/96 [00:06<00:00, 13.89it/s]\u001b[A\n"
     ]
    },
    {
     "name": "stdout",
     "output_type": "stream",
     "text": [
      "Epoch 7 test loss: 0.2168 test acc: 0.9255\n"
     ]
    },
    {
     "name": "stderr",
     "output_type": "stream",
     "text": [
      "\n",
      "  0%|                                                                                           | 0/96 [00:00<?, ?it/s]\u001b[A\n",
      "  2%|█▋                                                                                 | 2/96 [00:00<00:06, 14.15it/s]\u001b[A\n",
      "  4%|███▍                                                                               | 4/96 [00:00<00:06, 14.08it/s]\u001b[A\n",
      "  6%|█████▏                                                                             | 6/96 [00:00<00:06, 13.59it/s]\u001b[A\n",
      "  8%|██████▉                                                                            | 8/96 [00:00<00:06, 13.96it/s]\u001b[A\n",
      " 10%|████████▌                                                                         | 10/96 [00:00<00:06, 14.09it/s]\u001b[A\n",
      " 12%|██████████▎                                                                       | 12/96 [00:00<00:05, 14.35it/s]\u001b[A\n",
      " 15%|███████████▉                                                                      | 14/96 [00:00<00:05, 14.18it/s]\u001b[A\n",
      " 17%|█████████████▋                                                                    | 16/96 [00:01<00:05, 14.17it/s]\u001b[A\n",
      " 19%|███████████████▍                                                                  | 18/96 [00:01<00:05, 14.35it/s]\u001b[A\n",
      " 21%|█████████████████                                                                 | 20/96 [00:01<00:05, 14.41it/s]\u001b[A\n",
      " 23%|██████████████████▊                                                               | 22/96 [00:01<00:05, 14.23it/s]\u001b[A\n",
      " 25%|████████████████████▌                                                             | 24/96 [00:01<00:05, 14.23it/s]\u001b[A\n",
      " 27%|██████████████████████▏                                                           | 26/96 [00:01<00:04, 14.17it/s]\u001b[A\n",
      " 29%|███████████████████████▉                                                          | 28/96 [00:01<00:04, 14.05it/s]\u001b[A\n",
      " 31%|█████████████████████████▋                                                        | 30/96 [00:02<00:04, 13.86it/s]\u001b[A\n",
      " 33%|███████████████████████████▎                                                      | 32/96 [00:02<00:04, 13.88it/s]\u001b[A\n",
      " 35%|█████████████████████████████                                                     | 34/96 [00:02<00:04, 13.93it/s]\u001b[A\n",
      " 38%|██████████████████████████████▊                                                   | 36/96 [00:02<00:04, 14.02it/s]\u001b[A\n",
      " 40%|████████████████████████████████▍                                                 | 38/96 [00:02<00:04, 13.88it/s]\u001b[A\n",
      " 42%|██████████████████████████████████▏                                               | 40/96 [00:02<00:04, 13.81it/s]\u001b[A\n",
      " 44%|███████████████████████████████████▉                                              | 42/96 [00:02<00:03, 13.94it/s]\u001b[A\n",
      " 46%|█████████████████████████████████████▌                                            | 44/96 [00:03<00:03, 13.94it/s]\u001b[A\n",
      " 48%|███████████████████████████████████████▎                                          | 46/96 [00:03<00:03, 14.05it/s]\u001b[A\n",
      " 50%|█████████████████████████████████████████                                         | 48/96 [00:03<00:03, 13.99it/s]\u001b[A\n",
      " 52%|██████████████████████████████████████████▋                                       | 50/96 [00:03<00:03, 14.09it/s]\u001b[A\n",
      " 54%|████████████████████████████████████████████▍                                     | 52/96 [00:03<00:03, 14.02it/s]\u001b[A\n",
      " 56%|██████████████████████████████████████████████▏                                   | 54/96 [00:03<00:03, 13.97it/s]\u001b[A\n",
      " 58%|███████████████████████████████████████████████▊                                  | 56/96 [00:03<00:02, 14.16it/s]\u001b[A\n",
      " 60%|█████████████████████████████████████████████████▌                                | 58/96 [00:04<00:02, 14.18it/s]\u001b[A\n",
      " 62%|███████████████████████████████████████████████████▎                              | 60/96 [00:04<00:02, 14.29it/s]\u001b[A\n",
      " 65%|████████████████████████████████████████████████████▉                             | 62/96 [00:04<00:02, 14.22it/s]\u001b[A\n",
      " 67%|██████████████████████████████████████████████████████▋                           | 64/96 [00:04<00:02, 14.20it/s]\u001b[A\n",
      " 69%|████████████████████████████████████████████████████████▍                         | 66/96 [00:04<00:02, 14.07it/s]\u001b[A\n",
      " 71%|██████████████████████████████████████████████████████████                        | 68/96 [00:04<00:02, 13.94it/s]\u001b[A\n",
      " 73%|███████████████████████████████████████████████████████████▊                      | 70/96 [00:04<00:01, 14.01it/s]\u001b[A\n",
      " 75%|█████████████████████████████████████████████████████████████▌                    | 72/96 [00:05<00:01, 14.11it/s]\u001b[A\n",
      " 77%|███████████████████████████████████████████████████████████████▏                  | 74/96 [00:05<00:01, 14.03it/s]\u001b[A\n",
      " 79%|████████████████████████████████████████████████████████████████▉                 | 76/96 [00:05<00:01, 14.09it/s]\u001b[A\n",
      " 81%|██████████████████████████████████████████████████████████████████▋               | 78/96 [00:05<00:01, 13.73it/s]\u001b[A\n",
      " 83%|████████████████████████████████████████████████████████████████████▎             | 80/96 [00:05<00:01, 13.75it/s]\u001b[A\n",
      " 85%|██████████████████████████████████████████████████████████████████████            | 82/96 [00:05<00:01, 13.69it/s]\u001b[A\n",
      " 88%|███████████████████████████████████████████████████████████████████████▊          | 84/96 [00:06<00:00, 13.52it/s]\u001b[A\n",
      " 90%|█████████████████████████████████████████████████████████████████████████▍        | 86/96 [00:06<00:00, 13.50it/s]\u001b[A\n",
      " 92%|███████████████████████████████████████████████████████████████████████████▏      | 88/96 [00:06<00:00, 13.30it/s]\u001b[A\n",
      " 94%|████████████████████████████████████████████████████████████████████████████▉     | 90/96 [00:06<00:00, 13.46it/s]\u001b[A\n",
      " 96%|██████████████████████████████████████████████████████████████████████████████▌   | 92/96 [00:06<00:00, 13.63it/s]\u001b[A\n",
      " 98%|████████████████████████████████████████████████████████████████████████████████▎ | 94/96 [00:06<00:00, 13.90it/s]\u001b[A\n",
      "100%|██████████████████████████████████████████████████████████████████████████████████| 96/96 [00:06<00:00, 14.00it/s]\u001b[A\n"
     ]
    },
    {
     "name": "stdout",
     "output_type": "stream",
     "text": [
      "Epoch 8 test loss: 0.2168 test acc: 0.9255\n"
     ]
    },
    {
     "name": "stderr",
     "output_type": "stream",
     "text": [
      "\n",
      "  0%|                                                                                           | 0/96 [00:00<?, ?it/s]\u001b[A\n",
      "  2%|█▋                                                                                 | 2/96 [00:00<00:07, 13.30it/s]\u001b[A\n",
      "  4%|███▍                                                                               | 4/96 [00:00<00:06, 13.46it/s]\u001b[A\n",
      "  6%|█████▏                                                                             | 6/96 [00:00<00:06, 13.42it/s]\u001b[A\n",
      "  8%|██████▉                                                                            | 8/96 [00:00<00:06, 13.58it/s]\u001b[A\n",
      " 10%|████████▌                                                                         | 10/96 [00:00<00:06, 13.45it/s]\u001b[A\n",
      " 12%|██████████▎                                                                       | 12/96 [00:00<00:06, 13.33it/s]\u001b[A\n",
      " 15%|███████████▉                                                                      | 14/96 [00:01<00:06, 13.50it/s]\u001b[A\n",
      " 17%|█████████████▋                                                                    | 16/96 [00:01<00:05, 13.55it/s]\u001b[A\n",
      " 19%|███████████████▍                                                                  | 18/96 [00:01<00:05, 13.51it/s]\u001b[A\n",
      " 21%|█████████████████                                                                 | 20/96 [00:01<00:05, 13.36it/s]\u001b[A\n",
      " 23%|██████████████████▊                                                               | 22/96 [00:01<00:05, 13.33it/s]\u001b[A\n",
      " 25%|████████████████████▌                                                             | 24/96 [00:01<00:05, 13.51it/s]\u001b[A\n",
      " 27%|██████████████████████▏                                                           | 26/96 [00:01<00:05, 13.28it/s]\u001b[A\n",
      " 29%|███████████████████████▉                                                          | 28/96 [00:02<00:04, 13.61it/s]\u001b[A\n",
      " 31%|█████████████████████████▋                                                        | 30/96 [00:02<00:04, 13.68it/s]\u001b[A\n",
      " 33%|███████████████████████████▎                                                      | 32/96 [00:02<00:04, 13.65it/s]\u001b[A\n",
      " 35%|█████████████████████████████                                                     | 34/96 [00:02<00:04, 13.76it/s]\u001b[A\n",
      " 38%|██████████████████████████████▊                                                   | 36/96 [00:02<00:04, 13.90it/s]\u001b[A\n",
      " 40%|████████████████████████████████▍                                                 | 38/96 [00:02<00:04, 13.74it/s]\u001b[A\n",
      " 42%|██████████████████████████████████▏                                               | 40/96 [00:02<00:04, 13.85it/s]\u001b[A\n",
      " 44%|███████████████████████████████████▉                                              | 42/96 [00:03<00:03, 13.94it/s]\u001b[A\n",
      " 46%|█████████████████████████████████████▌                                            | 44/96 [00:03<00:03, 13.71it/s]\u001b[A\n",
      " 48%|███████████████████████████████████████▎                                          | 46/96 [00:03<00:03, 13.81it/s]\u001b[A\n",
      " 50%|█████████████████████████████████████████                                         | 48/96 [00:03<00:03, 13.93it/s]\u001b[A\n",
      " 52%|██████████████████████████████████████████▋                                       | 50/96 [00:03<00:03, 13.56it/s]\u001b[A\n",
      " 54%|████████████████████████████████████████████▍                                     | 52/96 [00:03<00:03, 13.75it/s]\u001b[A\n",
      " 56%|██████████████████████████████████████████████▏                                   | 54/96 [00:03<00:03, 13.72it/s]\u001b[A\n",
      " 58%|███████████████████████████████████████████████▊                                  | 56/96 [00:04<00:02, 13.91it/s]\u001b[A\n",
      " 60%|█████████████████████████████████████████████████▌                                | 58/96 [00:04<00:02, 14.05it/s]\u001b[A\n",
      " 62%|███████████████████████████████████████████████████▎                              | 60/96 [00:04<00:02, 13.80it/s]\u001b[A\n",
      " 65%|████████████████████████████████████████████████████▉                             | 62/96 [00:04<00:02, 13.65it/s]\u001b[A\n",
      " 67%|██████████████████████████████████████████████████████▋                           | 64/96 [00:04<00:02, 13.71it/s]\u001b[A\n",
      " 69%|████████████████████████████████████████████████████████▍                         | 66/96 [00:04<00:02, 13.21it/s]\u001b[A\n",
      " 71%|██████████████████████████████████████████████████████████                        | 68/96 [00:04<00:02, 13.42it/s]\u001b[A\n",
      " 73%|███████████████████████████████████████████████████████████▊                      | 70/96 [00:05<00:01, 13.60it/s]\u001b[A\n",
      " 75%|█████████████████████████████████████████████████████████████▌                    | 72/96 [00:05<00:01, 13.70it/s]\u001b[A\n",
      " 77%|███████████████████████████████████████████████████████████████▏                  | 74/96 [00:05<00:01, 13.63it/s]\u001b[A\n",
      " 79%|████████████████████████████████████████████████████████████████▉                 | 76/96 [00:05<00:01, 13.61it/s]\u001b[A\n",
      " 81%|██████████████████████████████████████████████████████████████████▋               | 78/96 [00:05<00:01, 13.74it/s]\u001b[A\n",
      " 83%|████████████████████████████████████████████████████████████████████▎             | 80/96 [00:05<00:01, 13.69it/s]\u001b[A\n",
      " 85%|██████████████████████████████████████████████████████████████████████            | 82/96 [00:06<00:01, 13.65it/s]\u001b[A\n",
      " 88%|███████████████████████████████████████████████████████████████████████▊          | 84/96 [00:06<00:00, 13.91it/s]\u001b[A\n",
      " 90%|█████████████████████████████████████████████████████████████████████████▍        | 86/96 [00:06<00:00, 13.89it/s]\u001b[A\n",
      " 92%|███████████████████████████████████████████████████████████████████████████▏      | 88/96 [00:06<00:00, 13.91it/s]\u001b[A\n",
      " 94%|████████████████████████████████████████████████████████████████████████████▉     | 90/96 [00:06<00:00, 13.89it/s]\u001b[A\n",
      " 96%|██████████████████████████████████████████████████████████████████████████████▌   | 92/96 [00:06<00:00, 13.82it/s]\u001b[A\n",
      " 98%|████████████████████████████████████████████████████████████████████████████████▎ | 94/96 [00:06<00:00, 13.53it/s]\u001b[A\n",
      "100%|██████████████████████████████████████████████████████████████████████████████████| 96/96 [00:07<00:00, 13.71it/s]\u001b[A\n"
     ]
    },
    {
     "name": "stdout",
     "output_type": "stream",
     "text": [
      "Epoch 9 test loss: 0.2168 test acc: 0.9255\n"
     ]
    },
    {
     "name": "stderr",
     "output_type": "stream",
     "text": [
      "\n",
      "  0%|                                                                                           | 0/96 [00:00<?, ?it/s]\u001b[A\n",
      "  2%|█▋                                                                                 | 2/96 [00:00<00:07, 13.29it/s]\u001b[A\n",
      "  4%|███▍                                                                               | 4/96 [00:00<00:06, 13.67it/s]\u001b[A\n",
      "  6%|█████▏                                                                             | 6/96 [00:00<00:06, 13.37it/s]\u001b[A\n",
      "  8%|██████▉                                                                            | 8/96 [00:00<00:06, 13.65it/s]\u001b[A\n",
      " 10%|████████▌                                                                         | 10/96 [00:00<00:06, 13.56it/s]\u001b[A\n",
      " 12%|██████████▎                                                                       | 12/96 [00:00<00:06, 13.74it/s]\u001b[A\n",
      " 15%|███████████▉                                                                      | 14/96 [00:01<00:06, 13.50it/s]\u001b[A\n",
      " 17%|█████████████▋                                                                    | 16/96 [00:01<00:05, 13.72it/s]\u001b[A\n",
      " 19%|███████████████▍                                                                  | 18/96 [00:01<00:05, 13.70it/s]\u001b[A\n",
      " 21%|█████████████████                                                                 | 20/96 [00:01<00:05, 13.77it/s]\u001b[A\n",
      " 23%|██████████████████▊                                                               | 22/96 [00:01<00:05, 13.85it/s]\u001b[A\n",
      " 25%|████████████████████▌                                                             | 24/96 [00:01<00:05, 14.00it/s]\u001b[A\n",
      " 27%|██████████████████████▏                                                           | 26/96 [00:01<00:04, 14.09it/s]\u001b[A\n",
      " 29%|███████████████████████▉                                                          | 28/96 [00:02<00:04, 13.99it/s]\u001b[A\n",
      " 31%|█████████████████████████▋                                                        | 30/96 [00:02<00:04, 14.06it/s]\u001b[A\n",
      " 33%|███████████████████████████▎                                                      | 32/96 [00:02<00:04, 14.02it/s]\u001b[A\n",
      " 35%|█████████████████████████████                                                     | 34/96 [00:02<00:04, 13.96it/s]\u001b[A\n",
      " 38%|██████████████████████████████▊                                                   | 36/96 [00:02<00:04, 13.83it/s]\u001b[A\n",
      " 40%|████████████████████████████████▍                                                 | 38/96 [00:02<00:04, 13.75it/s]\u001b[A\n",
      " 42%|██████████████████████████████████▏                                               | 40/96 [00:02<00:04, 13.89it/s]\u001b[A\n",
      " 44%|███████████████████████████████████▉                                              | 42/96 [00:03<00:03, 13.73it/s]\u001b[A\n",
      " 46%|█████████████████████████████████████▌                                            | 44/96 [00:03<00:03, 13.65it/s]\u001b[A\n",
      " 48%|███████████████████████████████████████▎                                          | 46/96 [00:03<00:03, 13.85it/s]\u001b[A\n",
      " 50%|█████████████████████████████████████████                                         | 48/96 [00:03<00:03, 13.93it/s]\u001b[A\n",
      " 52%|██████████████████████████████████████████▋                                       | 50/96 [00:03<00:03, 13.79it/s]\u001b[A\n",
      " 54%|████████████████████████████████████████████▍                                     | 52/96 [00:03<00:03, 13.91it/s]\u001b[A\n",
      " 56%|██████████████████████████████████████████████▏                                   | 54/96 [00:03<00:03, 13.87it/s]\u001b[A\n",
      " 58%|███████████████████████████████████████████████▊                                  | 56/96 [00:04<00:02, 13.91it/s]\u001b[A\n",
      " 60%|█████████████████████████████████████████████████▌                                | 58/96 [00:04<00:02, 13.92it/s]\u001b[A\n",
      " 62%|███████████████████████████████████████████████████▎                              | 60/96 [00:04<00:02, 13.87it/s]\u001b[A\n",
      " 65%|████████████████████████████████████████████████████▉                             | 62/96 [00:04<00:02, 13.93it/s]\u001b[A\n",
      " 67%|██████████████████████████████████████████████████████▋                           | 64/96 [00:04<00:02, 13.96it/s]\u001b[A\n",
      " 69%|████████████████████████████████████████████████████████▍                         | 66/96 [00:04<00:02, 13.93it/s]\u001b[A\n",
      " 71%|██████████████████████████████████████████████████████████                        | 68/96 [00:04<00:01, 14.01it/s]\u001b[A\n",
      " 73%|███████████████████████████████████████████████████████████▊                      | 70/96 [00:05<00:01, 13.85it/s]\u001b[A\n",
      " 75%|█████████████████████████████████████████████████████████████▌                    | 72/96 [00:05<00:01, 13.93it/s]\u001b[A\n",
      " 77%|███████████████████████████████████████████████████████████████▏                  | 74/96 [00:05<00:01, 13.97it/s]\u001b[A\n",
      " 79%|████████████████████████████████████████████████████████████████▉                 | 76/96 [00:05<00:01, 14.04it/s]\u001b[A\n",
      " 81%|██████████████████████████████████████████████████████████████████▋               | 78/96 [00:05<00:01, 13.97it/s]\u001b[A\n",
      " 83%|████████████████████████████████████████████████████████████████████▎             | 80/96 [00:05<00:01, 13.96it/s]\u001b[A\n",
      " 85%|██████████████████████████████████████████████████████████████████████            | 82/96 [00:05<00:01, 13.92it/s]\u001b[A\n",
      " 88%|███████████████████████████████████████████████████████████████████████▊          | 84/96 [00:06<00:00, 13.95it/s]\u001b[A\n",
      " 90%|█████████████████████████████████████████████████████████████████████████▍        | 86/96 [00:06<00:00, 14.01it/s]\u001b[A\n",
      " 92%|███████████████████████████████████████████████████████████████████████████▏      | 88/96 [00:06<00:00, 14.11it/s]\u001b[A\n",
      " 94%|████████████████████████████████████████████████████████████████████████████▉     | 90/96 [00:06<00:00, 14.03it/s]\u001b[A\n",
      " 96%|██████████████████████████████████████████████████████████████████████████████▌   | 92/96 [00:06<00:00, 13.80it/s]\u001b[A\n",
      " 98%|████████████████████████████████████████████████████████████████████████████████▎ | 94/96 [00:06<00:00, 13.52it/s]\u001b[A\n",
      "100%|██████████████████████████████████████████████████████████████████████████████████| 96/96 [00:06<00:00, 13.89it/s]\u001b[A\n"
     ]
    },
    {
     "name": "stdout",
     "output_type": "stream",
     "text": [
      "Epoch 10 test loss: 0.2168 test acc: 0.9255\n"
     ]
    },
    {
     "name": "stderr",
     "output_type": "stream",
     "text": [
      "\n",
      "  0%|                                                                                           | 0/96 [00:00<?, ?it/s]\u001b[A\n",
      "  2%|█▋                                                                                 | 2/96 [00:00<00:06, 14.04it/s]\u001b[A\n",
      "  4%|███▍                                                                               | 4/96 [00:00<00:06, 14.16it/s]\u001b[A\n",
      "  6%|█████▏                                                                             | 6/96 [00:00<00:06, 14.14it/s]\u001b[A\n",
      "  8%|██████▉                                                                            | 8/96 [00:00<00:06, 13.83it/s]\u001b[A\n",
      " 10%|████████▌                                                                         | 10/96 [00:00<00:06, 14.00it/s]\u001b[A\n",
      " 12%|██████████▎                                                                       | 12/96 [00:00<00:05, 14.15it/s]\u001b[A\n",
      " 15%|███████████▉                                                                      | 14/96 [00:00<00:05, 14.18it/s]\u001b[A\n",
      " 17%|█████████████▋                                                                    | 16/96 [00:01<00:05, 14.13it/s]\u001b[A\n",
      " 19%|███████████████▍                                                                  | 18/96 [00:01<00:05, 13.95it/s]\u001b[A\n",
      " 21%|█████████████████                                                                 | 20/96 [00:01<00:05, 13.77it/s]\u001b[A\n",
      " 23%|██████████████████▊                                                               | 22/96 [00:01<00:05, 13.83it/s]\u001b[A\n",
      " 25%|████████████████████▌                                                             | 24/96 [00:01<00:05, 13.72it/s]\u001b[A\n",
      " 27%|██████████████████████▏                                                           | 26/96 [00:01<00:05, 13.39it/s]\u001b[A\n",
      " 29%|███████████████████████▉                                                          | 28/96 [00:02<00:05, 13.36it/s]\u001b[A\n",
      " 31%|█████████████████████████▋                                                        | 30/96 [00:02<00:05, 13.11it/s]\u001b[A\n",
      " 33%|███████████████████████████▎                                                      | 32/96 [00:02<00:04, 13.35it/s]\u001b[A\n",
      " 35%|█████████████████████████████                                                     | 34/96 [00:02<00:04, 13.20it/s]\u001b[A\n",
      " 38%|██████████████████████████████▊                                                   | 36/96 [00:02<00:04, 13.02it/s]\u001b[A\n",
      " 40%|████████████████████████████████▍                                                 | 38/96 [00:02<00:04, 13.20it/s]\u001b[A\n",
      " 42%|██████████████████████████████████▏                                               | 40/96 [00:02<00:04, 13.25it/s]\u001b[A\n",
      " 44%|███████████████████████████████████▉                                              | 42/96 [00:03<00:04, 13.21it/s]\u001b[A\n",
      " 46%|█████████████████████████████████████▌                                            | 44/96 [00:03<00:03, 13.34it/s]\u001b[A\n",
      " 48%|███████████████████████████████████████▎                                          | 46/96 [00:03<00:03, 13.36it/s]\u001b[A\n",
      " 50%|█████████████████████████████████████████                                         | 48/96 [00:03<00:03, 13.30it/s]\u001b[A\n",
      " 52%|██████████████████████████████████████████▋                                       | 50/96 [00:03<00:03, 13.22it/s]\u001b[A\n",
      " 54%|████████████████████████████████████████████▍                                     | 52/96 [00:03<00:03, 13.48it/s]\u001b[A\n",
      " 56%|██████████████████████████████████████████████▏                                   | 54/96 [00:03<00:03, 13.65it/s]\u001b[A\n",
      " 58%|███████████████████████████████████████████████▊                                  | 56/96 [00:04<00:02, 13.71it/s]\u001b[A\n",
      " 60%|█████████████████████████████████████████████████▌                                | 58/96 [00:04<00:02, 13.83it/s]\u001b[A\n",
      " 62%|███████████████████████████████████████████████████▎                              | 60/96 [00:04<00:02, 13.89it/s]\u001b[A\n",
      " 65%|████████████████████████████████████████████████████▉                             | 62/96 [00:04<00:02, 13.90it/s]\u001b[A\n",
      " 67%|██████████████████████████████████████████████████████▋                           | 64/96 [00:04<00:02, 13.89it/s]\u001b[A\n",
      " 69%|████████████████████████████████████████████████████████▍                         | 66/96 [00:04<00:02, 13.80it/s]\u001b[A\n",
      " 71%|██████████████████████████████████████████████████████████                        | 68/96 [00:04<00:02, 13.96it/s]\u001b[A\n",
      " 73%|███████████████████████████████████████████████████████████▊                      | 70/96 [00:05<00:01, 13.93it/s]\u001b[A\n",
      " 75%|█████████████████████████████████████████████████████████████▌                    | 72/96 [00:05<00:01, 13.93it/s]\u001b[A\n",
      " 77%|███████████████████████████████████████████████████████████████▏                  | 74/96 [00:05<00:01, 13.99it/s]\u001b[A\n",
      " 79%|████████████████████████████████████████████████████████████████▉                 | 76/96 [00:05<00:01, 13.71it/s]\u001b[A\n",
      " 81%|██████████████████████████████████████████████████████████████████▋               | 78/96 [00:05<00:01, 13.86it/s]\u001b[A\n",
      " 83%|████████████████████████████████████████████████████████████████████▎             | 80/96 [00:05<00:01, 13.94it/s]\u001b[A\n",
      " 85%|██████████████████████████████████████████████████████████████████████            | 82/96 [00:05<00:01, 13.95it/s]\u001b[A\n",
      " 88%|███████████████████████████████████████████████████████████████████████▊          | 84/96 [00:06<00:00, 13.83it/s]\u001b[A\n",
      " 90%|█████████████████████████████████████████████████████████████████████████▍        | 86/96 [00:06<00:00, 13.86it/s]\u001b[A\n",
      " 92%|███████████████████████████████████████████████████████████████████████████▏      | 88/96 [00:06<00:00, 14.02it/s]\u001b[A\n",
      " 94%|████████████████████████████████████████████████████████████████████████████▉     | 90/96 [00:06<00:00, 14.12it/s]\u001b[A\n",
      " 96%|██████████████████████████████████████████████████████████████████████████████▌   | 92/96 [00:06<00:00, 14.04it/s]\u001b[A\n",
      " 98%|████████████████████████████████████████████████████████████████████████████████▎ | 94/96 [00:06<00:00, 14.13it/s]\u001b[A\n",
      "100%|██████████████████████████████████████████████████████████████████████████████████| 96/96 [00:06<00:00, 13.78it/s]\u001b[A\n"
     ]
    },
    {
     "name": "stdout",
     "output_type": "stream",
     "text": [
      "Epoch 11 test loss: 0.2168 test acc: 0.9255\n"
     ]
    },
    {
     "name": "stderr",
     "output_type": "stream",
     "text": [
      "\n",
      "  0%|                                                                                           | 0/96 [00:00<?, ?it/s]\u001b[A\n",
      "  2%|█▋                                                                                 | 2/96 [00:00<00:06, 13.65it/s]\u001b[A\n",
      "  4%|███▍                                                                               | 4/96 [00:00<00:06, 14.04it/s]\u001b[A\n",
      "  6%|█████▏                                                                             | 6/96 [00:00<00:06, 13.78it/s]\u001b[A\n",
      "  8%|██████▉                                                                            | 8/96 [00:00<00:06, 13.81it/s]\u001b[A\n",
      " 10%|████████▌                                                                         | 10/96 [00:00<00:06, 13.72it/s]\u001b[A\n",
      " 12%|██████████▎                                                                       | 12/96 [00:00<00:06, 13.85it/s]\u001b[A\n",
      " 15%|███████████▉                                                                      | 14/96 [00:01<00:05, 13.95it/s]\u001b[A\n",
      " 17%|█████████████▋                                                                    | 16/96 [00:01<00:05, 13.91it/s]\u001b[A\n",
      " 19%|███████████████▍                                                                  | 18/96 [00:01<00:05, 13.59it/s]\u001b[A\n",
      " 21%|█████████████████                                                                 | 20/96 [00:01<00:05, 13.69it/s]\u001b[A\n",
      " 23%|██████████████████▊                                                               | 22/96 [00:01<00:05, 13.68it/s]\u001b[A\n",
      " 25%|████████████████████▌                                                             | 24/96 [00:01<00:05, 13.59it/s]\u001b[A\n",
      " 27%|██████████████████████▏                                                           | 26/96 [00:01<00:05, 13.39it/s]\u001b[A\n",
      " 29%|███████████████████████▉                                                          | 28/96 [00:02<00:04, 13.66it/s]\u001b[A\n",
      " 31%|█████████████████████████▋                                                        | 30/96 [00:02<00:04, 13.60it/s]\u001b[A\n",
      " 33%|███████████████████████████▎                                                      | 32/96 [00:02<00:04, 13.32it/s]\u001b[A\n",
      " 35%|█████████████████████████████                                                     | 34/96 [00:02<00:04, 13.37it/s]\u001b[A\n",
      " 38%|██████████████████████████████▊                                                   | 36/96 [00:02<00:04, 13.61it/s]\u001b[A\n",
      " 40%|████████████████████████████████▍                                                 | 38/96 [00:02<00:04, 13.63it/s]\u001b[A\n",
      " 42%|██████████████████████████████████▏                                               | 40/96 [00:02<00:04, 13.63it/s]\u001b[A\n",
      " 44%|███████████████████████████████████▉                                              | 42/96 [00:03<00:03, 13.75it/s]\u001b[A\n",
      " 46%|█████████████████████████████████████▌                                            | 44/96 [00:03<00:03, 13.65it/s]\u001b[A\n",
      " 48%|███████████████████████████████████████▎                                          | 46/96 [00:03<00:03, 13.85it/s]\u001b[A\n",
      " 50%|█████████████████████████████████████████                                         | 48/96 [00:03<00:03, 13.94it/s]\u001b[A\n",
      " 52%|██████████████████████████████████████████▋                                       | 50/96 [00:03<00:03, 14.02it/s]\u001b[A\n",
      " 54%|████████████████████████████████████████████▍                                     | 52/96 [00:03<00:03, 13.94it/s]\u001b[A\n",
      " 56%|██████████████████████████████████████████████▏                                   | 54/96 [00:03<00:03, 13.70it/s]\u001b[A\n",
      " 58%|███████████████████████████████████████████████▊                                  | 56/96 [00:04<00:02, 13.83it/s]\u001b[A\n",
      " 60%|█████████████████████████████████████████████████▌                                | 58/96 [00:04<00:02, 13.89it/s]\u001b[A\n",
      " 62%|███████████████████████████████████████████████████▎                              | 60/96 [00:04<00:02, 13.68it/s]\u001b[A\n",
      " 65%|████████████████████████████████████████████████████▉                             | 62/96 [00:04<00:02, 13.73it/s]\u001b[A\n",
      " 67%|██████████████████████████████████████████████████████▋                           | 64/96 [00:04<00:02, 13.96it/s]\u001b[A\n",
      " 69%|████████████████████████████████████████████████████████▍                         | 66/96 [00:04<00:02, 13.70it/s]\u001b[A\n",
      " 71%|██████████████████████████████████████████████████████████                        | 68/96 [00:04<00:02, 14.00it/s]\u001b[A\n",
      " 73%|███████████████████████████████████████████████████████████▊                      | 70/96 [00:05<00:01, 13.67it/s]\u001b[A\n",
      " 75%|█████████████████████████████████████████████████████████████▌                    | 72/96 [00:05<00:01, 13.75it/s]\u001b[A\n",
      " 77%|███████████████████████████████████████████████████████████████▏                  | 74/96 [00:05<00:01, 13.86it/s]\u001b[A\n",
      " 79%|████████████████████████████████████████████████████████████████▉                 | 76/96 [00:05<00:01, 13.74it/s]\u001b[A\n",
      " 81%|██████████████████████████████████████████████████████████████████▋               | 78/96 [00:05<00:01, 13.82it/s]\u001b[A\n",
      " 83%|████████████████████████████████████████████████████████████████████▎             | 80/96 [00:05<00:01, 13.89it/s]\u001b[A\n",
      " 85%|██████████████████████████████████████████████████████████████████████            | 82/96 [00:05<00:01, 13.99it/s]\u001b[A\n",
      " 88%|███████████████████████████████████████████████████████████████████████▊          | 84/96 [00:06<00:00, 14.15it/s]\u001b[A\n",
      " 90%|█████████████████████████████████████████████████████████████████████████▍        | 86/96 [00:06<00:00, 14.09it/s]\u001b[A\n",
      " 92%|███████████████████████████████████████████████████████████████████████████▏      | 88/96 [00:06<00:00, 14.13it/s]\u001b[A\n",
      " 94%|████████████████████████████████████████████████████████████████████████████▉     | 90/96 [00:06<00:00, 14.13it/s]\u001b[A\n",
      " 96%|██████████████████████████████████████████████████████████████████████████████▌   | 92/96 [00:06<00:00, 14.04it/s]\u001b[A\n",
      " 98%|████████████████████████████████████████████████████████████████████████████████▎ | 94/96 [00:06<00:00, 14.04it/s]\u001b[A\n",
      "100%|██████████████████████████████████████████████████████████████████████████████████| 96/96 [00:06<00:00, 13.85it/s]\u001b[A\n"
     ]
    },
    {
     "name": "stdout",
     "output_type": "stream",
     "text": [
      "Epoch 12 test loss: 0.2168 test acc: 0.9255\n"
     ]
    },
    {
     "name": "stderr",
     "output_type": "stream",
     "text": [
      "\n",
      "  0%|                                                                                           | 0/96 [00:00<?, ?it/s]\u001b[A\n",
      "  2%|█▋                                                                                 | 2/96 [00:00<00:06, 14.15it/s]\u001b[A\n",
      "  4%|███▍                                                                               | 4/96 [00:00<00:06, 14.03it/s]\u001b[A\n",
      "  6%|█████▏                                                                             | 6/96 [00:00<00:06, 13.74it/s]\u001b[A\n",
      "  8%|██████▉                                                                            | 8/96 [00:00<00:06, 13.63it/s]\u001b[A\n",
      " 10%|████████▌                                                                         | 10/96 [00:00<00:06, 13.47it/s]\u001b[A\n",
      " 12%|██████████▎                                                                       | 12/96 [00:00<00:06, 13.50it/s]\u001b[A\n",
      " 15%|███████████▉                                                                      | 14/96 [00:01<00:06, 13.64it/s]\u001b[A\n",
      " 17%|█████████████▋                                                                    | 16/96 [00:01<00:05, 13.70it/s]\u001b[A\n",
      " 19%|███████████████▍                                                                  | 18/96 [00:01<00:05, 13.83it/s]\u001b[A\n",
      " 21%|█████████████████                                                                 | 20/96 [00:01<00:05, 13.87it/s]\u001b[A\n",
      " 23%|██████████████████▊                                                               | 22/96 [00:01<00:05, 13.77it/s]\u001b[A\n",
      " 25%|████████████████████▌                                                             | 24/96 [00:01<00:05, 13.73it/s]\u001b[A\n",
      " 27%|██████████████████████▏                                                           | 26/96 [00:01<00:05, 13.68it/s]\u001b[A\n",
      " 29%|███████████████████████▉                                                          | 28/96 [00:02<00:04, 13.73it/s]\u001b[A\n",
      " 31%|█████████████████████████▋                                                        | 30/96 [00:02<00:04, 13.84it/s]\u001b[A\n",
      " 33%|███████████████████████████▎                                                      | 32/96 [00:02<00:04, 13.53it/s]\u001b[A\n",
      " 35%|█████████████████████████████                                                     | 34/96 [00:02<00:04, 13.82it/s]\u001b[A\n",
      " 38%|██████████████████████████████▊                                                   | 36/96 [00:02<00:04, 13.77it/s]\u001b[A\n",
      " 40%|████████████████████████████████▍                                                 | 38/96 [00:02<00:04, 13.64it/s]\u001b[A\n",
      " 42%|██████████████████████████████████▏                                               | 40/96 [00:02<00:04, 13.46it/s]\u001b[A\n",
      " 44%|███████████████████████████████████▉                                              | 42/96 [00:03<00:04, 13.46it/s]\u001b[A\n",
      " 46%|█████████████████████████████████████▌                                            | 44/96 [00:03<00:03, 13.30it/s]\u001b[A\n",
      " 48%|███████████████████████████████████████▎                                          | 46/96 [00:03<00:03, 13.45it/s]\u001b[A\n",
      " 50%|█████████████████████████████████████████                                         | 48/96 [00:03<00:03, 13.19it/s]\u001b[A\n",
      " 52%|██████████████████████████████████████████▋                                       | 50/96 [00:03<00:03, 13.28it/s]\u001b[A\n",
      " 54%|████████████████████████████████████████████▍                                     | 52/96 [00:03<00:03, 13.13it/s]\u001b[A\n",
      " 56%|██████████████████████████████████████████████▏                                   | 54/96 [00:03<00:03, 13.27it/s]\u001b[A\n",
      " 58%|███████████████████████████████████████████████▊                                  | 56/96 [00:04<00:03, 13.30it/s]\u001b[A\n",
      " 60%|█████████████████████████████████████████████████▌                                | 58/96 [00:04<00:02, 13.09it/s]\u001b[A\n",
      " 62%|███████████████████████████████████████████████████▎                              | 60/96 [00:04<00:02, 13.28it/s]\u001b[A\n",
      " 65%|████████████████████████████████████████████████████▉                             | 62/96 [00:04<00:02, 13.50it/s]\u001b[A\n",
      " 67%|██████████████████████████████████████████████████████▋                           | 64/96 [00:04<00:02, 13.77it/s]\u001b[A\n",
      " 69%|████████████████████████████████████████████████████████▍                         | 66/96 [00:04<00:02, 13.85it/s]\u001b[A\n",
      " 71%|██████████████████████████████████████████████████████████                        | 68/96 [00:05<00:02, 13.65it/s]\u001b[A\n",
      " 73%|███████████████████████████████████████████████████████████▊                      | 70/96 [00:05<00:01, 13.68it/s]\u001b[A\n",
      " 75%|█████████████████████████████████████████████████████████████▌                    | 72/96 [00:05<00:01, 13.59it/s]\u001b[A\n",
      " 77%|███████████████████████████████████████████████████████████████▏                  | 74/96 [00:05<00:01, 13.72it/s]\u001b[A\n",
      " 79%|████████████████████████████████████████████████████████████████▉                 | 76/96 [00:05<00:01, 13.73it/s]\u001b[A\n",
      " 81%|██████████████████████████████████████████████████████████████████▋               | 78/96 [00:05<00:01, 13.46it/s]\u001b[A\n",
      " 83%|████████████████████████████████████████████████████████████████████▎             | 80/96 [00:05<00:01, 13.44it/s]\u001b[A\n",
      " 85%|██████████████████████████████████████████████████████████████████████            | 82/96 [00:06<00:01, 13.64it/s]\u001b[A\n",
      " 88%|███████████████████████████████████████████████████████████████████████▊          | 84/96 [00:06<00:00, 13.46it/s]\u001b[A\n",
      " 90%|█████████████████████████████████████████████████████████████████████████▍        | 86/96 [00:06<00:00, 13.57it/s]\u001b[A\n",
      " 92%|███████████████████████████████████████████████████████████████████████████▏      | 88/96 [00:06<00:00, 13.88it/s]\u001b[A\n",
      " 94%|████████████████████████████████████████████████████████████████████████████▉     | 90/96 [00:06<00:00, 13.90it/s]\u001b[A\n",
      " 96%|██████████████████████████████████████████████████████████████████████████████▌   | 92/96 [00:06<00:00, 13.71it/s]\u001b[A\n",
      " 98%|████████████████████████████████████████████████████████████████████████████████▎ | 94/96 [00:06<00:00, 13.98it/s]\u001b[A\n",
      "100%|██████████████████████████████████████████████████████████████████████████████████| 96/96 [00:07<00:00, 13.65it/s]\u001b[A\n"
     ]
    },
    {
     "name": "stdout",
     "output_type": "stream",
     "text": [
      "Epoch 13 test loss: 0.2168 test acc: 0.9255\n"
     ]
    },
    {
     "name": "stderr",
     "output_type": "stream",
     "text": [
      "\n",
      "  0%|                                                                                           | 0/96 [00:00<?, ?it/s]\u001b[A\n",
      "  2%|█▋                                                                                 | 2/96 [00:00<00:06, 13.65it/s]\u001b[A\n",
      "  4%|███▍                                                                               | 4/96 [00:00<00:06, 13.72it/s]\u001b[A\n",
      "  6%|█████▏                                                                             | 6/96 [00:00<00:06, 13.82it/s]\u001b[A\n",
      "  8%|██████▉                                                                            | 8/96 [00:00<00:06, 13.83it/s]\u001b[A\n",
      " 10%|████████▌                                                                         | 10/96 [00:00<00:06, 13.77it/s]\u001b[A\n",
      " 12%|██████████▎                                                                       | 12/96 [00:00<00:06, 13.83it/s]\u001b[A\n",
      " 15%|███████████▉                                                                      | 14/96 [00:01<00:06, 13.65it/s]\u001b[A\n",
      " 17%|█████████████▋                                                                    | 16/96 [00:01<00:05, 13.38it/s]\u001b[A\n",
      " 19%|███████████████▍                                                                  | 18/96 [00:01<00:05, 13.25it/s]\u001b[A\n",
      " 21%|█████████████████                                                                 | 20/96 [00:01<00:05, 13.24it/s]\u001b[A\n",
      " 23%|██████████████████▊                                                               | 22/96 [00:01<00:05, 13.45it/s]\u001b[A\n",
      " 25%|████████████████████▌                                                             | 24/96 [00:01<00:05, 13.38it/s]\u001b[A\n",
      " 27%|██████████████████████▏                                                           | 26/96 [00:01<00:05, 13.46it/s]\u001b[A\n",
      " 29%|███████████████████████▉                                                          | 28/96 [00:02<00:05, 13.60it/s]\u001b[A\n",
      " 31%|█████████████████████████▋                                                        | 30/96 [00:02<00:04, 13.40it/s]\u001b[A\n",
      " 33%|███████████████████████████▎                                                      | 32/96 [00:02<00:04, 13.42it/s]\u001b[A\n",
      " 35%|█████████████████████████████                                                     | 34/96 [00:02<00:04, 13.20it/s]\u001b[A\n",
      " 38%|██████████████████████████████▊                                                   | 36/96 [00:02<00:04, 13.49it/s]\u001b[A\n",
      " 40%|████████████████████████████████▍                                                 | 38/96 [00:02<00:04, 13.44it/s]\u001b[A\n",
      " 42%|██████████████████████████████████▏                                               | 40/96 [00:02<00:04, 13.48it/s]\u001b[A\n",
      " 44%|███████████████████████████████████▉                                              | 42/96 [00:03<00:03, 13.58it/s]\u001b[A\n",
      " 46%|█████████████████████████████████████▌                                            | 44/96 [00:03<00:03, 13.69it/s]\u001b[A\n",
      " 48%|███████████████████████████████████████▎                                          | 46/96 [00:03<00:03, 13.65it/s]\u001b[A\n",
      " 50%|█████████████████████████████████████████                                         | 48/96 [00:03<00:03, 13.66it/s]\u001b[A\n",
      " 52%|██████████████████████████████████████████▋                                       | 50/96 [00:03<00:03, 13.60it/s]\u001b[A\n",
      " 54%|████████████████████████████████████████████▍                                     | 52/96 [00:03<00:03, 13.51it/s]\u001b[A\n",
      " 56%|██████████████████████████████████████████████▏                                   | 54/96 [00:03<00:03, 13.66it/s]\u001b[A\n",
      " 58%|███████████████████████████████████████████████▊                                  | 56/96 [00:04<00:02, 13.53it/s]\u001b[A\n",
      " 60%|█████████████████████████████████████████████████▌                                | 58/96 [00:04<00:02, 13.62it/s]\u001b[A\n",
      " 62%|███████████████████████████████████████████████████▎                              | 60/96 [00:04<00:02, 13.72it/s]\u001b[A\n",
      " 65%|████████████████████████████████████████████████████▉                             | 62/96 [00:04<00:02, 13.40it/s]\u001b[A\n",
      " 67%|██████████████████████████████████████████████████████▋                           | 64/96 [00:04<00:02, 13.56it/s]\u001b[A\n",
      " 69%|████████████████████████████████████████████████████████▍                         | 66/96 [00:04<00:02, 13.73it/s]\u001b[A\n",
      " 71%|██████████████████████████████████████████████████████████                        | 68/96 [00:05<00:02, 13.80it/s]\u001b[A\n",
      " 73%|███████████████████████████████████████████████████████████▊                      | 70/96 [00:05<00:01, 13.98it/s]\u001b[A\n",
      " 75%|█████████████████████████████████████████████████████████████▌                    | 72/96 [00:05<00:01, 14.18it/s]\u001b[A\n",
      " 77%|███████████████████████████████████████████████████████████████▏                  | 74/96 [00:05<00:01, 14.29it/s]\u001b[A\n",
      " 79%|████████████████████████████████████████████████████████████████▉                 | 76/96 [00:05<00:01, 14.10it/s]\u001b[A\n",
      " 81%|██████████████████████████████████████████████████████████████████▋               | 78/96 [00:05<00:01, 14.20it/s]\u001b[A\n",
      " 83%|████████████████████████████████████████████████████████████████████▎             | 80/96 [00:05<00:01, 14.19it/s]\u001b[A\n",
      " 85%|██████████████████████████████████████████████████████████████████████            | 82/96 [00:05<00:00, 14.29it/s]\u001b[A\n",
      " 88%|███████████████████████████████████████████████████████████████████████▊          | 84/96 [00:06<00:00, 14.28it/s]\u001b[A\n",
      " 90%|█████████████████████████████████████████████████████████████████████████▍        | 86/96 [00:06<00:00, 14.06it/s]\u001b[A\n",
      " 92%|███████████████████████████████████████████████████████████████████████████▏      | 88/96 [00:06<00:00, 13.85it/s]\u001b[A\n",
      " 94%|████████████████████████████████████████████████████████████████████████████▉     | 90/96 [00:06<00:00, 13.73it/s]\u001b[A\n",
      " 96%|██████████████████████████████████████████████████████████████████████████████▌   | 92/96 [00:06<00:00, 13.80it/s]\u001b[A\n",
      " 98%|████████████████████████████████████████████████████████████████████████████████▎ | 94/96 [00:06<00:00, 13.77it/s]\u001b[A\n",
      "100%|██████████████████████████████████████████████████████████████████████████████████| 96/96 [00:06<00:00, 13.75it/s]\u001b[A\n"
     ]
    },
    {
     "name": "stdout",
     "output_type": "stream",
     "text": [
      "Epoch 14 test loss: 0.2168 test acc: 0.9255\n"
     ]
    },
    {
     "name": "stderr",
     "output_type": "stream",
     "text": [
      "\n",
      "  0%|                                                                                           | 0/96 [00:00<?, ?it/s]\u001b[A\n",
      "  2%|█▋                                                                                 | 2/96 [00:00<00:06, 14.47it/s]\u001b[A\n",
      "  4%|███▍                                                                               | 4/96 [00:00<00:06, 14.18it/s]\u001b[A\n",
      "  6%|█████▏                                                                             | 6/96 [00:00<00:06, 14.29it/s]\u001b[A\n",
      "  8%|██████▉                                                                            | 8/96 [00:00<00:06, 14.07it/s]\u001b[A\n",
      " 10%|████████▌                                                                         | 10/96 [00:00<00:06, 13.96it/s]\u001b[A\n",
      " 12%|██████████▎                                                                       | 12/96 [00:00<00:05, 14.08it/s]\u001b[A\n",
      " 15%|███████████▉                                                                      | 14/96 [00:00<00:05, 14.00it/s]\u001b[A\n",
      " 17%|█████████████▋                                                                    | 16/96 [00:01<00:05, 14.11it/s]\u001b[A\n",
      " 19%|███████████████▍                                                                  | 18/96 [00:01<00:05, 14.08it/s]\u001b[A\n",
      " 21%|█████████████████                                                                 | 20/96 [00:01<00:05, 14.19it/s]\u001b[A\n",
      " 23%|██████████████████▊                                                               | 22/96 [00:01<00:05, 14.11it/s]\u001b[A\n",
      " 25%|████████████████████▌                                                             | 24/96 [00:01<00:05, 14.20it/s]\u001b[A\n",
      " 27%|██████████████████████▏                                                           | 26/96 [00:01<00:04, 14.00it/s]\u001b[A\n",
      " 29%|███████████████████████▉                                                          | 28/96 [00:01<00:04, 14.04it/s]\u001b[A\n",
      " 31%|█████████████████████████▋                                                        | 30/96 [00:02<00:04, 13.95it/s]\u001b[A\n",
      " 33%|███████████████████████████▎                                                      | 32/96 [00:02<00:04, 14.15it/s]\u001b[A\n",
      " 35%|█████████████████████████████                                                     | 34/96 [00:02<00:04, 14.15it/s]\u001b[A\n",
      " 38%|██████████████████████████████▊                                                   | 36/96 [00:02<00:04, 13.96it/s]\u001b[A\n",
      " 40%|████████████████████████████████▍                                                 | 38/96 [00:02<00:04, 14.10it/s]\u001b[A\n",
      " 42%|██████████████████████████████████▏                                               | 40/96 [00:02<00:04, 13.84it/s]\u001b[A\n",
      " 44%|███████████████████████████████████▉                                              | 42/96 [00:02<00:03, 13.76it/s]\u001b[A\n",
      " 46%|█████████████████████████████████████▌                                            | 44/96 [00:03<00:03, 13.76it/s]\u001b[A\n",
      " 48%|███████████████████████████████████████▎                                          | 46/96 [00:03<00:03, 13.54it/s]\u001b[A\n",
      " 50%|█████████████████████████████████████████                                         | 48/96 [00:03<00:03, 13.61it/s]\u001b[A\n",
      " 52%|██████████████████████████████████████████▋                                       | 50/96 [00:03<00:03, 13.62it/s]\u001b[A\n",
      " 54%|████████████████████████████████████████████▍                                     | 52/96 [00:03<00:03, 13.49it/s]\u001b[A\n",
      " 56%|██████████████████████████████████████████████▏                                   | 54/96 [00:03<00:03, 13.73it/s]\u001b[A\n",
      " 58%|███████████████████████████████████████████████▊                                  | 56/96 [00:04<00:02, 13.79it/s]\u001b[A\n",
      " 60%|█████████████████████████████████████████████████▌                                | 58/96 [00:04<00:02, 13.80it/s]\u001b[A\n",
      " 62%|███████████████████████████████████████████████████▎                              | 60/96 [00:04<00:02, 13.59it/s]\u001b[A\n",
      " 65%|████████████████████████████████████████████████████▉                             | 62/96 [00:04<00:02, 13.60it/s]\u001b[A\n",
      " 67%|██████████████████████████████████████████████████████▋                           | 64/96 [00:04<00:02, 13.56it/s]\u001b[A\n",
      " 69%|████████████████████████████████████████████████████████▍                         | 66/96 [00:04<00:02, 13.67it/s]\u001b[A\n",
      " 71%|██████████████████████████████████████████████████████████                        | 68/96 [00:04<00:02, 13.78it/s]\u001b[A\n",
      " 73%|███████████████████████████████████████████████████████████▊                      | 70/96 [00:05<00:01, 13.82it/s]\u001b[A\n",
      " 75%|█████████████████████████████████████████████████████████████▌                    | 72/96 [00:05<00:01, 13.71it/s]\u001b[A\n",
      " 77%|███████████████████████████████████████████████████████████████▏                  | 74/96 [00:05<00:01, 13.26it/s]\u001b[A\n",
      " 79%|████████████████████████████████████████████████████████████████▉                 | 76/96 [00:05<00:01, 13.25it/s]\u001b[A\n",
      " 81%|██████████████████████████████████████████████████████████████████▋               | 78/96 [00:05<00:01, 13.40it/s]\u001b[A\n",
      " 83%|████████████████████████████████████████████████████████████████████▎             | 80/96 [00:05<00:01, 13.61it/s]\u001b[A\n",
      " 85%|██████████████████████████████████████████████████████████████████████            | 82/96 [00:05<00:01, 13.42it/s]\u001b[A\n",
      " 88%|███████████████████████████████████████████████████████████████████████▊          | 84/96 [00:06<00:00, 13.57it/s]\u001b[A\n",
      " 90%|█████████████████████████████████████████████████████████████████████████▍        | 86/96 [00:06<00:00, 13.68it/s]\u001b[A\n",
      " 92%|███████████████████████████████████████████████████████████████████████████▏      | 88/96 [00:06<00:00, 13.64it/s]\u001b[A\n",
      " 94%|████████████████████████████████████████████████████████████████████████████▉     | 90/96 [00:06<00:00, 13.62it/s]\u001b[A\n",
      " 96%|██████████████████████████████████████████████████████████████████████████████▌   | 92/96 [00:06<00:00, 13.88it/s]\u001b[A\n",
      " 98%|████████████████████████████████████████████████████████████████████████████████▎ | 94/96 [00:06<00:00, 13.76it/s]\u001b[A\n",
      "100%|██████████████████████████████████████████████████████████████████████████████████| 96/96 [00:06<00:00, 13.83it/s]\u001b[A\n"
     ]
    },
    {
     "name": "stdout",
     "output_type": "stream",
     "text": [
      "Epoch 15 test loss: 0.2168 test acc: 0.9255\n"
     ]
    },
    {
     "name": "stderr",
     "output_type": "stream",
     "text": [
      "\n",
      "  0%|                                                                                           | 0/96 [00:00<?, ?it/s]\u001b[A\n",
      "  2%|█▋                                                                                 | 2/96 [00:00<00:06, 13.48it/s]\u001b[A\n",
      "  4%|███▍                                                                               | 4/96 [00:00<00:06, 13.90it/s]\u001b[A\n",
      "  6%|█████▏                                                                             | 6/96 [00:00<00:06, 13.87it/s]\u001b[A\n",
      "  8%|██████▉                                                                            | 8/96 [00:00<00:06, 13.90it/s]\u001b[A\n",
      " 10%|████████▌                                                                         | 10/96 [00:00<00:06, 14.09it/s]\u001b[A\n",
      " 12%|██████████▎                                                                       | 12/96 [00:00<00:05, 14.04it/s]\u001b[A\n",
      " 15%|███████████▉                                                                      | 14/96 [00:01<00:05, 14.01it/s]\u001b[A\n",
      " 17%|█████████████▋                                                                    | 16/96 [00:01<00:05, 14.17it/s]\u001b[A\n",
      " 19%|███████████████▍                                                                  | 18/96 [00:01<00:05, 14.31it/s]\u001b[A\n",
      " 21%|█████████████████                                                                 | 20/96 [00:01<00:05, 14.24it/s]\u001b[A\n",
      " 23%|██████████████████▊                                                               | 22/96 [00:01<00:05, 14.27it/s]\u001b[A\n",
      " 25%|████████████████████▌                                                             | 24/96 [00:01<00:05, 14.29it/s]\u001b[A\n",
      " 27%|██████████████████████▏                                                           | 26/96 [00:01<00:04, 14.12it/s]\u001b[A\n",
      " 29%|███████████████████████▉                                                          | 28/96 [00:01<00:04, 14.06it/s]\u001b[A\n",
      " 31%|█████████████████████████▋                                                        | 30/96 [00:02<00:04, 14.17it/s]\u001b[A\n",
      " 33%|███████████████████████████▎                                                      | 32/96 [00:02<00:04, 14.16it/s]\u001b[A\n",
      " 35%|█████████████████████████████                                                     | 34/96 [00:02<00:04, 14.09it/s]\u001b[A\n",
      " 38%|██████████████████████████████▊                                                   | 36/96 [00:02<00:04, 14.16it/s]\u001b[A\n",
      " 40%|████████████████████████████████▍                                                 | 38/96 [00:02<00:04, 13.86it/s]\u001b[A\n",
      " 42%|██████████████████████████████████▏                                               | 40/96 [00:02<00:04, 13.87it/s]\u001b[A\n",
      " 44%|███████████████████████████████████▉                                              | 42/96 [00:02<00:03, 13.89it/s]\u001b[A\n",
      " 46%|█████████████████████████████████████▌                                            | 44/96 [00:03<00:03, 13.97it/s]\u001b[A\n",
      " 48%|███████████████████████████████████████▎                                          | 46/96 [00:03<00:03, 14.04it/s]\u001b[A\n",
      " 50%|█████████████████████████████████████████                                         | 48/96 [00:03<00:03, 13.87it/s]\u001b[A\n",
      " 52%|██████████████████████████████████████████▋                                       | 50/96 [00:03<00:03, 13.94it/s]\u001b[A\n",
      " 54%|████████████████████████████████████████████▍                                     | 52/96 [00:03<00:03, 13.95it/s]\u001b[A\n",
      " 56%|██████████████████████████████████████████████▏                                   | 54/96 [00:03<00:03, 14.00it/s]\u001b[A\n",
      " 58%|███████████████████████████████████████████████▊                                  | 56/96 [00:03<00:02, 14.04it/s]\u001b[A\n",
      " 60%|█████████████████████████████████████████████████▌                                | 58/96 [00:04<00:02, 14.00it/s]\u001b[A\n",
      " 62%|███████████████████████████████████████████████████▎                              | 60/96 [00:04<00:02, 13.99it/s]\u001b[A\n",
      " 65%|████████████████████████████████████████████████████▉                             | 62/96 [00:04<00:02, 13.85it/s]\u001b[A\n",
      " 67%|██████████████████████████████████████████████████████▋                           | 64/96 [00:04<00:02, 13.88it/s]\u001b[A\n",
      " 69%|████████████████████████████████████████████████████████▍                         | 66/96 [00:04<00:02, 13.75it/s]\u001b[A\n",
      " 71%|██████████████████████████████████████████████████████████                        | 68/96 [00:04<00:02, 13.69it/s]\u001b[A\n",
      " 73%|███████████████████████████████████████████████████████████▊                      | 70/96 [00:05<00:01, 13.80it/s]\u001b[A\n",
      " 75%|█████████████████████████████████████████████████████████████▌                    | 72/96 [00:05<00:01, 13.71it/s]\u001b[A\n",
      " 77%|███████████████████████████████████████████████████████████████▏                  | 74/96 [00:05<00:01, 13.81it/s]\u001b[A\n",
      " 79%|████████████████████████████████████████████████████████████████▉                 | 76/96 [00:05<00:01, 13.84it/s]\u001b[A\n",
      " 81%|██████████████████████████████████████████████████████████████████▋               | 78/96 [00:05<00:01, 13.87it/s]\u001b[A\n",
      " 83%|████████████████████████████████████████████████████████████████████▎             | 80/96 [00:05<00:01, 13.75it/s]\u001b[A\n",
      " 85%|██████████████████████████████████████████████████████████████████████            | 82/96 [00:05<00:01, 13.72it/s]\u001b[A\n",
      " 88%|███████████████████████████████████████████████████████████████████████▊          | 84/96 [00:06<00:00, 13.70it/s]\u001b[A\n",
      " 90%|█████████████████████████████████████████████████████████████████████████▍        | 86/96 [00:06<00:00, 13.96it/s]\u001b[A\n",
      " 92%|███████████████████████████████████████████████████████████████████████████▏      | 88/96 [00:06<00:00, 13.91it/s]\u001b[A\n",
      " 94%|████████████████████████████████████████████████████████████████████████████▉     | 90/96 [00:06<00:00, 13.69it/s]\u001b[A\n",
      " 96%|██████████████████████████████████████████████████████████████████████████████▌   | 92/96 [00:06<00:00, 13.85it/s]\u001b[A\n",
      " 98%|████████████████████████████████████████████████████████████████████████████████▎ | 94/96 [00:06<00:00, 13.82it/s]\u001b[A\n",
      "100%|██████████████████████████████████████████████████████████████████████████████████| 96/96 [00:06<00:00, 13.98it/s]\u001b[A\n"
     ]
    },
    {
     "name": "stdout",
     "output_type": "stream",
     "text": [
      "Epoch 16 test loss: 0.2168 test acc: 0.9255\n"
     ]
    },
    {
     "name": "stderr",
     "output_type": "stream",
     "text": [
      "\n",
      "  0%|                                                                                           | 0/96 [00:00<?, ?it/s]\u001b[A\n",
      "  2%|█▋                                                                                 | 2/96 [00:00<00:06, 14.05it/s]\u001b[A\n",
      "  4%|███▍                                                                               | 4/96 [00:00<00:06, 14.09it/s]\u001b[A\n",
      "  6%|█████▏                                                                             | 6/96 [00:00<00:06, 13.84it/s]\u001b[A\n",
      "  8%|██████▉                                                                            | 8/96 [00:00<00:06, 14.00it/s]\u001b[A\n",
      " 10%|████████▌                                                                         | 10/96 [00:00<00:06, 14.15it/s]\u001b[A\n",
      " 12%|██████████▎                                                                       | 12/96 [00:00<00:05, 14.11it/s]\u001b[A\n",
      " 15%|███████████▉                                                                      | 14/96 [00:00<00:05, 13.99it/s]\u001b[A\n",
      " 17%|█████████████▋                                                                    | 16/96 [00:01<00:05, 14.01it/s]\u001b[A\n",
      " 19%|███████████████▍                                                                  | 18/96 [00:01<00:05, 14.05it/s]\u001b[A\n",
      " 21%|█████████████████                                                                 | 20/96 [00:01<00:05, 14.08it/s]\u001b[A\n",
      " 23%|██████████████████▊                                                               | 22/96 [00:01<00:05, 14.18it/s]\u001b[A\n",
      " 25%|████████████████████▌                                                             | 24/96 [00:01<00:05, 14.02it/s]\u001b[A\n",
      " 27%|██████████████████████▏                                                           | 26/96 [00:01<00:04, 14.02it/s]\u001b[A\n",
      " 29%|███████████████████████▉                                                          | 28/96 [00:01<00:04, 13.88it/s]\u001b[A\n",
      " 31%|█████████████████████████▋                                                        | 30/96 [00:02<00:04, 13.81it/s]\u001b[A\n",
      " 33%|███████████████████████████▎                                                      | 32/96 [00:02<00:04, 13.91it/s]\u001b[A\n",
      " 35%|█████████████████████████████                                                     | 34/96 [00:02<00:04, 13.92it/s]\u001b[A\n",
      " 38%|██████████████████████████████▊                                                   | 36/96 [00:02<00:04, 13.98it/s]\u001b[A\n",
      " 40%|████████████████████████████████▍                                                 | 38/96 [00:02<00:04, 13.91it/s]\u001b[A\n",
      " 42%|██████████████████████████████████▏                                               | 40/96 [00:02<00:04, 13.84it/s]\u001b[A\n",
      " 44%|███████████████████████████████████▉                                              | 42/96 [00:03<00:03, 13.92it/s]\u001b[A\n",
      " 46%|█████████████████████████████████████▌                                            | 44/96 [00:03<00:03, 13.84it/s]\u001b[A\n",
      " 48%|███████████████████████████████████████▎                                          | 46/96 [00:03<00:03, 13.72it/s]\u001b[A\n",
      " 50%|█████████████████████████████████████████                                         | 48/96 [00:03<00:03, 13.87it/s]\u001b[A\n",
      " 52%|██████████████████████████████████████████▋                                       | 50/96 [00:03<00:03, 13.66it/s]\u001b[A\n",
      " 54%|████████████████████████████████████████████▍                                     | 52/96 [00:03<00:03, 13.69it/s]\u001b[A\n",
      " 56%|██████████████████████████████████████████████▏                                   | 54/96 [00:03<00:03, 13.90it/s]\u001b[A\n",
      " 58%|███████████████████████████████████████████████▊                                  | 56/96 [00:04<00:02, 13.63it/s]\u001b[A\n",
      " 60%|█████████████████████████████████████████████████▌                                | 58/96 [00:04<00:02, 13.83it/s]\u001b[A\n",
      " 62%|███████████████████████████████████████████████████▎                              | 60/96 [00:04<00:02, 13.86it/s]\u001b[A\n",
      " 65%|████████████████████████████████████████████████████▉                             | 62/96 [00:04<00:02, 13.94it/s]\u001b[A\n",
      " 67%|██████████████████████████████████████████████████████▋                           | 64/96 [00:04<00:02, 13.68it/s]\u001b[A\n",
      " 69%|████████████████████████████████████████████████████████▍                         | 66/96 [00:04<00:02, 13.58it/s]\u001b[A\n",
      " 71%|██████████████████████████████████████████████████████████                        | 68/96 [00:04<00:02, 13.80it/s]\u001b[A\n",
      " 73%|███████████████████████████████████████████████████████████▊                      | 70/96 [00:05<00:01, 13.90it/s]\u001b[A\n",
      " 75%|█████████████████████████████████████████████████████████████▌                    | 72/96 [00:05<00:01, 14.06it/s]\u001b[A\n",
      " 77%|███████████████████████████████████████████████████████████████▏                  | 74/96 [00:05<00:01, 14.08it/s]\u001b[A\n",
      " 79%|████████████████████████████████████████████████████████████████▉                 | 76/96 [00:05<00:01, 13.84it/s]\u001b[A\n",
      " 81%|██████████████████████████████████████████████████████████████████▋               | 78/96 [00:05<00:01, 13.53it/s]\u001b[A\n",
      " 83%|████████████████████████████████████████████████████████████████████▎             | 80/96 [00:05<00:01, 13.22it/s]\u001b[A\n",
      " 85%|██████████████████████████████████████████████████████████████████████            | 82/96 [00:05<00:01, 13.54it/s]\u001b[A\n",
      " 88%|███████████████████████████████████████████████████████████████████████▊          | 84/96 [00:06<00:00, 13.63it/s]\u001b[A\n",
      " 90%|█████████████████████████████████████████████████████████████████████████▍        | 86/96 [00:06<00:00, 13.83it/s]\u001b[A\n",
      " 92%|███████████████████████████████████████████████████████████████████████████▏      | 88/96 [00:06<00:00, 13.64it/s]\u001b[A\n",
      " 94%|████████████████████████████████████████████████████████████████████████████▉     | 90/96 [00:06<00:00, 13.82it/s]\u001b[A\n",
      " 96%|██████████████████████████████████████████████████████████████████████████████▌   | 92/96 [00:06<00:00, 13.96it/s]\u001b[A\n",
      " 98%|████████████████████████████████████████████████████████████████████████████████▎ | 94/96 [00:06<00:00, 13.92it/s]\u001b[A\n",
      "100%|██████████████████████████████████████████████████████████████████████████████████| 96/96 [00:06<00:00, 13.89it/s]\u001b[A\n"
     ]
    },
    {
     "name": "stdout",
     "output_type": "stream",
     "text": [
      "Epoch 17 test loss: 0.2168 test acc: 0.9255\n"
     ]
    },
    {
     "name": "stderr",
     "output_type": "stream",
     "text": [
      "\n",
      "  0%|                                                                                           | 0/96 [00:00<?, ?it/s]\u001b[A\n",
      "  2%|█▋                                                                                 | 2/96 [00:00<00:06, 13.56it/s]\u001b[A\n",
      "  4%|███▍                                                                               | 4/96 [00:00<00:07, 13.09it/s]\u001b[A\n",
      "  6%|█████▏                                                                             | 6/96 [00:00<00:06, 13.11it/s]\u001b[A\n",
      "  8%|██████▉                                                                            | 8/96 [00:00<00:06, 13.35it/s]\u001b[A\n",
      " 10%|████████▌                                                                         | 10/96 [00:00<00:06, 13.63it/s]\u001b[A\n",
      " 12%|██████████▎                                                                       | 12/96 [00:00<00:06, 13.64it/s]\u001b[A\n",
      " 15%|███████████▉                                                                      | 14/96 [00:01<00:06, 13.58it/s]\u001b[A\n",
      " 17%|█████████████▋                                                                    | 16/96 [00:01<00:05, 13.60it/s]\u001b[A\n",
      " 19%|███████████████▍                                                                  | 18/96 [00:01<00:05, 13.74it/s]\u001b[A\n",
      " 21%|█████████████████                                                                 | 20/96 [00:01<00:05, 13.74it/s]\u001b[A\n",
      " 23%|██████████████████▊                                                               | 22/96 [00:01<00:05, 13.61it/s]\u001b[A\n",
      " 25%|████████████████████▌                                                             | 24/96 [00:01<00:05, 13.74it/s]\u001b[A\n",
      " 27%|██████████████████████▏                                                           | 26/96 [00:01<00:05, 13.63it/s]\u001b[A\n",
      " 29%|███████████████████████▉                                                          | 28/96 [00:02<00:04, 13.61it/s]\u001b[A\n",
      " 31%|█████████████████████████▋                                                        | 30/96 [00:02<00:04, 13.57it/s]\u001b[A\n",
      " 33%|███████████████████████████▎                                                      | 32/96 [00:02<00:04, 13.60it/s]\u001b[A\n",
      " 35%|█████████████████████████████                                                     | 34/96 [00:02<00:04, 13.59it/s]\u001b[A\n",
      " 38%|██████████████████████████████▊                                                   | 36/96 [00:02<00:04, 13.56it/s]\u001b[A\n",
      " 40%|████████████████████████████████▍                                                 | 38/96 [00:02<00:04, 13.40it/s]\u001b[A\n",
      " 42%|██████████████████████████████████▏                                               | 40/96 [00:02<00:04, 13.48it/s]\u001b[A\n",
      " 44%|███████████████████████████████████▉                                              | 42/96 [00:03<00:04, 13.43it/s]\u001b[A\n",
      " 46%|█████████████████████████████████████▌                                            | 44/96 [00:03<00:03, 13.69it/s]\u001b[A\n",
      " 48%|███████████████████████████████████████▎                                          | 46/96 [00:03<00:03, 13.88it/s]\u001b[A\n",
      " 50%|█████████████████████████████████████████                                         | 48/96 [00:03<00:03, 13.95it/s]\u001b[A\n",
      " 52%|██████████████████████████████████████████▋                                       | 50/96 [00:03<00:03, 13.81it/s]\u001b[A\n",
      " 54%|████████████████████████████████████████████▍                                     | 52/96 [00:03<00:03, 13.54it/s]\u001b[A\n",
      " 56%|██████████████████████████████████████████████▏                                   | 54/96 [00:03<00:03, 13.36it/s]\u001b[A\n",
      " 58%|███████████████████████████████████████████████▊                                  | 56/96 [00:04<00:03, 13.18it/s]\u001b[A\n",
      " 60%|█████████████████████████████████████████████████▌                                | 58/96 [00:04<00:02, 13.49it/s]\u001b[A\n",
      " 62%|███████████████████████████████████████████████████▎                              | 60/96 [00:04<00:02, 13.76it/s]\u001b[A\n",
      " 65%|████████████████████████████████████████████████████▉                             | 62/96 [00:04<00:02, 13.51it/s]\u001b[A\n",
      " 67%|██████████████████████████████████████████████████████▋                           | 64/96 [00:04<00:02, 13.45it/s]\u001b[A\n",
      " 69%|████████████████████████████████████████████████████████▍                         | 66/96 [00:04<00:02, 13.57it/s]\u001b[A\n",
      " 71%|██████████████████████████████████████████████████████████                        | 68/96 [00:05<00:02, 13.46it/s]\u001b[A\n",
      " 73%|███████████████████████████████████████████████████████████▊                      | 70/96 [00:05<00:01, 13.60it/s]\u001b[A\n",
      " 75%|█████████████████████████████████████████████████████████████▌                    | 72/96 [00:05<00:01, 13.67it/s]\u001b[A\n",
      " 77%|███████████████████████████████████████████████████████████████▏                  | 74/96 [00:05<00:01, 13.73it/s]\u001b[A\n",
      " 79%|████████████████████████████████████████████████████████████████▉                 | 76/96 [00:05<00:01, 13.57it/s]\u001b[A\n",
      " 81%|██████████████████████████████████████████████████████████████████▋               | 78/96 [00:05<00:01, 13.41it/s]\u001b[A\n",
      " 83%|████████████████████████████████████████████████████████████████████▎             | 80/96 [00:05<00:01, 13.70it/s]\u001b[A\n",
      " 85%|██████████████████████████████████████████████████████████████████████            | 82/96 [00:06<00:01, 13.69it/s]\u001b[A\n",
      " 88%|███████████████████████████████████████████████████████████████████████▊          | 84/96 [00:06<00:00, 13.83it/s]\u001b[A\n",
      " 90%|█████████████████████████████████████████████████████████████████████████▍        | 86/96 [00:06<00:00, 13.83it/s]\u001b[A\n",
      " 92%|███████████████████████████████████████████████████████████████████████████▏      | 88/96 [00:06<00:00, 13.84it/s]\u001b[A\n",
      " 94%|████████████████████████████████████████████████████████████████████████████▉     | 90/96 [00:06<00:00, 13.79it/s]\u001b[A\n",
      " 96%|██████████████████████████████████████████████████████████████████████████████▌   | 92/96 [00:06<00:00, 13.64it/s]\u001b[A\n",
      " 98%|████████████████████████████████████████████████████████████████████████████████▎ | 94/96 [00:06<00:00, 13.48it/s]\u001b[A\n",
      "100%|██████████████████████████████████████████████████████████████████████████████████| 96/96 [00:07<00:00, 13.62it/s]\u001b[A\n"
     ]
    },
    {
     "name": "stdout",
     "output_type": "stream",
     "text": [
      "Epoch 18 test loss: 0.2168 test acc: 0.9255\n"
     ]
    },
    {
     "name": "stderr",
     "output_type": "stream",
     "text": [
      "\n",
      "  0%|                                                                                           | 0/96 [00:00<?, ?it/s]\u001b[A\n",
      "  2%|█▋                                                                                 | 2/96 [00:00<00:07, 12.32it/s]\u001b[A\n",
      "  4%|███▍                                                                               | 4/96 [00:00<00:07, 13.13it/s]\u001b[A\n",
      "  6%|█████▏                                                                             | 6/96 [00:00<00:06, 13.74it/s]\u001b[A\n",
      "  8%|██████▉                                                                            | 8/96 [00:00<00:06, 13.80it/s]\u001b[A\n",
      " 10%|████████▌                                                                         | 10/96 [00:00<00:06, 13.89it/s]\u001b[A\n",
      " 12%|██████████▎                                                                       | 12/96 [00:00<00:05, 14.01it/s]\u001b[A\n",
      " 15%|███████████▉                                                                      | 14/96 [00:01<00:05, 14.02it/s]\u001b[A\n",
      " 17%|█████████████▋                                                                    | 16/96 [00:01<00:05, 13.87it/s]\u001b[A\n",
      " 19%|███████████████▍                                                                  | 18/96 [00:01<00:05, 13.89it/s]\u001b[A\n",
      " 21%|█████████████████                                                                 | 20/96 [00:01<00:05, 13.91it/s]\u001b[A\n",
      " 23%|██████████████████▊                                                               | 22/96 [00:01<00:05, 14.04it/s]\u001b[A\n",
      " 25%|████████████████████▌                                                             | 24/96 [00:01<00:05, 14.10it/s]\u001b[A\n",
      " 27%|██████████████████████▏                                                           | 26/96 [00:01<00:04, 14.12it/s]\u001b[A\n",
      " 29%|███████████████████████▉                                                          | 28/96 [00:02<00:04, 13.66it/s]\u001b[A\n",
      " 31%|█████████████████████████▋                                                        | 30/96 [00:02<00:04, 13.41it/s]\u001b[A\n",
      " 33%|███████████████████████████▎                                                      | 32/96 [00:02<00:04, 13.63it/s]\u001b[A\n",
      " 35%|█████████████████████████████                                                     | 34/96 [00:02<00:04, 13.86it/s]\u001b[A\n",
      " 38%|██████████████████████████████▊                                                   | 36/96 [00:02<00:04, 13.75it/s]\u001b[A\n",
      " 40%|████████████████████████████████▍                                                 | 38/96 [00:02<00:04, 13.58it/s]\u001b[A\n",
      " 42%|██████████████████████████████████▏                                               | 40/96 [00:02<00:04, 13.55it/s]\u001b[A\n",
      " 44%|███████████████████████████████████▉                                              | 42/96 [00:03<00:04, 13.40it/s]\u001b[A\n",
      " 46%|█████████████████████████████████████▌                                            | 44/96 [00:03<00:03, 13.50it/s]\u001b[A\n",
      " 48%|███████████████████████████████████████▎                                          | 46/96 [00:03<00:03, 13.58it/s]\u001b[A\n",
      " 50%|█████████████████████████████████████████                                         | 48/96 [00:03<00:03, 13.41it/s]\u001b[A\n",
      " 52%|██████████████████████████████████████████▋                                       | 50/96 [00:03<00:03, 13.54it/s]\u001b[A\n",
      " 54%|████████████████████████████████████████████▍                                     | 52/96 [00:03<00:03, 13.77it/s]\u001b[A\n",
      " 56%|██████████████████████████████████████████████▏                                   | 54/96 [00:03<00:03, 13.57it/s]\u001b[A\n",
      " 58%|███████████████████████████████████████████████▊                                  | 56/96 [00:04<00:02, 13.60it/s]\u001b[A\n",
      " 60%|█████████████████████████████████████████████████▌                                | 58/96 [00:04<00:02, 13.62it/s]\u001b[A\n",
      " 62%|███████████████████████████████████████████████████▎                              | 60/96 [00:04<00:02, 13.92it/s]\u001b[A\n",
      " 65%|████████████████████████████████████████████████████▉                             | 62/96 [00:04<00:02, 13.62it/s]\u001b[A\n",
      " 67%|██████████████████████████████████████████████████████▋                           | 64/96 [00:04<00:02, 13.83it/s]\u001b[A\n",
      " 69%|████████████████████████████████████████████████████████▍                         | 66/96 [00:04<00:02, 13.98it/s]\u001b[A\n",
      " 71%|██████████████████████████████████████████████████████████                        | 68/96 [00:04<00:02, 13.88it/s]\u001b[A\n",
      " 73%|███████████████████████████████████████████████████████████▊                      | 70/96 [00:05<00:01, 13.96it/s]\u001b[A\n",
      " 75%|█████████████████████████████████████████████████████████████▌                    | 72/96 [00:05<00:01, 13.90it/s]\u001b[A\n",
      " 77%|███████████████████████████████████████████████████████████████▏                  | 74/96 [00:05<00:01, 14.18it/s]\u001b[A\n",
      " 79%|████████████████████████████████████████████████████████████████▉                 | 76/96 [00:05<00:01, 14.26it/s]\u001b[A\n",
      " 81%|██████████████████████████████████████████████████████████████████▋               | 78/96 [00:05<00:01, 14.31it/s]\u001b[A\n",
      " 83%|████████████████████████████████████████████████████████████████████▎             | 80/96 [00:05<00:01, 14.32it/s]\u001b[A\n",
      " 85%|██████████████████████████████████████████████████████████████████████            | 82/96 [00:05<00:00, 14.09it/s]\u001b[A\n",
      " 88%|███████████████████████████████████████████████████████████████████████▊          | 84/96 [00:06<00:00, 14.02it/s]\u001b[A\n",
      " 90%|█████████████████████████████████████████████████████████████████████████▍        | 86/96 [00:06<00:00, 14.18it/s]\u001b[A\n",
      " 92%|███████████████████████████████████████████████████████████████████████████▏      | 88/96 [00:06<00:00, 13.99it/s]\u001b[A\n",
      " 94%|████████████████████████████████████████████████████████████████████████████▉     | 90/96 [00:06<00:00, 14.04it/s]\u001b[A\n",
      " 96%|██████████████████████████████████████████████████████████████████████████████▌   | 92/96 [00:06<00:00, 14.04it/s]\u001b[A\n",
      " 98%|████████████████████████████████████████████████████████████████████████████████▎ | 94/96 [00:06<00:00, 14.10it/s]\u001b[A\n",
      "100%|██████████████████████████████████████████████████████████████████████████████████| 96/96 [00:06<00:00, 13.91it/s]\u001b[A\n"
     ]
    },
    {
     "name": "stdout",
     "output_type": "stream",
     "text": [
      "Epoch 19 test loss: 0.2168 test acc: 0.9255\n"
     ]
    },
    {
     "name": "stderr",
     "output_type": "stream",
     "text": [
      "\n",
      "  0%|                                                                                           | 0/96 [00:00<?, ?it/s]\u001b[A\n",
      "  2%|█▋                                                                                 | 2/96 [00:00<00:07, 12.63it/s]\u001b[A\n",
      "  4%|███▍                                                                               | 4/96 [00:00<00:06, 13.38it/s]\u001b[A\n",
      "  6%|█████▏                                                                             | 6/96 [00:00<00:06, 13.59it/s]\u001b[A\n",
      "  8%|██████▉                                                                            | 8/96 [00:00<00:06, 13.96it/s]\u001b[A\n",
      " 10%|████████▌                                                                         | 10/96 [00:00<00:06, 14.06it/s]\u001b[A\n",
      " 12%|██████████▎                                                                       | 12/96 [00:00<00:06, 13.99it/s]\u001b[A\n",
      " 15%|███████████▉                                                                      | 14/96 [00:01<00:05, 13.94it/s]\u001b[A\n",
      " 17%|█████████████▋                                                                    | 16/96 [00:01<00:05, 13.79it/s]\u001b[A\n",
      " 19%|███████████████▍                                                                  | 18/96 [00:01<00:05, 13.46it/s]\u001b[A\n",
      " 21%|█████████████████                                                                 | 20/96 [00:01<00:05, 13.30it/s]\u001b[A\n",
      " 23%|██████████████████▊                                                               | 22/96 [00:01<00:05, 13.47it/s]\u001b[A\n",
      " 25%|████████████████████▌                                                             | 24/96 [00:01<00:05, 13.67it/s]\u001b[A\n",
      " 27%|██████████████████████▏                                                           | 26/96 [00:01<00:05, 13.67it/s]\u001b[A\n",
      " 29%|███████████████████████▉                                                          | 28/96 [00:02<00:05, 13.55it/s]\u001b[A\n",
      " 31%|█████████████████████████▋                                                        | 30/96 [00:02<00:04, 13.62it/s]\u001b[A\n",
      " 33%|███████████████████████████▎                                                      | 32/96 [00:02<00:04, 13.23it/s]\u001b[A\n",
      " 35%|█████████████████████████████                                                     | 34/96 [00:02<00:04, 13.28it/s]\u001b[A\n",
      " 38%|██████████████████████████████▊                                                   | 36/96 [00:02<00:04, 13.05it/s]\u001b[A\n",
      " 40%|████████████████████████████████▍                                                 | 38/96 [00:02<00:04, 13.10it/s]\u001b[A\n",
      " 42%|██████████████████████████████████▏                                               | 40/96 [00:02<00:04, 13.11it/s]\u001b[A\n",
      " 44%|███████████████████████████████████▉                                              | 42/96 [00:03<00:04, 13.29it/s]\u001b[A\n",
      " 46%|█████████████████████████████████████▌                                            | 44/96 [00:03<00:03, 13.40it/s]\u001b[A\n",
      " 48%|███████████████████████████████████████▎                                          | 46/96 [00:03<00:03, 13.43it/s]\u001b[A\n",
      " 50%|█████████████████████████████████████████                                         | 48/96 [00:03<00:03, 13.55it/s]\u001b[A\n",
      " 52%|██████████████████████████████████████████▋                                       | 50/96 [00:03<00:03, 13.50it/s]\u001b[A\n",
      " 54%|████████████████████████████████████████████▍                                     | 52/96 [00:03<00:03, 13.55it/s]\u001b[A\n",
      " 56%|██████████████████████████████████████████████▏                                   | 54/96 [00:04<00:03, 13.50it/s]\u001b[A\n",
      " 58%|███████████████████████████████████████████████▊                                  | 56/96 [00:04<00:02, 13.61it/s]\u001b[A\n",
      " 60%|█████████████████████████████████████████████████▌                                | 58/96 [00:04<00:02, 13.49it/s]\u001b[A\n",
      " 62%|███████████████████████████████████████████████████▎                              | 60/96 [00:04<00:02, 13.40it/s]\u001b[A\n",
      " 65%|████████████████████████████████████████████████████▉                             | 62/96 [00:04<00:02, 13.40it/s]\u001b[A\n",
      " 67%|██████████████████████████████████████████████████████▋                           | 64/96 [00:04<00:02, 13.66it/s]\u001b[A\n",
      " 69%|████████████████████████████████████████████████████████▍                         | 66/96 [00:04<00:02, 13.63it/s]\u001b[A\n",
      " 71%|██████████████████████████████████████████████████████████                        | 68/96 [00:05<00:02, 13.26it/s]\u001b[A\n",
      " 73%|███████████████████████████████████████████████████████████▊                      | 70/96 [00:05<00:01, 13.25it/s]\u001b[A\n",
      " 75%|█████████████████████████████████████████████████████████████▌                    | 72/96 [00:05<00:01, 13.37it/s]\u001b[A\n",
      " 77%|███████████████████████████████████████████████████████████████▏                  | 74/96 [00:05<00:01, 13.59it/s]\u001b[A\n",
      " 79%|████████████████████████████████████████████████████████████████▉                 | 76/96 [00:05<00:01, 13.61it/s]\u001b[A\n",
      " 81%|██████████████████████████████████████████████████████████████████▋               | 78/96 [00:05<00:01, 13.82it/s]\u001b[A\n",
      " 83%|████████████████████████████████████████████████████████████████████▎             | 80/96 [00:05<00:01, 13.95it/s]\u001b[A\n",
      " 85%|██████████████████████████████████████████████████████████████████████            | 82/96 [00:06<00:00, 14.01it/s]\u001b[A\n",
      " 88%|███████████████████████████████████████████████████████████████████████▊          | 84/96 [00:06<00:00, 13.65it/s]\u001b[A\n",
      " 90%|█████████████████████████████████████████████████████████████████████████▍        | 86/96 [00:06<00:00, 13.79it/s]\u001b[A\n",
      " 92%|███████████████████████████████████████████████████████████████████████████▏      | 88/96 [00:06<00:00, 13.78it/s]\u001b[A\n",
      " 94%|████████████████████████████████████████████████████████████████████████████▉     | 90/96 [00:06<00:00, 13.66it/s]\u001b[A\n",
      " 96%|██████████████████████████████████████████████████████████████████████████████▌   | 92/96 [00:06<00:00, 13.61it/s]\u001b[A\n",
      " 98%|████████████████████████████████████████████████████████████████████████████████▎ | 94/96 [00:06<00:00, 13.57it/s]\u001b[A\n",
      "100%|██████████████████████████████████████████████████████████████████████████████████| 96/96 [00:07<00:00, 13.59it/s]\u001b[A\n"
     ]
    },
    {
     "name": "stdout",
     "output_type": "stream",
     "text": [
      "Epoch 20 test loss: 0.2168 test acc: 0.9255\n"
     ]
    },
    {
     "name": "stderr",
     "output_type": "stream",
     "text": [
      "\n",
      "  0%|                                                                                           | 0/96 [00:00<?, ?it/s]\u001b[A\n",
      "  2%|█▋                                                                                 | 2/96 [00:00<00:06, 14.15it/s]\u001b[A\n",
      "  4%|███▍                                                                               | 4/96 [00:00<00:06, 13.58it/s]\u001b[A\n",
      "  6%|█████▏                                                                             | 6/96 [00:00<00:06, 13.50it/s]\u001b[A\n",
      "  8%|██████▉                                                                            | 8/96 [00:00<00:06, 13.49it/s]\u001b[A\n",
      " 10%|████████▌                                                                         | 10/96 [00:00<00:06, 13.72it/s]\u001b[A\n",
      " 12%|██████████▎                                                                       | 12/96 [00:00<00:06, 13.58it/s]\u001b[A\n",
      " 15%|███████████▉                                                                      | 14/96 [00:01<00:06, 13.57it/s]\u001b[A\n",
      " 17%|█████████████▋                                                                    | 16/96 [00:01<00:05, 13.60it/s]\u001b[A\n",
      " 19%|███████████████▍                                                                  | 18/96 [00:01<00:05, 13.51it/s]\u001b[A\n",
      " 21%|█████████████████                                                                 | 20/96 [00:01<00:05, 13.61it/s]\u001b[A\n",
      " 23%|██████████████████▊                                                               | 22/96 [00:01<00:05, 13.83it/s]\u001b[A\n",
      " 25%|████████████████████▌                                                             | 24/96 [00:01<00:05, 13.95it/s]\u001b[A\n",
      " 27%|██████████████████████▏                                                           | 26/96 [00:01<00:05, 13.98it/s]\u001b[A\n",
      " 29%|███████████████████████▉                                                          | 28/96 [00:02<00:04, 13.91it/s]\u001b[A\n",
      " 31%|█████████████████████████▋                                                        | 30/96 [00:02<00:04, 13.75it/s]\u001b[A\n",
      " 33%|███████████████████████████▎                                                      | 32/96 [00:02<00:04, 13.90it/s]\u001b[A\n",
      " 35%|█████████████████████████████                                                     | 34/96 [00:02<00:04, 14.00it/s]\u001b[A\n",
      " 38%|██████████████████████████████▊                                                   | 36/96 [00:02<00:04, 13.84it/s]\u001b[A\n",
      " 40%|████████████████████████████████▍                                                 | 38/96 [00:02<00:04, 13.99it/s]\u001b[A\n",
      " 42%|██████████████████████████████████▏                                               | 40/96 [00:02<00:03, 14.07it/s]\u001b[A\n",
      " 44%|███████████████████████████████████▉                                              | 42/96 [00:03<00:03, 14.06it/s]\u001b[A\n",
      " 46%|█████████████████████████████████████▌                                            | 44/96 [00:03<00:03, 14.02it/s]\u001b[A\n",
      " 48%|███████████████████████████████████████▎                                          | 46/96 [00:03<00:03, 14.00it/s]\u001b[A\n",
      " 50%|█████████████████████████████████████████                                         | 48/96 [00:03<00:03, 13.87it/s]\u001b[A\n",
      " 52%|██████████████████████████████████████████▋                                       | 50/96 [00:03<00:03, 13.64it/s]\u001b[A\n",
      " 54%|████████████████████████████████████████████▍                                     | 52/96 [00:03<00:03, 13.82it/s]\u001b[A\n",
      " 56%|██████████████████████████████████████████████▏                                   | 54/96 [00:03<00:03, 13.86it/s]\u001b[A\n",
      " 58%|███████████████████████████████████████████████▊                                  | 56/96 [00:04<00:02, 13.91it/s]\u001b[A\n",
      " 60%|█████████████████████████████████████████████████▌                                | 58/96 [00:04<00:02, 13.84it/s]\u001b[A\n",
      " 62%|███████████████████████████████████████████████████▎                              | 60/96 [00:04<00:02, 13.79it/s]\u001b[A\n",
      " 65%|████████████████████████████████████████████████████▉                             | 62/96 [00:04<00:02, 13.81it/s]\u001b[A\n",
      " 67%|██████████████████████████████████████████████████████▋                           | 64/96 [00:04<00:02, 13.94it/s]\u001b[A\n",
      " 69%|████████████████████████████████████████████████████████▍                         | 66/96 [00:04<00:02, 13.97it/s]\u001b[A\n",
      " 71%|██████████████████████████████████████████████████████████                        | 68/96 [00:04<00:02, 13.68it/s]\u001b[A\n",
      " 73%|███████████████████████████████████████████████████████████▊                      | 70/96 [00:05<00:01, 13.70it/s]\u001b[A\n",
      " 75%|█████████████████████████████████████████████████████████████▌                    | 72/96 [00:05<00:01, 13.74it/s]\u001b[A\n",
      " 77%|███████████████████████████████████████████████████████████████▏                  | 74/96 [00:05<00:01, 13.61it/s]\u001b[A\n",
      " 79%|████████████████████████████████████████████████████████████████▉                 | 76/96 [00:05<00:01, 13.57it/s]\u001b[A\n",
      " 81%|██████████████████████████████████████████████████████████████████▋               | 78/96 [00:05<00:01, 13.58it/s]\u001b[A\n",
      " 83%|████████████████████████████████████████████████████████████████████▎             | 80/96 [00:05<00:01, 13.52it/s]\u001b[A\n",
      " 85%|██████████████████████████████████████████████████████████████████████            | 82/96 [00:05<00:01, 13.70it/s]\u001b[A\n",
      " 88%|███████████████████████████████████████████████████████████████████████▊          | 84/96 [00:06<00:00, 13.80it/s]\u001b[A\n",
      " 90%|█████████████████████████████████████████████████████████████████████████▍        | 86/96 [00:06<00:00, 13.67it/s]\u001b[A\n",
      " 92%|███████████████████████████████████████████████████████████████████████████▏      | 88/96 [00:06<00:00, 13.53it/s]\u001b[A\n",
      " 94%|████████████████████████████████████████████████████████████████████████████▉     | 90/96 [00:06<00:00, 13.71it/s]\u001b[A\n",
      " 96%|██████████████████████████████████████████████████████████████████████████████▌   | 92/96 [00:06<00:00, 13.72it/s]\u001b[A\n",
      " 98%|████████████████████████████████████████████████████████████████████████████████▎ | 94/96 [00:06<00:00, 13.51it/s]\u001b[A\n",
      "100%|██████████████████████████████████████████████████████████████████████████████████| 96/96 [00:06<00:00, 13.79it/s]\u001b[A\n"
     ]
    },
    {
     "name": "stdout",
     "output_type": "stream",
     "text": [
      "Epoch 21 test loss: 0.2168 test acc: 0.9255\n"
     ]
    },
    {
     "name": "stderr",
     "output_type": "stream",
     "text": [
      "\n",
      "  0%|                                                                                           | 0/96 [00:00<?, ?it/s]\u001b[A\n",
      "  2%|█▋                                                                                 | 2/96 [00:00<00:06, 14.05it/s]\u001b[A\n",
      "  4%|███▍                                                                               | 4/96 [00:00<00:06, 13.71it/s]\u001b[A\n",
      "  6%|█████▏                                                                             | 6/96 [00:00<00:06, 13.40it/s]\u001b[A\n",
      "  8%|██████▉                                                                            | 8/96 [00:00<00:06, 13.43it/s]\u001b[A\n",
      " 10%|████████▌                                                                         | 10/96 [00:00<00:06, 13.55it/s]\u001b[A\n",
      " 12%|██████████▎                                                                       | 12/96 [00:00<00:06, 13.65it/s]\u001b[A\n",
      " 15%|███████████▉                                                                      | 14/96 [00:01<00:06, 13.65it/s]\u001b[A\n",
      " 17%|█████████████▋                                                                    | 16/96 [00:01<00:05, 13.75it/s]\u001b[A\n",
      " 19%|███████████████▍                                                                  | 18/96 [00:01<00:05, 13.72it/s]\u001b[A\n",
      " 21%|█████████████████                                                                 | 20/96 [00:01<00:05, 13.39it/s]\u001b[A\n",
      " 23%|██████████████████▊                                                               | 22/96 [00:01<00:05, 13.31it/s]\u001b[A\n",
      " 25%|████████████████████▌                                                             | 24/96 [00:01<00:05, 13.47it/s]\u001b[A\n",
      " 27%|██████████████████████▏                                                           | 26/96 [00:01<00:05, 13.45it/s]\u001b[A\n",
      " 29%|███████████████████████▉                                                          | 28/96 [00:02<00:05, 13.49it/s]\u001b[A\n",
      " 31%|█████████████████████████▋                                                        | 30/96 [00:02<00:04, 13.46it/s]\u001b[A\n",
      " 33%|███████████████████████████▎                                                      | 32/96 [00:02<00:04, 13.36it/s]\u001b[A\n",
      " 35%|█████████████████████████████                                                     | 34/96 [00:02<00:04, 13.47it/s]\u001b[A\n",
      " 38%|██████████████████████████████▊                                                   | 36/96 [00:02<00:04, 13.39it/s]\u001b[A\n",
      " 40%|████████████████████████████████▍                                                 | 38/96 [00:02<00:04, 13.61it/s]\u001b[A\n",
      " 42%|██████████████████████████████████▏                                               | 40/96 [00:02<00:04, 13.63it/s]\u001b[A\n",
      " 44%|███████████████████████████████████▉                                              | 42/96 [00:03<00:03, 13.69it/s]\u001b[A\n",
      " 46%|█████████████████████████████████████▌                                            | 44/96 [00:03<00:03, 13.55it/s]\u001b[A\n",
      " 48%|███████████████████████████████████████▎                                          | 46/96 [00:03<00:03, 13.61it/s]\u001b[A\n",
      " 50%|█████████████████████████████████████████                                         | 48/96 [00:03<00:03, 13.52it/s]\u001b[A\n",
      " 52%|██████████████████████████████████████████▋                                       | 50/96 [00:03<00:03, 13.48it/s]\u001b[A\n",
      " 54%|████████████████████████████████████████████▍                                     | 52/96 [00:03<00:03, 13.51it/s]\u001b[A\n",
      " 56%|██████████████████████████████████████████████▏                                   | 54/96 [00:03<00:03, 13.58it/s]\u001b[A\n",
      " 58%|███████████████████████████████████████████████▊                                  | 56/96 [00:04<00:02, 13.66it/s]\u001b[A\n",
      " 60%|█████████████████████████████████████████████████▌                                | 58/96 [00:04<00:02, 13.39it/s]\u001b[A\n",
      " 62%|███████████████████████████████████████████████████▎                              | 60/96 [00:04<00:02, 13.31it/s]\u001b[A\n",
      " 65%|████████████████████████████████████████████████████▉                             | 62/96 [00:04<00:02, 13.36it/s]\u001b[A\n",
      " 67%|██████████████████████████████████████████████████████▋                           | 64/96 [00:04<00:02, 13.37it/s]\u001b[A\n",
      " 69%|████████████████████████████████████████████████████████▍                         | 66/96 [00:04<00:02, 13.32it/s]\u001b[A\n",
      " 71%|██████████████████████████████████████████████████████████                        | 68/96 [00:05<00:02, 13.39it/s]\u001b[A\n",
      " 73%|███████████████████████████████████████████████████████████▊                      | 70/96 [00:05<00:01, 13.31it/s]\u001b[A\n",
      " 75%|█████████████████████████████████████████████████████████████▌                    | 72/96 [00:05<00:01, 13.26it/s]\u001b[A\n",
      " 77%|███████████████████████████████████████████████████████████████▏                  | 74/96 [00:05<00:01, 13.04it/s]\u001b[A\n",
      " 79%|████████████████████████████████████████████████████████████████▉                 | 76/96 [00:05<00:01, 13.27it/s]\u001b[A\n",
      " 81%|██████████████████████████████████████████████████████████████████▋               | 78/96 [00:05<00:01, 13.28it/s]\u001b[A\n",
      " 83%|████████████████████████████████████████████████████████████████████▎             | 80/96 [00:05<00:01, 13.08it/s]\u001b[A\n",
      " 85%|██████████████████████████████████████████████████████████████████████            | 82/96 [00:06<00:01, 13.17it/s]\u001b[A\n",
      " 88%|███████████████████████████████████████████████████████████████████████▊          | 84/96 [00:06<00:00, 13.37it/s]\u001b[A\n",
      " 90%|█████████████████████████████████████████████████████████████████████████▍        | 86/96 [00:06<00:00, 13.46it/s]\u001b[A\n",
      " 92%|███████████████████████████████████████████████████████████████████████████▏      | 88/96 [00:06<00:00, 13.36it/s]\u001b[A\n",
      " 94%|████████████████████████████████████████████████████████████████████████████▉     | 90/96 [00:06<00:00, 13.47it/s]\u001b[A\n",
      " 96%|██████████████████████████████████████████████████████████████████████████████▌   | 92/96 [00:06<00:00, 13.56it/s]\u001b[A\n",
      " 98%|████████████████████████████████████████████████████████████████████████████████▎ | 94/96 [00:06<00:00, 13.56it/s]\u001b[A\n",
      "100%|██████████████████████████████████████████████████████████████████████████████████| 96/96 [00:07<00:00, 13.50it/s]\u001b[A\n"
     ]
    },
    {
     "name": "stdout",
     "output_type": "stream",
     "text": [
      "Epoch 22 test loss: 0.2168 test acc: 0.9255\n"
     ]
    },
    {
     "name": "stderr",
     "output_type": "stream",
     "text": [
      "\n",
      "  0%|                                                                                           | 0/96 [00:00<?, ?it/s]\u001b[A\n",
      "  2%|█▋                                                                                 | 2/96 [00:00<00:06, 14.15it/s]\u001b[A\n",
      "  4%|███▍                                                                               | 4/96 [00:00<00:06, 13.75it/s]\u001b[A\n",
      "  6%|█████▏                                                                             | 6/96 [00:00<00:06, 13.93it/s]\u001b[A\n",
      "  8%|██████▉                                                                            | 8/96 [00:00<00:06, 13.86it/s]\u001b[A\n",
      " 10%|████████▌                                                                         | 10/96 [00:00<00:06, 13.55it/s]\u001b[A\n",
      " 12%|██████████▎                                                                       | 12/96 [00:00<00:06, 13.41it/s]\u001b[A\n",
      " 15%|███████████▉                                                                      | 14/96 [00:01<00:06, 13.46it/s]\u001b[A\n",
      " 17%|█████████████▋                                                                    | 16/96 [00:01<00:05, 13.58it/s]\u001b[A\n",
      " 19%|███████████████▍                                                                  | 18/96 [00:01<00:05, 13.27it/s]\u001b[A\n",
      " 21%|█████████████████                                                                 | 20/96 [00:01<00:05, 13.31it/s]\u001b[A\n",
      " 23%|██████████████████▊                                                               | 22/96 [00:01<00:05, 13.36it/s]\u001b[A\n",
      " 25%|████████████████████▌                                                             | 24/96 [00:01<00:05, 13.48it/s]\u001b[A\n",
      " 27%|██████████████████████▏                                                           | 26/96 [00:01<00:05, 13.73it/s]\u001b[A\n",
      " 29%|███████████████████████▉                                                          | 28/96 [00:02<00:04, 13.77it/s]\u001b[A\n",
      " 31%|█████████████████████████▋                                                        | 30/96 [00:02<00:04, 13.85it/s]\u001b[A\n",
      " 33%|███████████████████████████▎                                                      | 32/96 [00:02<00:04, 13.63it/s]\u001b[A\n",
      " 35%|█████████████████████████████                                                     | 34/96 [00:02<00:04, 13.69it/s]\u001b[A\n",
      " 38%|██████████████████████████████▊                                                   | 36/96 [00:02<00:04, 13.60it/s]\u001b[A\n",
      " 40%|████████████████████████████████▍                                                 | 38/96 [00:02<00:04, 13.57it/s]\u001b[A\n",
      " 42%|██████████████████████████████████▏                                               | 40/96 [00:02<00:04, 13.57it/s]\u001b[A\n",
      " 44%|███████████████████████████████████▉                                              | 42/96 [00:03<00:03, 13.68it/s]\u001b[A\n",
      " 46%|█████████████████████████████████████▌                                            | 44/96 [00:03<00:03, 13.32it/s]\u001b[A\n",
      " 48%|███████████████████████████████████████▎                                          | 46/96 [00:03<00:03, 13.29it/s]\u001b[A\n",
      " 50%|█████████████████████████████████████████                                         | 48/96 [00:03<00:03, 13.32it/s]\u001b[A\n",
      " 52%|██████████████████████████████████████████▋                                       | 50/96 [00:03<00:03, 13.58it/s]\u001b[A\n",
      " 54%|████████████████████████████████████████████▍                                     | 52/96 [00:03<00:03, 13.72it/s]\u001b[A\n",
      " 56%|██████████████████████████████████████████████▏                                   | 54/96 [00:03<00:03, 13.54it/s]\u001b[A\n",
      " 58%|███████████████████████████████████████████████▊                                  | 56/96 [00:04<00:02, 13.39it/s]\u001b[A\n",
      " 60%|█████████████████████████████████████████████████▌                                | 58/96 [00:04<00:02, 13.58it/s]\u001b[A\n",
      " 62%|███████████████████████████████████████████████████▎                              | 60/96 [00:04<00:02, 13.60it/s]\u001b[A\n",
      " 65%|████████████████████████████████████████████████████▉                             | 62/96 [00:04<00:02, 13.68it/s]\u001b[A\n",
      " 67%|██████████████████████████████████████████████████████▋                           | 64/96 [00:04<00:02, 13.32it/s]\u001b[A\n",
      " 69%|████████████████████████████████████████████████████████▍                         | 66/96 [00:04<00:02, 13.45it/s]\u001b[A\n",
      " 71%|██████████████████████████████████████████████████████████                        | 68/96 [00:05<00:02, 13.49it/s]\u001b[A\n",
      " 73%|███████████████████████████████████████████████████████████▊                      | 70/96 [00:05<00:01, 13.80it/s]\u001b[A\n",
      " 75%|█████████████████████████████████████████████████████████████▌                    | 72/96 [00:05<00:01, 13.67it/s]\u001b[A\n",
      " 77%|███████████████████████████████████████████████████████████████▏                  | 74/96 [00:05<00:01, 13.73it/s]\u001b[A\n",
      " 79%|████████████████████████████████████████████████████████████████▉                 | 76/96 [00:05<00:01, 13.58it/s]\u001b[A\n",
      " 81%|██████████████████████████████████████████████████████████████████▋               | 78/96 [00:05<00:01, 13.57it/s]\u001b[A\n",
      " 83%|████████████████████████████████████████████████████████████████████▎             | 80/96 [00:05<00:01, 13.28it/s]\u001b[A\n",
      " 85%|██████████████████████████████████████████████████████████████████████            | 82/96 [00:06<00:01, 13.18it/s]\u001b[A\n",
      " 88%|███████████████████████████████████████████████████████████████████████▊          | 84/96 [00:06<00:00, 13.08it/s]\u001b[A\n",
      " 90%|█████████████████████████████████████████████████████████████████████████▍        | 86/96 [00:06<00:00, 13.28it/s]\u001b[A\n",
      " 92%|███████████████████████████████████████████████████████████████████████████▏      | 88/96 [00:06<00:00, 13.36it/s]\u001b[A\n",
      " 94%|████████████████████████████████████████████████████████████████████████████▉     | 90/96 [00:06<00:00, 13.29it/s]\u001b[A\n",
      " 96%|██████████████████████████████████████████████████████████████████████████████▌   | 92/96 [00:06<00:00, 13.24it/s]\u001b[A\n",
      " 98%|████████████████████████████████████████████████████████████████████████████████▎ | 94/96 [00:06<00:00, 13.46it/s]\u001b[A\n",
      "100%|██████████████████████████████████████████████████████████████████████████████████| 96/96 [00:07<00:00, 13.56it/s]\u001b[A\n"
     ]
    },
    {
     "name": "stdout",
     "output_type": "stream",
     "text": [
      "Epoch 23 test loss: 0.2168 test acc: 0.9255\n"
     ]
    },
    {
     "name": "stderr",
     "output_type": "stream",
     "text": [
      "\n",
      "  0%|                                                                                           | 0/96 [00:00<?, ?it/s]\u001b[A\n",
      "  2%|█▋                                                                                 | 2/96 [00:00<00:06, 14.23it/s]\u001b[A\n",
      "  4%|███▍                                                                               | 4/96 [00:00<00:06, 13.89it/s]\u001b[A\n",
      "  6%|█████▏                                                                             | 6/96 [00:00<00:06, 13.92it/s]\u001b[A\n",
      "  8%|██████▉                                                                            | 8/96 [00:00<00:06, 13.85it/s]\u001b[A\n",
      " 10%|████████▌                                                                         | 10/96 [00:00<00:06, 13.85it/s]\u001b[A\n",
      " 12%|██████████▎                                                                       | 12/96 [00:00<00:06, 13.85it/s]\u001b[A\n",
      " 15%|███████████▉                                                                      | 14/96 [00:01<00:05, 13.78it/s]\u001b[A\n",
      " 17%|█████████████▋                                                                    | 16/96 [00:01<00:05, 13.90it/s]\u001b[A\n",
      " 19%|███████████████▍                                                                  | 18/96 [00:01<00:05, 13.71it/s]\u001b[A\n",
      " 21%|█████████████████                                                                 | 20/96 [00:01<00:05, 13.52it/s]\u001b[A\n",
      " 23%|██████████████████▊                                                               | 22/96 [00:01<00:05, 13.62it/s]\u001b[A\n",
      " 25%|████████████████████▌                                                             | 24/96 [00:01<00:05, 13.69it/s]\u001b[A\n",
      " 27%|██████████████████████▏                                                           | 26/96 [00:01<00:05, 13.91it/s]\u001b[A\n",
      " 29%|███████████████████████▉                                                          | 28/96 [00:02<00:04, 13.78it/s]\u001b[A\n",
      " 31%|█████████████████████████▋                                                        | 30/96 [00:02<00:04, 13.77it/s]\u001b[A\n",
      " 33%|███████████████████████████▎                                                      | 32/96 [00:02<00:04, 13.52it/s]\u001b[A\n",
      " 35%|█████████████████████████████                                                     | 34/96 [00:02<00:04, 13.67it/s]\u001b[A\n",
      " 38%|██████████████████████████████▊                                                   | 36/96 [00:02<00:04, 13.53it/s]\u001b[A\n",
      " 40%|████████████████████████████████▍                                                 | 38/96 [00:02<00:04, 13.65it/s]\u001b[A\n",
      " 42%|██████████████████████████████████▏                                               | 40/96 [00:02<00:04, 13.66it/s]\u001b[A\n",
      " 44%|███████████████████████████████████▉                                              | 42/96 [00:03<00:03, 13.80it/s]\u001b[A\n",
      " 46%|█████████████████████████████████████▌                                            | 44/96 [00:03<00:03, 13.82it/s]\u001b[A\n",
      " 48%|███████████████████████████████████████▎                                          | 46/96 [00:03<00:03, 13.80it/s]\u001b[A\n",
      " 50%|█████████████████████████████████████████                                         | 48/96 [00:03<00:03, 13.79it/s]\u001b[A\n",
      " 52%|██████████████████████████████████████████▋                                       | 50/96 [00:03<00:03, 13.72it/s]\u001b[A\n",
      " 54%|████████████████████████████████████████████▍                                     | 52/96 [00:03<00:03, 13.55it/s]\u001b[A\n",
      " 56%|██████████████████████████████████████████████▏                                   | 54/96 [00:03<00:03, 13.44it/s]\u001b[A\n",
      " 58%|███████████████████████████████████████████████▊                                  | 56/96 [00:04<00:02, 13.46it/s]\u001b[A\n",
      " 60%|█████████████████████████████████████████████████▌                                | 58/96 [00:04<00:02, 13.54it/s]\u001b[A\n",
      " 62%|███████████████████████████████████████████████████▎                              | 60/96 [00:04<00:02, 13.58it/s]\u001b[A\n",
      " 65%|████████████████████████████████████████████████████▉                             | 62/96 [00:04<00:02, 13.68it/s]\u001b[A\n",
      " 67%|██████████████████████████████████████████████████████▋                           | 64/96 [00:04<00:02, 13.54it/s]\u001b[A\n",
      " 69%|████████████████████████████████████████████████████████▍                         | 66/96 [00:04<00:02, 13.55it/s]\u001b[A\n",
      " 71%|██████████████████████████████████████████████████████████                        | 68/96 [00:04<00:02, 13.45it/s]\u001b[A\n",
      " 73%|███████████████████████████████████████████████████████████▊                      | 70/96 [00:05<00:01, 13.43it/s]\u001b[A\n",
      " 75%|█████████████████████████████████████████████████████████████▌                    | 72/96 [00:05<00:01, 13.61it/s]\u001b[A\n",
      " 77%|███████████████████████████████████████████████████████████████▏                  | 74/96 [00:05<00:01, 13.79it/s]\u001b[A\n",
      " 79%|████████████████████████████████████████████████████████████████▉                 | 76/96 [00:05<00:01, 13.85it/s]\u001b[A\n",
      " 81%|██████████████████████████████████████████████████████████████████▋               | 78/96 [00:05<00:01, 13.45it/s]\u001b[A\n",
      " 83%|████████████████████████████████████████████████████████████████████▎             | 80/96 [00:05<00:01, 13.43it/s]\u001b[A\n",
      " 85%|██████████████████████████████████████████████████████████████████████            | 82/96 [00:06<00:01, 13.44it/s]\u001b[A\n",
      " 88%|███████████████████████████████████████████████████████████████████████▊          | 84/96 [00:06<00:00, 13.43it/s]\u001b[A\n",
      " 90%|█████████████████████████████████████████████████████████████████████████▍        | 86/96 [00:06<00:00, 13.23it/s]\u001b[A\n",
      " 92%|███████████████████████████████████████████████████████████████████████████▏      | 88/96 [00:06<00:00, 13.35it/s]\u001b[A\n",
      " 94%|████████████████████████████████████████████████████████████████████████████▉     | 90/96 [00:06<00:00, 13.13it/s]\u001b[A\n",
      " 96%|██████████████████████████████████████████████████████████████████████████████▌   | 92/96 [00:06<00:00, 13.08it/s]\u001b[A\n",
      " 98%|████████████████████████████████████████████████████████████████████████████████▎ | 94/96 [00:06<00:00, 12.99it/s]\u001b[A\n",
      "100%|██████████████████████████████████████████████████████████████████████████████████| 96/96 [00:07<00:00, 13.61it/s]\u001b[A\n"
     ]
    },
    {
     "name": "stdout",
     "output_type": "stream",
     "text": [
      "Epoch 24 test loss: 0.2168 test acc: 0.9255\n"
     ]
    },
    {
     "name": "stderr",
     "output_type": "stream",
     "text": [
      "\n",
      "  0%|                                                                                           | 0/96 [00:00<?, ?it/s]\u001b[A\n",
      "  2%|█▋                                                                                 | 2/96 [00:00<00:07, 13.12it/s]\u001b[A\n",
      "  4%|███▍                                                                               | 4/96 [00:00<00:06, 13.33it/s]\u001b[A\n",
      "  6%|█████▏                                                                             | 6/96 [00:00<00:06, 13.52it/s]\u001b[A\n",
      "  8%|██████▉                                                                            | 8/96 [00:00<00:06, 13.25it/s]\u001b[A\n",
      " 10%|████████▌                                                                         | 10/96 [00:00<00:06, 13.05it/s]\u001b[A\n",
      " 12%|██████████▎                                                                       | 12/96 [00:00<00:06, 13.20it/s]\u001b[A\n",
      " 15%|███████████▉                                                                      | 14/96 [00:01<00:06, 13.29it/s]\u001b[A\n",
      " 17%|█████████████▋                                                                    | 16/96 [00:01<00:05, 13.41it/s]\u001b[A\n",
      " 19%|███████████████▍                                                                  | 18/96 [00:01<00:05, 13.51it/s]\u001b[A\n",
      " 21%|█████████████████                                                                 | 20/96 [00:01<00:05, 13.53it/s]\u001b[A\n",
      " 23%|██████████████████▊                                                               | 22/96 [00:01<00:05, 13.54it/s]\u001b[A\n",
      " 25%|████████████████████▌                                                             | 24/96 [00:01<00:05, 13.69it/s]\u001b[A\n",
      " 27%|██████████████████████▏                                                           | 26/96 [00:01<00:05, 13.46it/s]\u001b[A\n",
      " 29%|███████████████████████▉                                                          | 28/96 [00:02<00:05, 13.17it/s]\u001b[A\n",
      " 31%|█████████████████████████▋                                                        | 30/96 [00:02<00:04, 13.34it/s]\u001b[A\n",
      " 33%|███████████████████████████▎                                                      | 32/96 [00:02<00:04, 13.23it/s]\u001b[A\n",
      " 35%|█████████████████████████████                                                     | 34/96 [00:02<00:04, 13.04it/s]\u001b[A\n",
      " 38%|██████████████████████████████▊                                                   | 36/96 [00:02<00:04, 13.15it/s]\u001b[A\n",
      " 40%|████████████████████████████████▍                                                 | 38/96 [00:02<00:04, 13.24it/s]\u001b[A\n",
      " 42%|██████████████████████████████████▏                                               | 40/96 [00:03<00:04, 13.34it/s]\u001b[A\n",
      " 44%|███████████████████████████████████▉                                              | 42/96 [00:03<00:04, 13.44it/s]\u001b[A\n",
      " 46%|█████████████████████████████████████▌                                            | 44/96 [00:03<00:03, 13.61it/s]\u001b[A\n",
      " 48%|███████████████████████████████████████▎                                          | 46/96 [00:03<00:03, 13.45it/s]\u001b[A\n",
      " 50%|█████████████████████████████████████████                                         | 48/96 [00:03<00:03, 13.43it/s]\u001b[A\n",
      " 52%|██████████████████████████████████████████▋                                       | 50/96 [00:03<00:03, 13.29it/s]\u001b[A\n",
      " 54%|████████████████████████████████████████████▍                                     | 52/96 [00:03<00:03, 13.45it/s]\u001b[A\n",
      " 56%|██████████████████████████████████████████████▏                                   | 54/96 [00:04<00:03, 13.40it/s]\u001b[A\n",
      " 58%|███████████████████████████████████████████████▊                                  | 56/96 [00:04<00:02, 13.37it/s]\u001b[A\n",
      " 60%|█████████████████████████████████████████████████▌                                | 58/96 [00:04<00:02, 13.65it/s]\u001b[A\n",
      " 62%|███████████████████████████████████████████████████▎                              | 60/96 [00:04<00:02, 13.79it/s]\u001b[A\n",
      " 65%|████████████████████████████████████████████████████▉                             | 62/96 [00:04<00:02, 13.73it/s]\u001b[A\n",
      " 67%|██████████████████████████████████████████████████████▋                           | 64/96 [00:04<00:02, 13.79it/s]\u001b[A\n",
      " 69%|████████████████████████████████████████████████████████▍                         | 66/96 [00:04<00:02, 13.72it/s]\u001b[A\n",
      " 71%|██████████████████████████████████████████████████████████                        | 68/96 [00:05<00:02, 13.65it/s]\u001b[A\n",
      " 73%|███████████████████████████████████████████████████████████▊                      | 70/96 [00:05<00:01, 13.46it/s]\u001b[A\n",
      " 75%|█████████████████████████████████████████████████████████████▌                    | 72/96 [00:05<00:01, 13.63it/s]\u001b[A\n",
      " 77%|███████████████████████████████████████████████████████████████▏                  | 74/96 [00:05<00:01, 13.67it/s]\u001b[A\n",
      " 79%|████████████████████████████████████████████████████████████████▉                 | 76/96 [00:05<00:01, 13.45it/s]\u001b[A\n",
      " 81%|██████████████████████████████████████████████████████████████████▋               | 78/96 [00:05<00:01, 13.59it/s]\u001b[A\n",
      " 83%|████████████████████████████████████████████████████████████████████▎             | 80/96 [00:05<00:01, 13.45it/s]\u001b[A\n",
      " 85%|██████████████████████████████████████████████████████████████████████            | 82/96 [00:06<00:01, 13.48it/s]\u001b[A\n",
      " 88%|███████████████████████████████████████████████████████████████████████▊          | 84/96 [00:06<00:00, 13.45it/s]\u001b[A\n",
      " 90%|█████████████████████████████████████████████████████████████████████████▍        | 86/96 [00:06<00:00, 13.33it/s]\u001b[A\n",
      " 92%|███████████████████████████████████████████████████████████████████████████▏      | 88/96 [00:06<00:00, 13.50it/s]\u001b[A\n",
      " 94%|████████████████████████████████████████████████████████████████████████████▉     | 90/96 [00:06<00:00, 13.61it/s]\u001b[A\n",
      " 96%|██████████████████████████████████████████████████████████████████████████████▌   | 92/96 [00:06<00:00, 13.62it/s]\u001b[A\n",
      " 98%|████████████████████████████████████████████████████████████████████████████████▎ | 94/96 [00:06<00:00, 13.55it/s]\u001b[A\n",
      "100%|██████████████████████████████████████████████████████████████████████████████████| 96/96 [00:07<00:00, 13.51it/s]\u001b[A\n"
     ]
    },
    {
     "name": "stdout",
     "output_type": "stream",
     "text": [
      "Epoch 25 test loss: 0.2168 test acc: 0.9255\n"
     ]
    },
    {
     "name": "stderr",
     "output_type": "stream",
     "text": [
      "\n",
      "  0%|                                                                                           | 0/96 [00:00<?, ?it/s]\u001b[A\n",
      "  2%|█▋                                                                                 | 2/96 [00:00<00:06, 13.56it/s]\u001b[A\n",
      "  4%|███▍                                                                               | 4/96 [00:00<00:06, 13.70it/s]\u001b[A\n",
      "  6%|█████▏                                                                             | 6/96 [00:00<00:06, 13.60it/s]\u001b[A\n",
      "  8%|██████▉                                                                            | 8/96 [00:00<00:06, 13.51it/s]\u001b[A\n",
      " 10%|████████▌                                                                         | 10/96 [00:00<00:06, 13.56it/s]\u001b[A\n",
      " 12%|██████████▎                                                                       | 12/96 [00:00<00:06, 13.63it/s]\u001b[A\n",
      " 15%|███████████▉                                                                      | 14/96 [00:01<00:06, 13.40it/s]\u001b[A\n",
      " 17%|█████████████▋                                                                    | 16/96 [00:01<00:05, 13.48it/s]\u001b[A\n",
      " 19%|███████████████▍                                                                  | 18/96 [00:01<00:05, 13.54it/s]\u001b[A\n",
      " 21%|█████████████████                                                                 | 20/96 [00:01<00:05, 13.57it/s]\u001b[A\n",
      " 23%|██████████████████▊                                                               | 22/96 [00:01<00:05, 13.66it/s]\u001b[A\n",
      " 25%|████████████████████▌                                                             | 24/96 [00:01<00:05, 13.68it/s]\u001b[A\n",
      " 27%|██████████████████████▏                                                           | 26/96 [00:01<00:05, 13.48it/s]\u001b[A\n",
      " 29%|███████████████████████▉                                                          | 28/96 [00:02<00:05, 13.54it/s]\u001b[A\n",
      " 31%|█████████████████████████▋                                                        | 30/96 [00:02<00:04, 13.71it/s]\u001b[A\n",
      " 33%|███████████████████████████▎                                                      | 32/96 [00:02<00:04, 13.78it/s]\u001b[A\n",
      " 35%|█████████████████████████████                                                     | 34/96 [00:02<00:04, 13.89it/s]\u001b[A\n",
      " 38%|██████████████████████████████▊                                                   | 36/96 [00:02<00:04, 13.96it/s]\u001b[A\n",
      " 40%|████████████████████████████████▍                                                 | 38/96 [00:02<00:04, 14.07it/s]\u001b[A\n",
      " 42%|██████████████████████████████████▏                                               | 40/96 [00:02<00:03, 14.07it/s]\u001b[A\n",
      " 44%|███████████████████████████████████▉                                              | 42/96 [00:03<00:03, 14.06it/s]\u001b[A\n",
      " 46%|█████████████████████████████████████▌                                            | 44/96 [00:03<00:03, 13.60it/s]\u001b[A\n",
      " 48%|███████████████████████████████████████▎                                          | 46/96 [00:03<00:03, 13.27it/s]\u001b[A\n",
      " 50%|█████████████████████████████████████████                                         | 48/96 [00:03<00:03, 13.49it/s]\u001b[A\n",
      " 52%|██████████████████████████████████████████▋                                       | 50/96 [00:03<00:03, 13.46it/s]\u001b[A\n",
      " 54%|████████████████████████████████████████████▍                                     | 52/96 [00:03<00:03, 13.47it/s]\u001b[A\n",
      " 56%|██████████████████████████████████████████████▏                                   | 54/96 [00:03<00:03, 13.55it/s]\u001b[A\n",
      " 58%|███████████████████████████████████████████████▊                                  | 56/96 [00:04<00:02, 13.56it/s]\u001b[A\n",
      " 60%|█████████████████████████████████████████████████▌                                | 58/96 [00:04<00:02, 13.53it/s]\u001b[A\n",
      " 62%|███████████████████████████████████████████████████▎                              | 60/96 [00:04<00:02, 13.71it/s]\u001b[A\n",
      " 65%|████████████████████████████████████████████████████▉                             | 62/96 [00:04<00:02, 13.78it/s]\u001b[A\n",
      " 67%|██████████████████████████████████████████████████████▋                           | 64/96 [00:04<00:02, 13.75it/s]\u001b[A\n",
      " 69%|████████████████████████████████████████████████████████▍                         | 66/96 [00:04<00:02, 13.67it/s]\u001b[A\n",
      " 71%|██████████████████████████████████████████████████████████                        | 68/96 [00:04<00:02, 13.69it/s]\u001b[A\n",
      " 73%|███████████████████████████████████████████████████████████▊                      | 70/96 [00:05<00:01, 13.74it/s]\u001b[A\n",
      " 75%|█████████████████████████████████████████████████████████████▌                    | 72/96 [00:05<00:01, 13.72it/s]\u001b[A\n",
      " 77%|███████████████████████████████████████████████████████████████▏                  | 74/96 [00:05<00:01, 13.87it/s]\u001b[A\n",
      " 79%|████████████████████████████████████████████████████████████████▉                 | 76/96 [00:05<00:01, 13.75it/s]\u001b[A\n",
      " 81%|██████████████████████████████████████████████████████████████████▋               | 78/96 [00:05<00:01, 13.67it/s]\u001b[A\n",
      " 83%|████████████████████████████████████████████████████████████████████▎             | 80/96 [00:05<00:01, 13.64it/s]\u001b[A\n",
      " 85%|██████████████████████████████████████████████████████████████████████            | 82/96 [00:05<00:01, 13.79it/s]\u001b[A\n",
      " 88%|███████████████████████████████████████████████████████████████████████▊          | 84/96 [00:06<00:00, 13.26it/s]\u001b[A\n",
      " 90%|█████████████████████████████████████████████████████████████████████████▍        | 86/96 [00:06<00:00, 13.33it/s]\u001b[A\n",
      " 92%|███████████████████████████████████████████████████████████████████████████▏      | 88/96 [00:06<00:00, 13.21it/s]\u001b[A\n",
      " 94%|████████████████████████████████████████████████████████████████████████████▉     | 90/96 [00:06<00:00, 13.45it/s]\u001b[A\n",
      " 96%|██████████████████████████████████████████████████████████████████████████████▌   | 92/96 [00:06<00:00, 13.65it/s]\u001b[A\n",
      " 98%|████████████████████████████████████████████████████████████████████████████████▎ | 94/96 [00:06<00:00, 13.68it/s]\u001b[A\n",
      "100%|██████████████████████████████████████████████████████████████████████████████████| 96/96 [00:07<00:00, 13.69it/s]\u001b[A\n"
     ]
    },
    {
     "name": "stdout",
     "output_type": "stream",
     "text": [
      "Epoch 26 test loss: 0.2168 test acc: 0.9255\n"
     ]
    },
    {
     "name": "stderr",
     "output_type": "stream",
     "text": [
      "\n",
      "  0%|                                                                                           | 0/96 [00:00<?, ?it/s]\u001b[A\n",
      "  2%|█▋                                                                                 | 2/96 [00:00<00:06, 13.85it/s]\u001b[A\n",
      "  4%|███▍                                                                               | 4/96 [00:00<00:06, 14.05it/s]\u001b[A\n",
      "  6%|█████▏                                                                             | 6/96 [00:00<00:06, 14.42it/s]\u001b[A\n",
      "  8%|██████▉                                                                            | 8/96 [00:00<00:06, 14.23it/s]\u001b[A\n",
      " 10%|████████▌                                                                         | 10/96 [00:00<00:06, 14.12it/s]\u001b[A\n",
      " 12%|██████████▎                                                                       | 12/96 [00:00<00:05, 14.26it/s]\u001b[A\n",
      " 15%|███████████▉                                                                      | 14/96 [00:00<00:05, 14.16it/s]\u001b[A\n",
      " 17%|█████████████▋                                                                    | 16/96 [00:01<00:05, 13.96it/s]\u001b[A\n",
      " 19%|███████████████▍                                                                  | 18/96 [00:01<00:05, 13.90it/s]\u001b[A\n",
      " 21%|█████████████████                                                                 | 20/96 [00:01<00:05, 13.67it/s]\u001b[A\n",
      " 23%|██████████████████▊                                                               | 22/96 [00:01<00:05, 13.48it/s]\u001b[A\n",
      " 25%|████████████████████▌                                                             | 24/96 [00:01<00:05, 13.25it/s]\u001b[A\n",
      " 27%|██████████████████████▏                                                           | 26/96 [00:01<00:05, 13.27it/s]\u001b[A\n",
      " 29%|███████████████████████▉                                                          | 28/96 [00:02<00:05, 13.00it/s]\u001b[A\n",
      " 31%|█████████████████████████▋                                                        | 30/96 [00:02<00:05, 13.17it/s]\u001b[A\n",
      " 33%|███████████████████████████▎                                                      | 32/96 [00:02<00:05, 12.70it/s]\u001b[A\n",
      " 35%|█████████████████████████████                                                     | 34/96 [00:02<00:04, 12.76it/s]\u001b[A\n",
      " 38%|██████████████████████████████▊                                                   | 36/96 [00:02<00:04, 12.92it/s]\u001b[A\n",
      " 40%|████████████████████████████████▍                                                 | 38/96 [00:02<00:04, 12.95it/s]\u001b[A\n",
      " 42%|██████████████████████████████████▏                                               | 40/96 [00:02<00:04, 13.16it/s]\u001b[A\n",
      " 44%|███████████████████████████████████▉                                              | 42/96 [00:03<00:04, 13.28it/s]\u001b[A\n",
      " 46%|█████████████████████████████████████▌                                            | 44/96 [00:03<00:03, 13.24it/s]\u001b[A\n",
      " 48%|███████████████████████████████████████▎                                          | 46/96 [00:03<00:03, 13.26it/s]\u001b[A\n",
      " 50%|█████████████████████████████████████████                                         | 48/96 [00:03<00:03, 13.32it/s]\u001b[A\n",
      " 52%|██████████████████████████████████████████▋                                       | 50/96 [00:03<00:03, 13.40it/s]\u001b[A\n",
      " 54%|████████████████████████████████████████████▍                                     | 52/96 [00:03<00:03, 13.32it/s]\u001b[A\n",
      " 56%|██████████████████████████████████████████████▏                                   | 54/96 [00:04<00:03, 13.36it/s]\u001b[A\n",
      " 58%|███████████████████████████████████████████████▊                                  | 56/96 [00:04<00:02, 13.45it/s]\u001b[A\n",
      " 60%|█████████████████████████████████████████████████▌                                | 58/96 [00:04<00:02, 13.63it/s]\u001b[A\n",
      " 62%|███████████████████████████████████████████████████▎                              | 60/96 [00:04<00:02, 13.58it/s]\u001b[A\n",
      " 65%|████████████████████████████████████████████████████▉                             | 62/96 [00:04<00:02, 13.34it/s]\u001b[A\n",
      " 67%|██████████████████████████████████████████████████████▋                           | 64/96 [00:04<00:02, 13.38it/s]\u001b[A\n",
      " 69%|████████████████████████████████████████████████████████▍                         | 66/96 [00:04<00:02, 13.44it/s]\u001b[A\n",
      " 71%|██████████████████████████████████████████████████████████                        | 68/96 [00:05<00:02, 13.48it/s]\u001b[A\n",
      " 73%|███████████████████████████████████████████████████████████▊                      | 70/96 [00:05<00:01, 13.48it/s]\u001b[A\n",
      " 75%|█████████████████████████████████████████████████████████████▌                    | 72/96 [00:05<00:01, 13.37it/s]\u001b[A\n",
      " 77%|███████████████████████████████████████████████████████████████▏                  | 74/96 [00:05<00:01, 13.46it/s]\u001b[A\n",
      " 79%|████████████████████████████████████████████████████████████████▉                 | 76/96 [00:05<00:01, 13.52it/s]\u001b[A\n",
      " 81%|██████████████████████████████████████████████████████████████████▋               | 78/96 [00:05<00:01, 13.59it/s]\u001b[A\n",
      " 83%|████████████████████████████████████████████████████████████████████▎             | 80/96 [00:05<00:01, 13.45it/s]\u001b[A\n",
      " 85%|██████████████████████████████████████████████████████████████████████            | 82/96 [00:06<00:01, 13.32it/s]\u001b[A\n",
      " 88%|███████████████████████████████████████████████████████████████████████▊          | 84/96 [00:06<00:00, 13.34it/s]\u001b[A\n",
      " 90%|█████████████████████████████████████████████████████████████████████████▍        | 86/96 [00:06<00:00, 13.17it/s]\u001b[A\n",
      " 92%|███████████████████████████████████████████████████████████████████████████▏      | 88/96 [00:06<00:00, 13.48it/s]\u001b[A\n",
      " 94%|████████████████████████████████████████████████████████████████████████████▉     | 90/96 [00:06<00:00, 13.32it/s]\u001b[A\n",
      " 96%|██████████████████████████████████████████████████████████████████████████████▌   | 92/96 [00:06<00:00, 13.42it/s]\u001b[A\n",
      " 98%|████████████████████████████████████████████████████████████████████████████████▎ | 94/96 [00:06<00:00, 13.52it/s]\u001b[A\n",
      "100%|██████████████████████████████████████████████████████████████████████████████████| 96/96 [00:07<00:00, 13.49it/s]\u001b[A\n"
     ]
    },
    {
     "name": "stdout",
     "output_type": "stream",
     "text": [
      "Epoch 27 test loss: 0.2168 test acc: 0.9255\n"
     ]
    },
    {
     "name": "stderr",
     "output_type": "stream",
     "text": [
      "\n",
      "  0%|                                                                                           | 0/96 [00:00<?, ?it/s]\u001b[A\n",
      "  2%|█▋                                                                                 | 2/96 [00:00<00:06, 14.35it/s]\u001b[A\n",
      "  4%|███▍                                                                               | 4/96 [00:00<00:06, 14.22it/s]\u001b[A\n",
      "  6%|█████▏                                                                             | 6/96 [00:00<00:06, 13.87it/s]\u001b[A\n",
      "  8%|██████▉                                                                            | 8/96 [00:00<00:06, 13.94it/s]\u001b[A\n",
      " 10%|████████▌                                                                         | 10/96 [00:00<00:06, 13.70it/s]\u001b[A\n",
      " 12%|██████████▎                                                                       | 12/96 [00:00<00:06, 13.85it/s]\u001b[A\n",
      " 15%|███████████▉                                                                      | 14/96 [00:01<00:05, 13.92it/s]\u001b[A\n",
      " 17%|█████████████▋                                                                    | 16/96 [00:01<00:05, 14.02it/s]\u001b[A\n",
      " 19%|███████████████▍                                                                  | 18/96 [00:01<00:05, 14.00it/s]\u001b[A\n",
      " 21%|█████████████████                                                                 | 20/96 [00:01<00:05, 14.10it/s]\u001b[A\n",
      " 23%|██████████████████▊                                                               | 22/96 [00:01<00:05, 14.09it/s]\u001b[A\n",
      " 25%|████████████████████▌                                                             | 24/96 [00:01<00:05, 14.04it/s]\u001b[A\n",
      " 27%|██████████████████████▏                                                           | 26/96 [00:01<00:05, 13.93it/s]\u001b[A\n",
      " 29%|███████████████████████▉                                                          | 28/96 [00:02<00:04, 13.93it/s]\u001b[A\n",
      " 31%|█████████████████████████▋                                                        | 30/96 [00:02<00:04, 13.59it/s]\u001b[A\n",
      " 33%|███████████████████████████▎                                                      | 32/96 [00:02<00:04, 13.70it/s]\u001b[A\n",
      " 35%|█████████████████████████████                                                     | 34/96 [00:02<00:04, 13.80it/s]\u001b[A\n",
      " 38%|██████████████████████████████▊                                                   | 36/96 [00:02<00:04, 13.87it/s]\u001b[A\n",
      " 40%|████████████████████████████████▍                                                 | 38/96 [00:02<00:04, 13.84it/s]\u001b[A\n",
      " 42%|██████████████████████████████████▏                                               | 40/96 [00:02<00:04, 13.79it/s]\u001b[A\n",
      " 44%|███████████████████████████████████▉                                              | 42/96 [00:03<00:03, 13.61it/s]\u001b[A\n",
      " 46%|█████████████████████████████████████▌                                            | 44/96 [00:03<00:03, 13.68it/s]\u001b[A\n",
      " 48%|███████████████████████████████████████▎                                          | 46/96 [00:03<00:03, 13.71it/s]\u001b[A\n",
      " 50%|█████████████████████████████████████████                                         | 48/96 [00:03<00:03, 13.72it/s]\u001b[A\n",
      " 52%|██████████████████████████████████████████▋                                       | 50/96 [00:03<00:03, 13.73it/s]\u001b[A\n",
      " 54%|████████████████████████████████████████████▍                                     | 52/96 [00:03<00:03, 13.55it/s]\u001b[A\n",
      " 56%|██████████████████████████████████████████████▏                                   | 54/96 [00:03<00:03, 13.23it/s]\u001b[A\n",
      " 58%|███████████████████████████████████████████████▊                                  | 56/96 [00:04<00:03, 13.02it/s]\u001b[A\n",
      " 60%|█████████████████████████████████████████████████▌                                | 58/96 [00:04<00:02, 13.10it/s]\u001b[A\n",
      " 62%|███████████████████████████████████████████████████▎                              | 60/96 [00:04<00:02, 13.29it/s]\u001b[A\n",
      " 65%|████████████████████████████████████████████████████▉                             | 62/96 [00:04<00:02, 13.35it/s]\u001b[A\n",
      " 67%|██████████████████████████████████████████████████████▋                           | 64/96 [00:04<00:02, 13.42it/s]\u001b[A\n",
      " 69%|████████████████████████████████████████████████████████▍                         | 66/96 [00:04<00:02, 13.57it/s]\u001b[A\n",
      " 71%|██████████████████████████████████████████████████████████                        | 68/96 [00:04<00:02, 13.38it/s]\u001b[A\n",
      " 73%|███████████████████████████████████████████████████████████▊                      | 70/96 [00:05<00:01, 13.63it/s]\u001b[A\n",
      " 75%|█████████████████████████████████████████████████████████████▌                    | 72/96 [00:05<00:01, 13.64it/s]\u001b[A\n",
      " 77%|███████████████████████████████████████████████████████████████▏                  | 74/96 [00:05<00:01, 13.37it/s]\u001b[A\n",
      " 79%|████████████████████████████████████████████████████████████████▉                 | 76/96 [00:05<00:01, 13.35it/s]\u001b[A\n",
      " 81%|██████████████████████████████████████████████████████████████████▋               | 78/96 [00:05<00:01, 13.47it/s]\u001b[A\n",
      " 83%|████████████████████████████████████████████████████████████████████▎             | 80/96 [00:05<00:01, 13.64it/s]\u001b[A\n",
      " 85%|██████████████████████████████████████████████████████████████████████            | 82/96 [00:05<00:01, 13.87it/s]\u001b[A\n",
      " 88%|███████████████████████████████████████████████████████████████████████▊          | 84/96 [00:06<00:00, 14.10it/s]\u001b[A\n",
      " 90%|█████████████████████████████████████████████████████████████████████████▍        | 86/96 [00:06<00:00, 14.14it/s]\u001b[A\n",
      " 92%|███████████████████████████████████████████████████████████████████████████▏      | 88/96 [00:06<00:00, 14.02it/s]\u001b[A\n",
      " 94%|████████████████████████████████████████████████████████████████████████████▉     | 90/96 [00:06<00:00, 14.03it/s]\u001b[A\n",
      " 96%|██████████████████████████████████████████████████████████████████████████████▌   | 92/96 [00:06<00:00, 14.18it/s]\u001b[A\n",
      " 98%|████████████████████████████████████████████████████████████████████████████████▎ | 94/96 [00:06<00:00, 14.08it/s]\u001b[A\n",
      "100%|██████████████████████████████████████████████████████████████████████████████████| 96/96 [00:06<00:00, 13.79it/s]\u001b[A\n"
     ]
    },
    {
     "name": "stdout",
     "output_type": "stream",
     "text": [
      "Epoch 28 test loss: 0.2168 test acc: 0.9255\n"
     ]
    },
    {
     "name": "stderr",
     "output_type": "stream",
     "text": [
      "\n",
      "  0%|                                                                                           | 0/96 [00:00<?, ?it/s]\u001b[A\n",
      "  2%|█▋                                                                                 | 2/96 [00:00<00:06, 13.76it/s]\u001b[A\n",
      "  4%|███▍                                                                               | 4/96 [00:00<00:06, 13.98it/s]\u001b[A\n",
      "  6%|█████▏                                                                             | 6/96 [00:00<00:06, 14.15it/s]\u001b[A\n",
      "  8%|██████▉                                                                            | 8/96 [00:00<00:06, 13.88it/s]\u001b[A\n",
      " 10%|████████▌                                                                         | 10/96 [00:00<00:06, 13.73it/s]\u001b[A\n",
      " 12%|██████████▎                                                                       | 12/96 [00:00<00:06, 13.61it/s]\u001b[A\n",
      " 15%|███████████▉                                                                      | 14/96 [00:01<00:06, 13.51it/s]\u001b[A\n",
      " 17%|█████████████▋                                                                    | 16/96 [00:01<00:05, 13.65it/s]\u001b[A\n",
      " 19%|███████████████▍                                                                  | 18/96 [00:01<00:05, 13.74it/s]\u001b[A\n",
      " 21%|█████████████████                                                                 | 20/96 [00:01<00:05, 13.80it/s]\u001b[A\n",
      " 23%|██████████████████▊                                                               | 22/96 [00:01<00:05, 13.62it/s]\u001b[A\n",
      " 25%|████████████████████▌                                                             | 24/96 [00:01<00:05, 13.72it/s]\u001b[A\n",
      " 27%|██████████████████████▏                                                           | 26/96 [00:01<00:05, 13.45it/s]\u001b[A\n",
      " 29%|███████████████████████▉                                                          | 28/96 [00:02<00:05, 13.49it/s]\u001b[A\n",
      " 31%|█████████████████████████▋                                                        | 30/96 [00:02<00:04, 13.60it/s]\u001b[A\n",
      " 33%|███████████████████████████▎                                                      | 32/96 [00:02<00:04, 13.70it/s]\u001b[A\n",
      " 35%|█████████████████████████████                                                     | 34/96 [00:02<00:04, 13.83it/s]\u001b[A\n",
      " 38%|██████████████████████████████▊                                                   | 36/96 [00:02<00:04, 13.84it/s]\u001b[A\n",
      " 40%|████████████████████████████████▍                                                 | 38/96 [00:02<00:04, 13.70it/s]\u001b[A\n",
      " 42%|██████████████████████████████████▏                                               | 40/96 [00:02<00:04, 13.77it/s]\u001b[A\n",
      " 44%|███████████████████████████████████▉                                              | 42/96 [00:03<00:03, 13.83it/s]\u001b[A\n",
      " 46%|█████████████████████████████████████▌                                            | 44/96 [00:03<00:03, 13.42it/s]\u001b[A\n",
      " 48%|███████████████████████████████████████▎                                          | 46/96 [00:03<00:03, 13.33it/s]\u001b[A\n",
      " 50%|█████████████████████████████████████████                                         | 48/96 [00:03<00:03, 13.46it/s]\u001b[A\n",
      " 52%|██████████████████████████████████████████▋                                       | 50/96 [00:03<00:03, 13.33it/s]\u001b[A\n",
      " 54%|████████████████████████████████████████████▍                                     | 52/96 [00:03<00:03, 13.38it/s]\u001b[A\n",
      " 56%|██████████████████████████████████████████████▏                                   | 54/96 [00:03<00:03, 13.11it/s]\u001b[A\n",
      " 58%|███████████████████████████████████████████████▊                                  | 56/96 [00:04<00:03, 13.12it/s]\u001b[A\n",
      " 60%|█████████████████████████████████████████████████▌                                | 58/96 [00:04<00:02, 13.05it/s]\u001b[A\n",
      " 62%|███████████████████████████████████████████████████▎                              | 60/96 [00:04<00:02, 13.10it/s]\u001b[A\n",
      " 65%|████████████████████████████████████████████████████▉                             | 62/96 [00:04<00:02, 13.18it/s]\u001b[A\n",
      " 67%|██████████████████████████████████████████████████████▋                           | 64/96 [00:04<00:02, 13.32it/s]\u001b[A\n",
      " 69%|████████████████████████████████████████████████████████▍                         | 66/96 [00:04<00:02, 13.40it/s]\u001b[A\n",
      " 71%|██████████████████████████████████████████████████████████                        | 68/96 [00:05<00:02, 13.42it/s]\u001b[A\n",
      " 73%|███████████████████████████████████████████████████████████▊                      | 70/96 [00:05<00:01, 13.10it/s]\u001b[A\n",
      " 75%|█████████████████████████████████████████████████████████████▌                    | 72/96 [00:05<00:01, 12.88it/s]\u001b[A\n",
      " 77%|███████████████████████████████████████████████████████████████▏                  | 74/96 [00:05<00:01, 12.93it/s]\u001b[A\n",
      " 79%|████████████████████████████████████████████████████████████████▉                 | 76/96 [00:05<00:01, 12.94it/s]\u001b[A\n",
      " 81%|██████████████████████████████████████████████████████████████████▋               | 78/96 [00:05<00:01, 13.25it/s]\u001b[A\n",
      " 83%|████████████████████████████████████████████████████████████████████▎             | 80/96 [00:05<00:01, 13.16it/s]\u001b[A\n",
      " 85%|██████████████████████████████████████████████████████████████████████            | 82/96 [00:06<00:01, 13.10it/s]\u001b[A\n",
      " 88%|███████████████████████████████████████████████████████████████████████▊          | 84/96 [00:06<00:00, 13.29it/s]\u001b[A\n",
      " 90%|█████████████████████████████████████████████████████████████████████████▍        | 86/96 [00:06<00:00, 13.48it/s]\u001b[A\n",
      " 92%|███████████████████████████████████████████████████████████████████████████▏      | 88/96 [00:06<00:00, 13.40it/s]\u001b[A\n",
      " 94%|████████████████████████████████████████████████████████████████████████████▉     | 90/96 [00:06<00:00, 13.48it/s]\u001b[A\n",
      " 96%|██████████████████████████████████████████████████████████████████████████████▌   | 92/96 [00:06<00:00, 13.56it/s]\u001b[A\n",
      " 98%|████████████████████████████████████████████████████████████████████████████████▎ | 94/96 [00:06<00:00, 13.79it/s]\u001b[A\n",
      "100%|██████████████████████████████████████████████████████████████████████████████████| 96/96 [00:07<00:00, 13.52it/s]\u001b[A\n"
     ]
    },
    {
     "name": "stdout",
     "output_type": "stream",
     "text": [
      "Epoch 29 test loss: 0.2168 test acc: 0.9255\n"
     ]
    },
    {
     "name": "stderr",
     "output_type": "stream",
     "text": [
      "\n",
      "  0%|                                                                                           | 0/96 [00:00<?, ?it/s]\u001b[A\n",
      "  2%|█▋                                                                                 | 2/96 [00:00<00:06, 14.25it/s]\u001b[A\n",
      "  4%|███▍                                                                               | 4/96 [00:00<00:06, 13.79it/s]\u001b[A\n",
      "  6%|█████▏                                                                             | 6/96 [00:00<00:06, 13.77it/s]\u001b[A\n",
      "  8%|██████▉                                                                            | 8/96 [00:00<00:06, 13.84it/s]\u001b[A\n",
      " 10%|████████▌                                                                         | 10/96 [00:00<00:06, 13.29it/s]\u001b[A\n",
      " 12%|██████████▎                                                                       | 12/96 [00:00<00:06, 13.44it/s]\u001b[A\n",
      " 15%|███████████▉                                                                      | 14/96 [00:01<00:06, 13.54it/s]\u001b[A\n",
      " 17%|█████████████▋                                                                    | 16/96 [00:01<00:05, 13.61it/s]\u001b[A\n",
      " 19%|███████████████▍                                                                  | 18/96 [00:01<00:05, 13.57it/s]\u001b[A\n",
      " 21%|█████████████████                                                                 | 20/96 [00:01<00:05, 13.71it/s]\u001b[A\n",
      " 23%|██████████████████▊                                                               | 22/96 [00:01<00:05, 13.69it/s]\u001b[A\n",
      " 25%|████████████████████▌                                                             | 24/96 [00:01<00:05, 13.95it/s]\u001b[A\n",
      " 27%|██████████████████████▏                                                           | 26/96 [00:01<00:05, 13.98it/s]\u001b[A\n",
      " 29%|███████████████████████▉                                                          | 28/96 [00:02<00:04, 13.82it/s]\u001b[A\n",
      " 31%|█████████████████████████▋                                                        | 30/96 [00:02<00:04, 13.80it/s]\u001b[A\n",
      " 33%|███████████████████████████▎                                                      | 32/96 [00:02<00:04, 13.67it/s]\u001b[A\n",
      " 35%|█████████████████████████████                                                     | 34/96 [00:02<00:04, 13.70it/s]\u001b[A\n",
      " 38%|██████████████████████████████▊                                                   | 36/96 [00:02<00:04, 13.77it/s]\u001b[A\n",
      " 40%|████████████████████████████████▍                                                 | 38/96 [00:02<00:04, 13.91it/s]\u001b[A\n",
      " 42%|██████████████████████████████████▏                                               | 40/96 [00:02<00:04, 13.86it/s]\u001b[A\n",
      " 44%|███████████████████████████████████▉                                              | 42/96 [00:03<00:03, 13.89it/s]\u001b[A\n",
      " 46%|█████████████████████████████████████▌                                            | 44/96 [00:03<00:03, 13.87it/s]\u001b[A\n",
      " 48%|███████████████████████████████████████▎                                          | 46/96 [00:03<00:03, 13.84it/s]\u001b[A\n",
      " 50%|█████████████████████████████████████████                                         | 48/96 [00:03<00:03, 13.70it/s]\u001b[A\n",
      " 52%|██████████████████████████████████████████▋                                       | 50/96 [00:03<00:03, 13.62it/s]\u001b[A\n",
      " 54%|████████████████████████████████████████████▍                                     | 52/96 [00:03<00:03, 13.71it/s]\u001b[A\n",
      " 56%|██████████████████████████████████████████████▏                                   | 54/96 [00:03<00:03, 13.67it/s]\u001b[A\n",
      " 58%|███████████████████████████████████████████████▊                                  | 56/96 [00:04<00:02, 13.58it/s]\u001b[A\n",
      " 60%|█████████████████████████████████████████████████▌                                | 58/96 [00:04<00:02, 13.33it/s]\u001b[A\n",
      " 62%|███████████████████████████████████████████████████▎                              | 60/96 [00:04<00:02, 13.40it/s]\u001b[A\n",
      " 65%|████████████████████████████████████████████████████▉                             | 62/96 [00:04<00:02, 13.56it/s]\u001b[A\n",
      " 67%|██████████████████████████████████████████████████████▋                           | 64/96 [00:04<00:02, 13.76it/s]\u001b[A\n",
      " 69%|████████████████████████████████████████████████████████▍                         | 66/96 [00:04<00:02, 13.70it/s]\u001b[A\n",
      " 71%|██████████████████████████████████████████████████████████                        | 68/96 [00:04<00:02, 13.72it/s]\u001b[A\n",
      " 73%|███████████████████████████████████████████████████████████▊                      | 70/96 [00:05<00:01, 13.84it/s]\u001b[A\n",
      " 75%|█████████████████████████████████████████████████████████████▌                    | 72/96 [00:05<00:01, 13.96it/s]\u001b[A\n",
      " 77%|███████████████████████████████████████████████████████████████▏                  | 74/96 [00:05<00:01, 13.76it/s]\u001b[A\n",
      " 79%|████████████████████████████████████████████████████████████████▉                 | 76/96 [00:05<00:01, 13.51it/s]\u001b[A\n",
      " 81%|██████████████████████████████████████████████████████████████████▋               | 78/96 [00:05<00:01, 13.56it/s]\u001b[A\n",
      " 83%|████████████████████████████████████████████████████████████████████▎             | 80/96 [00:05<00:01, 13.32it/s]\u001b[A\n",
      " 85%|██████████████████████████████████████████████████████████████████████            | 82/96 [00:05<00:01, 13.58it/s]\u001b[A\n",
      " 88%|███████████████████████████████████████████████████████████████████████▊          | 84/96 [00:06<00:00, 13.72it/s]\u001b[A\n",
      " 90%|█████████████████████████████████████████████████████████████████████████▍        | 86/96 [00:06<00:00, 13.93it/s]\u001b[A\n",
      " 92%|███████████████████████████████████████████████████████████████████████████▏      | 88/96 [00:06<00:00, 13.92it/s]\u001b[A\n",
      " 94%|████████████████████████████████████████████████████████████████████████████▉     | 90/96 [00:06<00:00, 13.99it/s]\u001b[A\n",
      " 96%|██████████████████████████████████████████████████████████████████████████████▌   | 92/96 [00:06<00:00, 14.00it/s]\u001b[A\n",
      " 98%|████████████████████████████████████████████████████████████████████████████████▎ | 94/96 [00:06<00:00, 13.96it/s]\u001b[A\n",
      "100%|██████████████████████████████████████████████████████████████████████████████████| 96/96 [00:06<00:00, 13.78it/s]\u001b[A\n"
     ]
    },
    {
     "name": "stdout",
     "output_type": "stream",
     "text": [
      "Epoch 30 test loss: 0.2168 test acc: 0.9255\n"
     ]
    },
    {
     "name": "stderr",
     "output_type": "stream",
     "text": [
      "\n",
      "  0%|                                                                                           | 0/96 [00:00<?, ?it/s]\u001b[A\n",
      "  2%|█▋                                                                                 | 2/96 [00:00<00:07, 12.55it/s]\u001b[A\n",
      "  4%|███▍                                                                               | 4/96 [00:00<00:06, 13.29it/s]\u001b[A\n",
      "  6%|█████▏                                                                             | 6/96 [00:00<00:06, 13.34it/s]\u001b[A\n",
      "  8%|██████▉                                                                            | 8/96 [00:00<00:06, 13.54it/s]\u001b[A\n",
      " 10%|████████▌                                                                         | 10/96 [00:00<00:06, 13.45it/s]\u001b[A\n",
      " 12%|██████████▎                                                                       | 12/96 [00:00<00:06, 13.68it/s]\u001b[A\n",
      " 15%|███████████▉                                                                      | 14/96 [00:01<00:06, 13.46it/s]\u001b[A\n",
      " 17%|█████████████▋                                                                    | 16/96 [00:01<00:05, 13.36it/s]\u001b[A\n",
      " 19%|███████████████▍                                                                  | 18/96 [00:01<00:05, 13.56it/s]\u001b[A\n",
      " 21%|█████████████████                                                                 | 20/96 [00:01<00:05, 13.62it/s]\u001b[A\n",
      " 23%|██████████████████▊                                                               | 22/96 [00:01<00:05, 13.52it/s]\u001b[A\n",
      " 25%|████████████████████▌                                                             | 24/96 [00:01<00:05, 13.57it/s]\u001b[A\n",
      " 27%|██████████████████████▏                                                           | 26/96 [00:01<00:05, 13.71it/s]\u001b[A\n",
      " 29%|███████████████████████▉                                                          | 28/96 [00:02<00:05, 13.53it/s]\u001b[A\n",
      " 31%|█████████████████████████▋                                                        | 30/96 [00:02<00:04, 13.32it/s]\u001b[A\n",
      " 33%|███████████████████████████▎                                                      | 32/96 [00:02<00:04, 13.37it/s]\u001b[A\n",
      " 35%|█████████████████████████████                                                     | 34/96 [00:02<00:04, 13.49it/s]\u001b[A\n",
      " 38%|██████████████████████████████▊                                                   | 36/96 [00:02<00:04, 13.48it/s]\u001b[A\n",
      " 40%|████████████████████████████████▍                                                 | 38/96 [00:02<00:04, 13.52it/s]\u001b[A\n",
      " 42%|██████████████████████████████████▏                                               | 40/96 [00:02<00:04, 13.71it/s]\u001b[A\n",
      " 44%|███████████████████████████████████▉                                              | 42/96 [00:03<00:03, 13.80it/s]\u001b[A\n",
      " 46%|█████████████████████████████████████▌                                            | 44/96 [00:03<00:03, 13.84it/s]\u001b[A\n",
      " 48%|███████████████████████████████████████▎                                          | 46/96 [00:03<00:03, 13.79it/s]\u001b[A\n",
      " 50%|█████████████████████████████████████████                                         | 48/96 [00:03<00:03, 13.75it/s]\u001b[A\n",
      " 52%|██████████████████████████████████████████▋                                       | 50/96 [00:03<00:03, 13.72it/s]\u001b[A\n",
      " 54%|████████████████████████████████████████████▍                                     | 52/96 [00:03<00:03, 13.65it/s]\u001b[A\n",
      " 56%|██████████████████████████████████████████████▏                                   | 54/96 [00:03<00:03, 13.49it/s]\u001b[A\n",
      " 58%|███████████████████████████████████████████████▊                                  | 56/96 [00:04<00:02, 13.62it/s]\u001b[A\n",
      " 60%|█████████████████████████████████████████████████▌                                | 58/96 [00:04<00:02, 13.26it/s]\u001b[A\n",
      " 62%|███████████████████████████████████████████████████▎                              | 60/96 [00:04<00:02, 13.27it/s]\u001b[A\n",
      " 65%|████████████████████████████████████████████████████▉                             | 62/96 [00:04<00:02, 13.47it/s]\u001b[A\n",
      " 67%|██████████████████████████████████████████████████████▋                           | 64/96 [00:04<00:02, 13.50it/s]\u001b[A\n",
      " 69%|████████████████████████████████████████████████████████▍                         | 66/96 [00:04<00:02, 13.52it/s]\u001b[A\n",
      " 71%|██████████████████████████████████████████████████████████                        | 68/96 [00:05<00:02, 13.62it/s]\u001b[A\n",
      " 73%|███████████████████████████████████████████████████████████▊                      | 70/96 [00:05<00:01, 13.63it/s]\u001b[A\n",
      " 75%|█████████████████████████████████████████████████████████████▌                    | 72/96 [00:05<00:01, 13.50it/s]\u001b[A\n",
      " 77%|███████████████████████████████████████████████████████████████▏                  | 74/96 [00:05<00:01, 13.66it/s]\u001b[A\n",
      " 79%|████████████████████████████████████████████████████████████████▉                 | 76/96 [00:05<00:01, 13.69it/s]\u001b[A\n",
      " 81%|██████████████████████████████████████████████████████████████████▋               | 78/96 [00:05<00:01, 13.63it/s]\u001b[A\n",
      " 83%|████████████████████████████████████████████████████████████████████▎             | 80/96 [00:05<00:01, 13.64it/s]\u001b[A\n",
      " 85%|██████████████████████████████████████████████████████████████████████            | 82/96 [00:06<00:01, 13.56it/s]\u001b[A\n",
      " 88%|███████████████████████████████████████████████████████████████████████▊          | 84/96 [00:06<00:00, 13.61it/s]\u001b[A\n",
      " 90%|█████████████████████████████████████████████████████████████████████████▍        | 86/96 [00:06<00:00, 13.67it/s]\u001b[A\n",
      " 92%|███████████████████████████████████████████████████████████████████████████▏      | 88/96 [00:06<00:00, 13.61it/s]\u001b[A\n",
      " 94%|████████████████████████████████████████████████████████████████████████████▉     | 90/96 [00:06<00:00, 13.35it/s]\u001b[A\n",
      " 96%|██████████████████████████████████████████████████████████████████████████████▌   | 92/96 [00:06<00:00, 13.13it/s]\u001b[A\n",
      " 98%|████████████████████████████████████████████████████████████████████████████████▎ | 94/96 [00:06<00:00, 13.39it/s]\u001b[A\n",
      "100%|██████████████████████████████████████████████████████████████████████████████████| 96/96 [00:07<00:00, 13.57it/s]\u001b[A\n"
     ]
    },
    {
     "name": "stdout",
     "output_type": "stream",
     "text": [
      "Epoch 31 test loss: 0.2168 test acc: 0.9255\n"
     ]
    },
    {
     "name": "stderr",
     "output_type": "stream",
     "text": [
      "\n",
      "  0%|                                                                                           | 0/96 [00:00<?, ?it/s]\u001b[A\n",
      "  2%|█▋                                                                                 | 2/96 [00:00<00:06, 14.15it/s]\u001b[A\n",
      "  4%|███▍                                                                               | 4/96 [00:00<00:06, 13.58it/s]\u001b[A\n",
      "  6%|█████▏                                                                             | 6/96 [00:00<00:06, 13.71it/s]\u001b[A\n",
      "  8%|██████▉                                                                            | 8/96 [00:00<00:06, 13.40it/s]\u001b[A\n",
      " 10%|████████▌                                                                         | 10/96 [00:00<00:06, 13.25it/s]\u001b[A\n",
      " 12%|██████████▎                                                                       | 12/96 [00:00<00:06, 13.30it/s]\u001b[A\n",
      " 15%|███████████▉                                                                      | 14/96 [00:01<00:06, 13.39it/s]\u001b[A\n",
      " 17%|█████████████▋                                                                    | 16/96 [00:01<00:06, 13.30it/s]\u001b[A\n",
      " 19%|███████████████▍                                                                  | 18/96 [00:01<00:05, 13.14it/s]\u001b[A\n",
      " 21%|█████████████████                                                                 | 20/96 [00:01<00:05, 13.16it/s]\u001b[A\n",
      " 23%|██████████████████▊                                                               | 22/96 [00:01<00:05, 13.47it/s]\u001b[A\n",
      " 25%|████████████████████▌                                                             | 24/96 [00:01<00:05, 13.64it/s]\u001b[A\n",
      " 27%|██████████████████████▏                                                           | 26/96 [00:01<00:05, 13.35it/s]\u001b[A\n",
      " 29%|███████████████████████▉                                                          | 28/96 [00:02<00:05, 13.52it/s]\u001b[A\n",
      " 31%|█████████████████████████▋                                                        | 30/96 [00:02<00:04, 13.51it/s]\u001b[A\n",
      " 33%|███████████████████████████▎                                                      | 32/96 [00:02<00:04, 13.50it/s]\u001b[A\n",
      " 35%|█████████████████████████████                                                     | 34/96 [00:02<00:04, 13.49it/s]\u001b[A\n",
      " 38%|██████████████████████████████▊                                                   | 36/96 [00:02<00:04, 13.46it/s]\u001b[A\n",
      " 40%|████████████████████████████████▍                                                 | 38/96 [00:02<00:04, 13.50it/s]\u001b[A\n",
      " 42%|██████████████████████████████████▏                                               | 40/96 [00:02<00:04, 13.66it/s]\u001b[A\n",
      " 44%|███████████████████████████████████▉                                              | 42/96 [00:03<00:03, 13.66it/s]\u001b[A\n",
      " 46%|█████████████████████████████████████▌                                            | 44/96 [00:03<00:03, 13.74it/s]\u001b[A\n",
      " 48%|███████████████████████████████████████▎                                          | 46/96 [00:03<00:03, 13.75it/s]\u001b[A\n",
      " 50%|█████████████████████████████████████████                                         | 48/96 [00:03<00:03, 13.72it/s]\u001b[A\n",
      " 52%|██████████████████████████████████████████▋                                       | 50/96 [00:03<00:03, 13.68it/s]\u001b[A\n",
      " 54%|████████████████████████████████████████████▍                                     | 52/96 [00:03<00:03, 13.48it/s]\u001b[A\n",
      " 56%|██████████████████████████████████████████████▏                                   | 54/96 [00:04<00:03, 13.40it/s]\u001b[A\n",
      " 58%|███████████████████████████████████████████████▊                                  | 56/96 [00:04<00:03, 13.26it/s]\u001b[A\n",
      " 60%|█████████████████████████████████████████████████▌                                | 58/96 [00:04<00:02, 13.38it/s]\u001b[A\n",
      " 62%|███████████████████████████████████████████████████▎                              | 60/96 [00:04<00:02, 13.23it/s]\u001b[A\n",
      " 65%|████████████████████████████████████████████████████▉                             | 62/96 [00:04<00:02, 13.33it/s]\u001b[A\n",
      " 67%|██████████████████████████████████████████████████████▋                           | 64/96 [00:04<00:02, 13.48it/s]\u001b[A\n",
      " 69%|████████████████████████████████████████████████████████▍                         | 66/96 [00:04<00:02, 13.35it/s]\u001b[A\n",
      " 71%|██████████████████████████████████████████████████████████                        | 68/96 [00:05<00:02, 13.39it/s]\u001b[A\n",
      " 73%|███████████████████████████████████████████████████████████▊                      | 70/96 [00:05<00:01, 13.41it/s]\u001b[A\n",
      " 75%|█████████████████████████████████████████████████████████████▌                    | 72/96 [00:05<00:01, 13.63it/s]\u001b[A\n",
      " 77%|███████████████████████████████████████████████████████████████▏                  | 74/96 [00:05<00:01, 13.47it/s]\u001b[A\n",
      " 79%|████████████████████████████████████████████████████████████████▉                 | 76/96 [00:05<00:01, 13.37it/s]\u001b[A\n",
      " 81%|██████████████████████████████████████████████████████████████████▋               | 78/96 [00:05<00:01, 13.56it/s]\u001b[A\n",
      " 83%|████████████████████████████████████████████████████████████████████▎             | 80/96 [00:05<00:01, 13.57it/s]\u001b[A\n",
      " 85%|██████████████████████████████████████████████████████████████████████            | 82/96 [00:06<00:01, 13.50it/s]\u001b[A\n",
      " 88%|███████████████████████████████████████████████████████████████████████▊          | 84/96 [00:06<00:00, 13.33it/s]\u001b[A\n",
      " 90%|█████████████████████████████████████████████████████████████████████████▍        | 86/96 [00:06<00:00, 13.62it/s]\u001b[A\n",
      " 92%|███████████████████████████████████████████████████████████████████████████▏      | 88/96 [00:06<00:00, 13.55it/s]\u001b[A\n",
      " 94%|████████████████████████████████████████████████████████████████████████████▉     | 90/96 [00:06<00:00, 13.50it/s]\u001b[A\n",
      " 96%|██████████████████████████████████████████████████████████████████████████████▌   | 92/96 [00:06<00:00, 13.63it/s]\u001b[A\n",
      " 98%|████████████████████████████████████████████████████████████████████████████████▎ | 94/96 [00:06<00:00, 13.67it/s]\u001b[A\n",
      "100%|██████████████████████████████████████████████████████████████████████████████████| 96/96 [00:07<00:00, 13.55it/s]\u001b[A\n"
     ]
    },
    {
     "name": "stdout",
     "output_type": "stream",
     "text": [
      "Epoch 32 test loss: 0.2168 test acc: 0.9255\n"
     ]
    },
    {
     "name": "stderr",
     "output_type": "stream",
     "text": [
      "\n",
      "  0%|                                                                                           | 0/96 [00:00<?, ?it/s]\u001b[A\n",
      "  2%|█▋                                                                                 | 2/96 [00:00<00:07, 13.38it/s]\u001b[A\n",
      "  4%|███▍                                                                               | 4/96 [00:00<00:06, 13.77it/s]\u001b[A\n",
      "  6%|█████▏                                                                             | 6/96 [00:00<00:06, 13.46it/s]\u001b[A\n",
      "  8%|██████▉                                                                            | 8/96 [00:00<00:06, 13.40it/s]\u001b[A\n",
      " 10%|████████▌                                                                         | 10/96 [00:00<00:06, 13.43it/s]\u001b[A\n",
      " 12%|██████████▎                                                                       | 12/96 [00:00<00:06, 13.60it/s]\u001b[A\n",
      " 15%|███████████▉                                                                      | 14/96 [00:01<00:06, 13.41it/s]\u001b[A\n",
      " 17%|█████████████▋                                                                    | 16/96 [00:01<00:05, 13.55it/s]\u001b[A\n",
      " 19%|███████████████▍                                                                  | 18/96 [00:01<00:05, 13.73it/s]\u001b[A\n",
      " 21%|█████████████████                                                                 | 20/96 [00:01<00:05, 13.60it/s]\u001b[A\n",
      " 23%|██████████████████▊                                                               | 22/96 [00:01<00:05, 13.53it/s]\u001b[A\n",
      " 25%|████████████████████▌                                                             | 24/96 [00:01<00:05, 13.71it/s]\u001b[A\n",
      " 27%|██████████████████████▏                                                           | 26/96 [00:01<00:05, 13.70it/s]\u001b[A\n",
      " 29%|███████████████████████▉                                                          | 28/96 [00:02<00:04, 13.69it/s]\u001b[A\n",
      " 31%|█████████████████████████▋                                                        | 30/96 [00:02<00:04, 13.57it/s]\u001b[A\n",
      " 33%|███████████████████████████▎                                                      | 32/96 [00:02<00:04, 13.71it/s]\u001b[A\n",
      " 35%|█████████████████████████████                                                     | 34/96 [00:02<00:04, 13.47it/s]\u001b[A\n",
      " 38%|██████████████████████████████▊                                                   | 36/96 [00:02<00:04, 13.53it/s]\u001b[A\n",
      " 40%|████████████████████████████████▍                                                 | 38/96 [00:02<00:04, 13.68it/s]\u001b[A\n",
      " 42%|██████████████████████████████████▏                                               | 40/96 [00:02<00:04, 13.46it/s]\u001b[A\n",
      " 44%|███████████████████████████████████▉                                              | 42/96 [00:03<00:04, 13.16it/s]\u001b[A\n",
      " 46%|█████████████████████████████████████▌                                            | 44/96 [00:03<00:03, 13.15it/s]\u001b[A\n",
      " 48%|███████████████████████████████████████▎                                          | 46/96 [00:03<00:03, 13.17it/s]\u001b[A\n",
      " 50%|█████████████████████████████████████████                                         | 48/96 [00:03<00:03, 13.26it/s]\u001b[A\n",
      " 52%|██████████████████████████████████████████▋                                       | 50/96 [00:03<00:03, 13.32it/s]\u001b[A\n",
      " 54%|████████████████████████████████████████████▍                                     | 52/96 [00:03<00:03, 13.16it/s]\u001b[A\n",
      " 56%|██████████████████████████████████████████████▏                                   | 54/96 [00:04<00:03, 13.33it/s]\u001b[A\n",
      " 58%|███████████████████████████████████████████████▊                                  | 56/96 [00:04<00:02, 13.40it/s]\u001b[A\n",
      " 60%|█████████████████████████████████████████████████▌                                | 58/96 [00:04<00:02, 13.48it/s]\u001b[A\n",
      " 62%|███████████████████████████████████████████████████▎                              | 60/96 [00:04<00:02, 13.32it/s]\u001b[A\n",
      " 65%|████████████████████████████████████████████████████▉                             | 62/96 [00:04<00:02, 13.44it/s]\u001b[A\n",
      " 67%|██████████████████████████████████████████████████████▋                           | 64/96 [00:04<00:02, 13.40it/s]\u001b[A\n",
      " 69%|████████████████████████████████████████████████████████▍                         | 66/96 [00:04<00:02, 13.48it/s]\u001b[A\n",
      " 71%|██████████████████████████████████████████████████████████                        | 68/96 [00:05<00:02, 13.64it/s]\u001b[A\n",
      " 73%|███████████████████████████████████████████████████████████▊                      | 70/96 [00:05<00:01, 13.58it/s]\u001b[A\n",
      " 75%|█████████████████████████████████████████████████████████████▌                    | 72/96 [00:05<00:01, 13.74it/s]\u001b[A\n",
      " 77%|███████████████████████████████████████████████████████████████▏                  | 74/96 [00:05<00:01, 13.77it/s]\u001b[A\n",
      " 79%|████████████████████████████████████████████████████████████████▉                 | 76/96 [00:05<00:01, 13.54it/s]\u001b[A\n",
      " 81%|██████████████████████████████████████████████████████████████████▋               | 78/96 [00:05<00:01, 13.58it/s]\u001b[A\n",
      " 83%|████████████████████████████████████████████████████████████████████▎             | 80/96 [00:05<00:01, 13.78it/s]\u001b[A\n",
      " 85%|██████████████████████████████████████████████████████████████████████            | 82/96 [00:06<00:01, 13.81it/s]\u001b[A\n",
      " 88%|███████████████████████████████████████████████████████████████████████▊          | 84/96 [00:06<00:00, 13.73it/s]\u001b[A\n",
      " 90%|█████████████████████████████████████████████████████████████████████████▍        | 86/96 [00:06<00:00, 13.77it/s]\u001b[A\n",
      " 92%|███████████████████████████████████████████████████████████████████████████▏      | 88/96 [00:06<00:00, 13.79it/s]\u001b[A\n",
      " 94%|████████████████████████████████████████████████████████████████████████████▉     | 90/96 [00:06<00:00, 13.58it/s]\u001b[A\n",
      " 96%|██████████████████████████████████████████████████████████████████████████████▌   | 92/96 [00:06<00:00, 13.55it/s]\u001b[A\n",
      " 98%|████████████████████████████████████████████████████████████████████████████████▎ | 94/96 [00:06<00:00, 13.64it/s]\u001b[A\n",
      "100%|██████████████████████████████████████████████████████████████████████████████████| 96/96 [00:07<00:00, 13.58it/s]\u001b[A\n"
     ]
    },
    {
     "name": "stdout",
     "output_type": "stream",
     "text": [
      "Epoch 33 test loss: 0.2168 test acc: 0.9255\n"
     ]
    },
    {
     "name": "stderr",
     "output_type": "stream",
     "text": [
      "\n",
      "  0%|                                                                                           | 0/96 [00:00<?, ?it/s]\u001b[A\n",
      "  2%|█▋                                                                                 | 2/96 [00:00<00:06, 13.76it/s]\u001b[A\n",
      "  4%|███▍                                                                               | 4/96 [00:00<00:06, 13.81it/s]\u001b[A\n",
      "  6%|█████▏                                                                             | 6/96 [00:00<00:06, 13.66it/s]\u001b[A\n",
      "  8%|██████▉                                                                            | 8/96 [00:00<00:06, 13.44it/s]\u001b[A\n",
      " 10%|████████▌                                                                         | 10/96 [00:00<00:06, 13.59it/s]\u001b[A\n",
      " 12%|██████████▎                                                                       | 12/96 [00:00<00:06, 13.34it/s]\u001b[A\n",
      " 15%|███████████▉                                                                      | 14/96 [00:01<00:06, 13.18it/s]\u001b[A\n",
      " 17%|█████████████▋                                                                    | 16/96 [00:01<00:06, 13.08it/s]\u001b[A\n",
      " 19%|███████████████▍                                                                  | 18/96 [00:01<00:05, 13.04it/s]\u001b[A\n",
      " 21%|█████████████████                                                                 | 20/96 [00:01<00:05, 13.10it/s]\u001b[A\n",
      " 23%|██████████████████▊                                                               | 22/96 [00:01<00:05, 13.08it/s]\u001b[A\n",
      " 25%|████████████████████▌                                                             | 24/96 [00:01<00:05, 13.07it/s]\u001b[A\n",
      " 27%|██████████████████████▏                                                           | 26/96 [00:01<00:05, 13.22it/s]\u001b[A\n",
      " 29%|███████████████████████▉                                                          | 28/96 [00:02<00:05, 13.30it/s]\u001b[A\n",
      " 31%|█████████████████████████▋                                                        | 30/96 [00:02<00:05, 13.19it/s]\u001b[A\n",
      " 33%|███████████████████████████▎                                                      | 32/96 [00:02<00:04, 13.10it/s]\u001b[A\n",
      " 35%|█████████████████████████████                                                     | 34/96 [00:02<00:04, 13.24it/s]\u001b[A\n",
      " 38%|██████████████████████████████▊                                                   | 36/96 [00:02<00:04, 13.26it/s]\u001b[A\n",
      " 40%|████████████████████████████████▍                                                 | 38/96 [00:02<00:04, 13.20it/s]\u001b[A\n",
      " 42%|██████████████████████████████████▏                                               | 40/96 [00:03<00:04, 13.01it/s]\u001b[A\n",
      " 44%|███████████████████████████████████▉                                              | 42/96 [00:03<00:04, 13.28it/s]\u001b[A\n",
      " 46%|█████████████████████████████████████▌                                            | 44/96 [00:03<00:03, 13.15it/s]\u001b[A\n",
      " 48%|███████████████████████████████████████▎                                          | 46/96 [00:03<00:03, 13.38it/s]\u001b[A\n",
      " 50%|█████████████████████████████████████████                                         | 48/96 [00:03<00:03, 13.36it/s]\u001b[A\n",
      " 52%|██████████████████████████████████████████▋                                       | 50/96 [00:03<00:03, 13.47it/s]\u001b[A\n",
      " 54%|████████████████████████████████████████████▍                                     | 52/96 [00:03<00:03, 13.61it/s]\u001b[A\n",
      " 56%|██████████████████████████████████████████████▏                                   | 54/96 [00:04<00:03, 13.57it/s]\u001b[A\n",
      " 58%|███████████████████████████████████████████████▊                                  | 56/96 [00:04<00:02, 13.63it/s]\u001b[A\n",
      " 60%|█████████████████████████████████████████████████▌                                | 58/96 [00:04<00:02, 13.75it/s]\u001b[A\n",
      " 62%|███████████████████████████████████████████████████▎                              | 60/96 [00:04<00:02, 13.86it/s]\u001b[A\n",
      " 65%|████████████████████████████████████████████████████▉                             | 62/96 [00:04<00:02, 13.72it/s]\u001b[A\n",
      " 67%|██████████████████████████████████████████████████████▋                           | 64/96 [00:04<00:02, 13.56it/s]\u001b[A\n",
      " 69%|████████████████████████████████████████████████████████▍                         | 66/96 [00:04<00:02, 13.51it/s]\u001b[A\n",
      " 71%|██████████████████████████████████████████████████████████                        | 68/96 [00:05<00:02, 13.47it/s]\u001b[A\n",
      " 73%|███████████████████████████████████████████████████████████▊                      | 70/96 [00:05<00:01, 13.34it/s]\u001b[A\n",
      " 75%|█████████████████████████████████████████████████████████████▌                    | 72/96 [00:05<00:01, 13.60it/s]\u001b[A\n",
      " 77%|███████████████████████████████████████████████████████████████▏                  | 74/96 [00:05<00:01, 13.56it/s]\u001b[A\n",
      " 79%|████████████████████████████████████████████████████████████████▉                 | 76/96 [00:05<00:01, 13.59it/s]\u001b[A\n",
      " 81%|██████████████████████████████████████████████████████████████████▋               | 78/96 [00:05<00:01, 13.84it/s]\u001b[A\n",
      " 83%|████████████████████████████████████████████████████████████████████▎             | 80/96 [00:05<00:01, 13.81it/s]\u001b[A\n",
      " 85%|██████████████████████████████████████████████████████████████████████            | 82/96 [00:06<00:01, 13.52it/s]\u001b[A\n",
      " 88%|███████████████████████████████████████████████████████████████████████▊          | 84/96 [00:06<00:00, 13.76it/s]\u001b[A\n",
      " 90%|█████████████████████████████████████████████████████████████████████████▍        | 86/96 [00:06<00:00, 13.50it/s]\u001b[A\n",
      " 92%|███████████████████████████████████████████████████████████████████████████▏      | 88/96 [00:06<00:00, 13.47it/s]\u001b[A\n",
      " 94%|████████████████████████████████████████████████████████████████████████████▉     | 90/96 [00:06<00:00, 13.53it/s]\u001b[A\n",
      " 96%|██████████████████████████████████████████████████████████████████████████████▌   | 92/96 [00:06<00:00, 13.82it/s]\u001b[A\n",
      " 98%|████████████████████████████████████████████████████████████████████████████████▎ | 94/96 [00:06<00:00, 13.74it/s]\u001b[A\n",
      "100%|██████████████████████████████████████████████████████████████████████████████████| 96/96 [00:07<00:00, 13.50it/s]\u001b[A\n"
     ]
    },
    {
     "name": "stdout",
     "output_type": "stream",
     "text": [
      "Epoch 34 test loss: 0.2168 test acc: 0.9255\n"
     ]
    },
    {
     "name": "stderr",
     "output_type": "stream",
     "text": [
      "\n",
      "  0%|                                                                                           | 0/96 [00:00<?, ?it/s]\u001b[A\n",
      "  2%|█▋                                                                                 | 2/96 [00:00<00:07, 12.10it/s]\u001b[A\n",
      "  4%|███▍                                                                               | 4/96 [00:00<00:06, 13.33it/s]\u001b[A\n",
      "  6%|█████▏                                                                             | 6/96 [00:00<00:06, 13.56it/s]\u001b[A\n",
      "  8%|██████▉                                                                            | 8/96 [00:00<00:06, 13.60it/s]\u001b[A\n",
      " 10%|████████▌                                                                         | 10/96 [00:00<00:06, 13.69it/s]\u001b[A\n",
      " 12%|██████████▎                                                                       | 12/96 [00:00<00:06, 13.22it/s]\u001b[A\n",
      " 15%|███████████▉                                                                      | 14/96 [00:01<00:06, 13.42it/s]\u001b[A\n",
      " 17%|█████████████▋                                                                    | 16/96 [00:01<00:05, 13.50it/s]\u001b[A\n",
      " 19%|███████████████▍                                                                  | 18/96 [00:01<00:05, 13.69it/s]\u001b[A\n",
      " 21%|█████████████████                                                                 | 20/96 [00:01<00:05, 13.45it/s]\u001b[A\n",
      " 23%|██████████████████▊                                                               | 22/96 [00:01<00:05, 12.98it/s]\u001b[A\n",
      " 25%|████████████████████▌                                                             | 24/96 [00:01<00:05, 12.85it/s]\u001b[A\n",
      " 27%|██████████████████████▏                                                           | 26/96 [00:01<00:05, 12.98it/s]\u001b[A\n",
      " 29%|███████████████████████▉                                                          | 28/96 [00:02<00:05, 13.02it/s]\u001b[A\n",
      " 31%|█████████████████████████▋                                                        | 30/96 [00:02<00:04, 13.32it/s]\u001b[A\n",
      " 33%|███████████████████████████▎                                                      | 32/96 [00:02<00:04, 13.47it/s]\u001b[A\n",
      " 35%|█████████████████████████████                                                     | 34/96 [00:02<00:04, 13.58it/s]\u001b[A\n",
      " 38%|██████████████████████████████▊                                                   | 36/96 [00:02<00:04, 13.52it/s]\u001b[A\n",
      " 40%|████████████████████████████████▍                                                 | 38/96 [00:02<00:04, 13.59it/s]\u001b[A\n",
      " 42%|██████████████████████████████████▏                                               | 40/96 [00:02<00:04, 13.64it/s]\u001b[A\n",
      " 44%|███████████████████████████████████▉                                              | 42/96 [00:03<00:03, 13.68it/s]\u001b[A\n",
      " 46%|█████████████████████████████████████▌                                            | 44/96 [00:03<00:03, 13.87it/s]\u001b[A\n",
      " 48%|███████████████████████████████████████▎                                          | 46/96 [00:03<00:03, 13.95it/s]\u001b[A\n",
      " 50%|█████████████████████████████████████████                                         | 48/96 [00:03<00:03, 13.95it/s]\u001b[A\n",
      " 52%|██████████████████████████████████████████▋                                       | 50/96 [00:03<00:03, 13.94it/s]\u001b[A\n",
      " 54%|████████████████████████████████████████████▍                                     | 52/96 [00:03<00:03, 13.92it/s]\u001b[A\n",
      " 56%|██████████████████████████████████████████████▏                                   | 54/96 [00:03<00:03, 13.72it/s]\u001b[A\n",
      " 58%|███████████████████████████████████████████████▊                                  | 56/96 [00:04<00:02, 13.62it/s]\u001b[A\n",
      " 60%|█████████████████████████████████████████████████▌                                | 58/96 [00:04<00:02, 13.80it/s]\u001b[A\n",
      " 62%|███████████████████████████████████████████████████▎                              | 60/96 [00:04<00:02, 13.96it/s]\u001b[A\n",
      " 65%|████████████████████████████████████████████████████▉                             | 62/96 [00:04<00:02, 14.07it/s]\u001b[A\n",
      " 67%|██████████████████████████████████████████████████████▋                           | 64/96 [00:04<00:02, 13.86it/s]\u001b[A\n",
      " 69%|████████████████████████████████████████████████████████▍                         | 66/96 [00:04<00:02, 13.77it/s]\u001b[A\n",
      " 71%|██████████████████████████████████████████████████████████                        | 68/96 [00:05<00:02, 13.91it/s]\u001b[A\n",
      " 73%|███████████████████████████████████████████████████████████▊                      | 70/96 [00:05<00:01, 13.95it/s]\u001b[A\n",
      " 75%|█████████████████████████████████████████████████████████████▌                    | 72/96 [00:05<00:01, 14.01it/s]\u001b[A\n",
      " 77%|███████████████████████████████████████████████████████████████▏                  | 74/96 [00:05<00:01, 13.79it/s]\u001b[A\n",
      " 79%|████████████████████████████████████████████████████████████████▉                 | 76/96 [00:05<00:01, 13.53it/s]\u001b[A\n",
      " 81%|██████████████████████████████████████████████████████████████████▋               | 78/96 [00:05<00:01, 13.35it/s]\u001b[A\n",
      " 83%|████████████████████████████████████████████████████████████████████▎             | 80/96 [00:05<00:01, 13.67it/s]\u001b[A\n",
      " 85%|██████████████████████████████████████████████████████████████████████            | 82/96 [00:06<00:01, 13.64it/s]\u001b[A\n",
      " 88%|███████████████████████████████████████████████████████████████████████▊          | 84/96 [00:06<00:00, 13.40it/s]\u001b[A\n",
      " 90%|█████████████████████████████████████████████████████████████████████████▍        | 86/96 [00:06<00:00, 13.62it/s]\u001b[A\n",
      " 92%|███████████████████████████████████████████████████████████████████████████▏      | 88/96 [00:06<00:00, 13.80it/s]\u001b[A\n",
      " 94%|████████████████████████████████████████████████████████████████████████████▉     | 90/96 [00:06<00:00, 13.76it/s]\u001b[A\n",
      " 96%|██████████████████████████████████████████████████████████████████████████████▌   | 92/96 [00:06<00:00, 13.79it/s]\u001b[A\n",
      " 98%|████████████████████████████████████████████████████████████████████████████████▎ | 94/96 [00:06<00:00, 13.89it/s]\u001b[A\n",
      "100%|██████████████████████████████████████████████████████████████████████████████████| 96/96 [00:07<00:00, 13.67it/s]\u001b[A\n"
     ]
    },
    {
     "name": "stdout",
     "output_type": "stream",
     "text": [
      "Epoch 35 test loss: 0.2168 test acc: 0.9255\n"
     ]
    },
    {
     "name": "stderr",
     "output_type": "stream",
     "text": [
      "\n",
      "  0%|                                                                                           | 0/96 [00:00<?, ?it/s]\u001b[A\n",
      "  2%|█▋                                                                                 | 2/96 [00:00<00:07, 12.88it/s]\u001b[A\n",
      "  4%|███▍                                                                               | 4/96 [00:00<00:06, 13.43it/s]\u001b[A\n",
      "  6%|█████▏                                                                             | 6/96 [00:00<00:06, 13.66it/s]\u001b[A\n",
      "  8%|██████▉                                                                            | 8/96 [00:00<00:06, 13.85it/s]\u001b[A\n",
      " 10%|████████▌                                                                         | 10/96 [00:00<00:06, 13.95it/s]\u001b[A\n",
      " 12%|██████████▎                                                                       | 12/96 [00:00<00:06, 13.82it/s]\u001b[A\n",
      " 15%|███████████▉                                                                      | 14/96 [00:01<00:06, 13.46it/s]\u001b[A\n",
      " 17%|█████████████▋                                                                    | 16/96 [00:01<00:05, 13.56it/s]\u001b[A\n",
      " 19%|███████████████▍                                                                  | 18/96 [00:01<00:05, 13.17it/s]\u001b[A\n",
      " 21%|█████████████████                                                                 | 20/96 [00:01<00:05, 13.31it/s]\u001b[A\n",
      " 23%|██████████████████▊                                                               | 22/96 [00:01<00:05, 13.25it/s]\u001b[A\n",
      " 25%|████████████████████▌                                                             | 24/96 [00:01<00:05, 13.35it/s]\u001b[A\n",
      " 27%|██████████████████████▏                                                           | 26/96 [00:01<00:05, 13.52it/s]\u001b[A\n",
      " 29%|███████████████████████▉                                                          | 28/96 [00:02<00:05, 13.48it/s]\u001b[A\n",
      " 31%|█████████████████████████▋                                                        | 30/96 [00:02<00:04, 13.37it/s]\u001b[A\n",
      " 33%|███████████████████████████▎                                                      | 32/96 [00:02<00:04, 13.46it/s]\u001b[A\n",
      " 35%|█████████████████████████████                                                     | 34/96 [00:02<00:04, 13.30it/s]\u001b[A\n",
      " 38%|██████████████████████████████▊                                                   | 36/96 [00:02<00:04, 13.49it/s]\u001b[A\n",
      " 40%|████████████████████████████████▍                                                 | 38/96 [00:02<00:04, 13.38it/s]\u001b[A\n",
      " 42%|██████████████████████████████████▏                                               | 40/96 [00:02<00:04, 13.14it/s]\u001b[A\n",
      " 44%|███████████████████████████████████▉                                              | 42/96 [00:03<00:04, 13.27it/s]\u001b[A\n",
      " 46%|█████████████████████████████████████▌                                            | 44/96 [00:03<00:03, 13.38it/s]\u001b[A\n",
      " 48%|███████████████████████████████████████▎                                          | 46/96 [00:03<00:03, 13.49it/s]\u001b[A\n",
      " 50%|█████████████████████████████████████████                                         | 48/96 [00:03<00:03, 13.52it/s]\u001b[A\n",
      " 52%|██████████████████████████████████████████▋                                       | 50/96 [00:03<00:03, 13.64it/s]\u001b[A\n",
      " 54%|████████████████████████████████████████████▍                                     | 52/96 [00:03<00:03, 13.62it/s]\u001b[A\n",
      " 56%|██████████████████████████████████████████████▏                                   | 54/96 [00:04<00:03, 13.44it/s]\u001b[A\n",
      " 58%|███████████████████████████████████████████████▊                                  | 56/96 [00:04<00:02, 13.68it/s]\u001b[A\n",
      " 60%|█████████████████████████████████████████████████▌                                | 58/96 [00:04<00:02, 13.87it/s]\u001b[A\n",
      " 62%|███████████████████████████████████████████████████▎                              | 60/96 [00:04<00:02, 13.72it/s]\u001b[A\n",
      " 65%|████████████████████████████████████████████████████▉                             | 62/96 [00:04<00:02, 13.65it/s]\u001b[A\n",
      " 67%|██████████████████████████████████████████████████████▋                           | 64/96 [00:04<00:02, 13.63it/s]\u001b[A\n",
      " 69%|████████████████████████████████████████████████████████▍                         | 66/96 [00:04<00:02, 13.58it/s]\u001b[A\n",
      " 71%|██████████████████████████████████████████████████████████                        | 68/96 [00:05<00:02, 13.80it/s]\u001b[A\n",
      " 73%|███████████████████████████████████████████████████████████▊                      | 70/96 [00:05<00:01, 13.54it/s]\u001b[A\n",
      " 75%|█████████████████████████████████████████████████████████████▌                    | 72/96 [00:05<00:01, 13.80it/s]\u001b[A\n",
      " 77%|███████████████████████████████████████████████████████████████▏                  | 74/96 [00:05<00:01, 13.84it/s]\u001b[A\n",
      " 79%|████████████████████████████████████████████████████████████████▉                 | 76/96 [00:05<00:01, 13.85it/s]\u001b[A\n",
      " 81%|██████████████████████████████████████████████████████████████████▋               | 78/96 [00:05<00:01, 13.88it/s]\u001b[A\n",
      " 83%|████████████████████████████████████████████████████████████████████▎             | 80/96 [00:05<00:01, 13.78it/s]\u001b[A\n",
      " 85%|██████████████████████████████████████████████████████████████████████            | 82/96 [00:06<00:01, 13.98it/s]\u001b[A\n",
      " 88%|███████████████████████████████████████████████████████████████████████▊          | 84/96 [00:06<00:00, 14.09it/s]\u001b[A\n",
      " 90%|█████████████████████████████████████████████████████████████████████████▍        | 86/96 [00:06<00:00, 13.96it/s]\u001b[A\n",
      " 92%|███████████████████████████████████████████████████████████████████████████▏      | 88/96 [00:06<00:00, 13.95it/s]\u001b[A\n",
      " 94%|████████████████████████████████████████████████████████████████████████████▉     | 90/96 [00:06<00:00, 13.90it/s]\u001b[A\n",
      " 96%|██████████████████████████████████████████████████████████████████████████████▌   | 92/96 [00:06<00:00, 13.85it/s]\u001b[A\n",
      " 98%|████████████████████████████████████████████████████████████████████████████████▎ | 94/96 [00:06<00:00, 13.80it/s]\u001b[A\n",
      "100%|██████████████████████████████████████████████████████████████████████████████████| 96/96 [00:07<00:00, 13.67it/s]\u001b[A\n"
     ]
    },
    {
     "name": "stdout",
     "output_type": "stream",
     "text": [
      "Epoch 36 test loss: 0.2168 test acc: 0.9255\n"
     ]
    },
    {
     "name": "stderr",
     "output_type": "stream",
     "text": [
      "\n",
      "  0%|                                                                                           | 0/96 [00:00<?, ?it/s]\u001b[A\n",
      "  2%|█▋                                                                                 | 2/96 [00:00<00:06, 14.15it/s]\u001b[A\n",
      "  4%|███▍                                                                               | 4/96 [00:00<00:06, 13.75it/s]\u001b[A\n",
      "  6%|█████▏                                                                             | 6/96 [00:00<00:06, 13.80it/s]\u001b[A\n",
      "  8%|██████▉                                                                            | 8/96 [00:00<00:06, 13.82it/s]\u001b[A\n",
      " 10%|████████▌                                                                         | 10/96 [00:00<00:06, 13.83it/s]\u001b[A\n",
      " 12%|██████████▎                                                                       | 12/96 [00:00<00:06, 13.62it/s]\u001b[A\n",
      " 15%|███████████▉                                                                      | 14/96 [00:01<00:06, 13.57it/s]\u001b[A\n",
      " 17%|█████████████▋                                                                    | 16/96 [00:01<00:05, 13.72it/s]\u001b[A\n",
      " 19%|███████████████▍                                                                  | 18/96 [00:01<00:05, 13.64it/s]\u001b[A\n",
      " 21%|█████████████████                                                                 | 20/96 [00:01<00:05, 13.45it/s]\u001b[A\n",
      " 23%|██████████████████▊                                                               | 22/96 [00:01<00:05, 13.32it/s]\u001b[A\n",
      " 25%|████████████████████▌                                                             | 24/96 [00:01<00:05, 13.48it/s]\u001b[A\n",
      " 27%|██████████████████████▏                                                           | 26/96 [00:01<00:05, 13.29it/s]\u001b[A\n",
      " 29%|███████████████████████▉                                                          | 28/96 [00:02<00:05, 13.35it/s]\u001b[A\n",
      " 31%|█████████████████████████▋                                                        | 30/96 [00:02<00:04, 13.28it/s]\u001b[A\n",
      " 33%|███████████████████████████▎                                                      | 32/96 [00:02<00:04, 13.48it/s]\u001b[A\n",
      " 35%|█████████████████████████████                                                     | 34/96 [00:02<00:04, 13.48it/s]\u001b[A\n",
      " 38%|██████████████████████████████▊                                                   | 36/96 [00:02<00:04, 13.53it/s]\u001b[A\n",
      " 40%|████████████████████████████████▍                                                 | 38/96 [00:02<00:04, 13.46it/s]\u001b[A\n",
      " 42%|██████████████████████████████████▏                                               | 40/96 [00:02<00:04, 13.63it/s]\u001b[A\n",
      " 44%|███████████████████████████████████▉                                              | 42/96 [00:03<00:04, 13.48it/s]\u001b[A\n",
      " 46%|█████████████████████████████████████▌                                            | 44/96 [00:03<00:03, 13.61it/s]\u001b[A\n",
      " 48%|███████████████████████████████████████▎                                          | 46/96 [00:03<00:03, 13.60it/s]\u001b[A\n",
      " 50%|█████████████████████████████████████████                                         | 48/96 [00:03<00:03, 13.48it/s]\u001b[A\n",
      " 52%|██████████████████████████████████████████▋                                       | 50/96 [00:03<00:03, 13.54it/s]\u001b[A\n",
      " 54%|████████████████████████████████████████████▍                                     | 52/96 [00:03<00:03, 13.63it/s]\u001b[A\n",
      " 56%|██████████████████████████████████████████████▏                                   | 54/96 [00:03<00:03, 13.73it/s]\u001b[A\n",
      " 58%|███████████████████████████████████████████████▊                                  | 56/96 [00:04<00:02, 13.65it/s]\u001b[A\n",
      " 60%|█████████████████████████████████████████████████▌                                | 58/96 [00:04<00:02, 13.85it/s]\u001b[A\n",
      " 62%|███████████████████████████████████████████████████▎                              | 60/96 [00:04<00:02, 13.44it/s]\u001b[A\n",
      " 65%|████████████████████████████████████████████████████▉                             | 62/96 [00:04<00:02, 13.56it/s]\u001b[A\n",
      " 67%|██████████████████████████████████████████████████████▋                           | 64/96 [00:04<00:02, 13.45it/s]\u001b[A\n",
      " 69%|████████████████████████████████████████████████████████▍                         | 66/96 [00:04<00:02, 13.54it/s]\u001b[A\n",
      " 71%|██████████████████████████████████████████████████████████                        | 68/96 [00:05<00:02, 13.63it/s]\u001b[A\n",
      " 73%|███████████████████████████████████████████████████████████▊                      | 70/96 [00:05<00:01, 13.39it/s]\u001b[A\n",
      " 75%|█████████████████████████████████████████████████████████████▌                    | 72/96 [00:05<00:01, 13.31it/s]\u001b[A\n",
      " 77%|███████████████████████████████████████████████████████████████▏                  | 74/96 [00:05<00:01, 13.28it/s]\u001b[A\n",
      " 79%|████████████████████████████████████████████████████████████████▉                 | 76/96 [00:05<00:01, 13.34it/s]\u001b[A\n",
      " 81%|██████████████████████████████████████████████████████████████████▋               | 78/96 [00:05<00:01, 13.63it/s]\u001b[A\n",
      " 83%|████████████████████████████████████████████████████████████████████▎             | 80/96 [00:05<00:01, 13.67it/s]\u001b[A\n",
      " 85%|██████████████████████████████████████████████████████████████████████            | 82/96 [00:06<00:01, 13.58it/s]\u001b[A\n",
      " 88%|███████████████████████████████████████████████████████████████████████▊          | 84/96 [00:06<00:00, 13.83it/s]\u001b[A\n",
      " 90%|█████████████████████████████████████████████████████████████████████████▍        | 86/96 [00:06<00:00, 13.67it/s]\u001b[A\n",
      " 92%|███████████████████████████████████████████████████████████████████████████▏      | 88/96 [00:06<00:00, 13.61it/s]\u001b[A\n",
      " 94%|████████████████████████████████████████████████████████████████████████████▉     | 90/96 [00:06<00:00, 13.74it/s]\u001b[A\n",
      " 96%|██████████████████████████████████████████████████████████████████████████████▌   | 92/96 [00:06<00:00, 13.69it/s]\u001b[A\n",
      " 98%|████████████████████████████████████████████████████████████████████████████████▎ | 94/96 [00:06<00:00, 13.82it/s]\u001b[A\n",
      "100%|██████████████████████████████████████████████████████████████████████████████████| 96/96 [00:07<00:00, 13.62it/s]\u001b[A\n"
     ]
    },
    {
     "name": "stdout",
     "output_type": "stream",
     "text": [
      "Epoch 37 test loss: 0.2168 test acc: 0.9255\n"
     ]
    },
    {
     "name": "stderr",
     "output_type": "stream",
     "text": [
      "\n",
      "  0%|                                                                                           | 0/96 [00:00<?, ?it/s]\u001b[A\n",
      "  2%|█▋                                                                                 | 2/96 [00:00<00:06, 14.25it/s]\u001b[A\n",
      "  4%|███▍                                                                               | 4/96 [00:00<00:06, 14.61it/s]\u001b[A\n",
      "  6%|█████▏                                                                             | 6/96 [00:00<00:06, 13.94it/s]\u001b[A\n",
      "  8%|██████▉                                                                            | 8/96 [00:00<00:06, 14.10it/s]\u001b[A\n",
      " 10%|████████▌                                                                         | 10/96 [00:00<00:06, 13.77it/s]\u001b[A\n",
      " 12%|██████████▎                                                                       | 12/96 [00:00<00:06, 13.73it/s]\u001b[A\n",
      " 15%|███████████▉                                                                      | 14/96 [00:01<00:05, 13.96it/s]\u001b[A\n",
      " 17%|█████████████▋                                                                    | 16/96 [00:01<00:05, 13.99it/s]\u001b[A\n",
      " 19%|███████████████▍                                                                  | 18/96 [00:01<00:05, 13.94it/s]\u001b[A\n",
      " 21%|█████████████████                                                                 | 20/96 [00:01<00:05, 13.97it/s]\u001b[A\n",
      " 23%|██████████████████▊                                                               | 22/96 [00:01<00:05, 13.97it/s]\u001b[A\n",
      " 25%|████████████████████▌                                                             | 24/96 [00:01<00:05, 13.87it/s]\u001b[A\n",
      " 27%|██████████████████████▏                                                           | 26/96 [00:01<00:05, 13.87it/s]\u001b[A\n",
      " 29%|███████████████████████▉                                                          | 28/96 [00:02<00:04, 13.69it/s]\u001b[A\n",
      " 31%|█████████████████████████▋                                                        | 30/96 [00:02<00:04, 13.60it/s]\u001b[A\n",
      " 33%|███████████████████████████▎                                                      | 32/96 [00:02<00:04, 13.73it/s]\u001b[A\n",
      " 35%|█████████████████████████████                                                     | 34/96 [00:02<00:04, 13.83it/s]\u001b[A\n",
      " 38%|██████████████████████████████▊                                                   | 36/96 [00:02<00:04, 13.83it/s]\u001b[A\n",
      " 40%|████████████████████████████████▍                                                 | 38/96 [00:02<00:04, 13.84it/s]\u001b[A\n",
      " 42%|██████████████████████████████████▏                                               | 40/96 [00:02<00:04, 13.76it/s]\u001b[A\n",
      " 44%|███████████████████████████████████▉                                              | 42/96 [00:03<00:03, 13.70it/s]\u001b[A\n",
      " 46%|█████████████████████████████████████▌                                            | 44/96 [00:03<00:03, 13.66it/s]\u001b[A\n",
      " 48%|███████████████████████████████████████▎                                          | 46/96 [00:03<00:03, 13.72it/s]\u001b[A\n",
      " 50%|█████████████████████████████████████████                                         | 48/96 [00:03<00:03, 13.59it/s]\u001b[A\n",
      " 52%|██████████████████████████████████████████▋                                       | 50/96 [00:03<00:03, 13.64it/s]\u001b[A\n",
      " 54%|████████████████████████████████████████████▍                                     | 52/96 [00:03<00:03, 13.62it/s]\u001b[A\n",
      " 56%|██████████████████████████████████████████████▏                                   | 54/96 [00:03<00:03, 13.44it/s]\u001b[A\n",
      " 58%|███████████████████████████████████████████████▊                                  | 56/96 [00:04<00:02, 13.45it/s]\u001b[A\n",
      " 60%|█████████████████████████████████████████████████▌                                | 58/96 [00:04<00:02, 13.25it/s]\u001b[A\n",
      " 62%|███████████████████████████████████████████████████▎                              | 60/96 [00:04<00:02, 13.29it/s]\u001b[A\n",
      " 65%|████████████████████████████████████████████████████▉                             | 62/96 [00:04<00:02, 13.43it/s]\u001b[A\n",
      " 67%|██████████████████████████████████████████████████████▋                           | 64/96 [00:04<00:02, 13.55it/s]\u001b[A\n",
      " 69%|████████████████████████████████████████████████████████▍                         | 66/96 [00:04<00:02, 13.32it/s]\u001b[A\n",
      " 71%|██████████████████████████████████████████████████████████                        | 68/96 [00:04<00:02, 13.21it/s]\u001b[A\n",
      " 73%|███████████████████████████████████████████████████████████▊                      | 70/96 [00:05<00:01, 13.06it/s]\u001b[A\n",
      " 75%|█████████████████████████████████████████████████████████████▌                    | 72/96 [00:05<00:01, 12.92it/s]\u001b[A\n",
      " 77%|███████████████████████████████████████████████████████████████▏                  | 74/96 [00:05<00:01, 12.86it/s]\u001b[A\n",
      " 79%|████████████████████████████████████████████████████████████████▉                 | 76/96 [00:05<00:01, 13.12it/s]\u001b[A\n",
      " 81%|██████████████████████████████████████████████████████████████████▋               | 78/96 [00:05<00:01, 13.33it/s]\u001b[A\n",
      " 83%|████████████████████████████████████████████████████████████████████▎             | 80/96 [00:05<00:01, 13.48it/s]\u001b[A\n",
      " 85%|██████████████████████████████████████████████████████████████████████            | 82/96 [00:06<00:01, 13.59it/s]\u001b[A\n",
      " 88%|███████████████████████████████████████████████████████████████████████▊          | 84/96 [00:06<00:00, 13.61it/s]\u001b[A\n",
      " 90%|█████████████████████████████████████████████████████████████████████████▍        | 86/96 [00:06<00:00, 13.63it/s]\u001b[A\n",
      " 92%|███████████████████████████████████████████████████████████████████████████▏      | 88/96 [00:06<00:00, 13.37it/s]\u001b[A\n",
      " 94%|████████████████████████████████████████████████████████████████████████████▉     | 90/96 [00:06<00:00, 13.48it/s]\u001b[A\n",
      " 96%|██████████████████████████████████████████████████████████████████████████████▌   | 92/96 [00:06<00:00, 13.48it/s]\u001b[A\n",
      " 98%|████████████████████████████████████████████████████████████████████████████████▎ | 94/96 [00:06<00:00, 13.62it/s]\u001b[A\n",
      "100%|██████████████████████████████████████████████████████████████████████████████████| 96/96 [00:07<00:00, 13.64it/s]\u001b[A\n"
     ]
    },
    {
     "name": "stdout",
     "output_type": "stream",
     "text": [
      "Epoch 38 test loss: 0.2168 test acc: 0.9255\n"
     ]
    },
    {
     "name": "stderr",
     "output_type": "stream",
     "text": [
      "\n",
      "  0%|                                                                                           | 0/96 [00:00<?, ?it/s]\u001b[A\n",
      "  2%|█▋                                                                                 | 2/96 [00:00<00:07, 12.71it/s]\u001b[A\n",
      "  4%|███▍                                                                               | 4/96 [00:00<00:06, 13.62it/s]\u001b[A\n",
      "  6%|█████▏                                                                             | 6/96 [00:00<00:06, 13.35it/s]\u001b[A\n",
      "  8%|██████▉                                                                            | 8/96 [00:00<00:06, 13.55it/s]\u001b[A\n",
      " 10%|████████▌                                                                         | 10/96 [00:00<00:06, 13.72it/s]\u001b[A\n",
      " 12%|██████████▎                                                                       | 12/96 [00:00<00:06, 13.39it/s]\u001b[A\n",
      " 15%|███████████▉                                                                      | 14/96 [00:01<00:06, 13.57it/s]\u001b[A\n",
      " 17%|█████████████▋                                                                    | 16/96 [00:01<00:05, 13.78it/s]\u001b[A\n",
      " 19%|███████████████▍                                                                  | 18/96 [00:01<00:05, 13.86it/s]\u001b[A\n",
      " 21%|█████████████████                                                                 | 20/96 [00:01<00:05, 13.83it/s]\u001b[A\n",
      " 23%|██████████████████▊                                                               | 22/96 [00:01<00:05, 13.81it/s]\u001b[A\n",
      " 25%|████████████████████▌                                                             | 24/96 [00:01<00:05, 13.79it/s]\u001b[A\n",
      " 27%|██████████████████████▏                                                           | 26/96 [00:01<00:05, 13.56it/s]\u001b[A\n",
      " 29%|███████████████████████▉                                                          | 28/96 [00:02<00:04, 13.67it/s]\u001b[A\n",
      " 31%|█████████████████████████▋                                                        | 30/96 [00:02<00:04, 13.75it/s]\u001b[A\n",
      " 33%|███████████████████████████▎                                                      | 32/96 [00:02<00:04, 13.70it/s]\u001b[A\n",
      " 35%|█████████████████████████████                                                     | 34/96 [00:02<00:04, 13.52it/s]\u001b[A\n",
      " 38%|██████████████████████████████▊                                                   | 36/96 [00:02<00:04, 13.56it/s]\u001b[A\n",
      " 40%|████████████████████████████████▍                                                 | 38/96 [00:02<00:04, 13.32it/s]\u001b[A\n",
      " 42%|██████████████████████████████████▏                                               | 40/96 [00:02<00:04, 12.91it/s]\u001b[A\n",
      " 44%|███████████████████████████████████▉                                              | 42/96 [00:03<00:04, 13.26it/s]\u001b[A\n",
      " 46%|█████████████████████████████████████▌                                            | 44/96 [00:03<00:03, 13.27it/s]\u001b[A\n",
      " 48%|███████████████████████████████████████▎                                          | 46/96 [00:03<00:03, 13.49it/s]\u001b[A\n",
      " 50%|█████████████████████████████████████████                                         | 48/96 [00:03<00:03, 13.57it/s]\u001b[A\n",
      " 52%|██████████████████████████████████████████▋                                       | 50/96 [00:03<00:03, 13.52it/s]\u001b[A\n",
      " 54%|████████████████████████████████████████████▍                                     | 52/96 [00:03<00:03, 13.62it/s]\u001b[A\n",
      " 56%|██████████████████████████████████████████████▏                                   | 54/96 [00:03<00:03, 13.33it/s]\u001b[A\n",
      " 58%|███████████████████████████████████████████████▊                                  | 56/96 [00:04<00:02, 13.41it/s]\u001b[A\n",
      " 60%|█████████████████████████████████████████████████▌                                | 58/96 [00:04<00:02, 13.60it/s]\u001b[A\n",
      " 62%|███████████████████████████████████████████████████▎                              | 60/96 [00:04<00:02, 13.76it/s]\u001b[A\n",
      " 65%|████████████████████████████████████████████████████▉                             | 62/96 [00:04<00:02, 13.64it/s]\u001b[A\n",
      " 67%|██████████████████████████████████████████████████████▋                           | 64/96 [00:04<00:02, 13.65it/s]\u001b[A\n",
      " 69%|████████████████████████████████████████████████████████▍                         | 66/96 [00:04<00:02, 13.32it/s]\u001b[A\n",
      " 71%|██████████████████████████████████████████████████████████                        | 68/96 [00:05<00:02, 13.34it/s]\u001b[A\n",
      " 73%|███████████████████████████████████████████████████████████▊                      | 70/96 [00:05<00:01, 13.55it/s]\u001b[A\n",
      " 75%|█████████████████████████████████████████████████████████████▌                    | 72/96 [00:05<00:01, 13.33it/s]\u001b[A\n",
      " 77%|███████████████████████████████████████████████████████████████▏                  | 74/96 [00:05<00:01, 13.30it/s]\u001b[A\n",
      " 79%|████████████████████████████████████████████████████████████████▉                 | 76/96 [00:05<00:01, 13.38it/s]\u001b[A\n",
      " 81%|██████████████████████████████████████████████████████████████████▋               | 78/96 [00:05<00:01, 13.38it/s]\u001b[A\n",
      " 83%|████████████████████████████████████████████████████████████████████▎             | 80/96 [00:05<00:01, 13.47it/s]\u001b[A\n",
      " 85%|██████████████████████████████████████████████████████████████████████            | 82/96 [00:06<00:01, 13.44it/s]\u001b[A\n",
      " 88%|███████████████████████████████████████████████████████████████████████▊          | 84/96 [00:06<00:00, 13.51it/s]\u001b[A\n",
      " 90%|█████████████████████████████████████████████████████████████████████████▍        | 86/96 [00:06<00:00, 13.45it/s]\u001b[A\n",
      " 92%|███████████████████████████████████████████████████████████████████████████▏      | 88/96 [00:06<00:00, 13.47it/s]\u001b[A\n",
      " 94%|████████████████████████████████████████████████████████████████████████████▉     | 90/96 [00:06<00:00, 13.47it/s]\u001b[A\n",
      " 96%|██████████████████████████████████████████████████████████████████████████████▌   | 92/96 [00:06<00:00, 13.64it/s]\u001b[A\n",
      " 98%|████████████████████████████████████████████████████████████████████████████████▎ | 94/96 [00:06<00:00, 13.45it/s]\u001b[A\n",
      "100%|██████████████████████████████████████████████████████████████████████████████████| 96/96 [00:07<00:00, 13.54it/s]\u001b[A\n"
     ]
    },
    {
     "name": "stdout",
     "output_type": "stream",
     "text": [
      "Epoch 39 test loss: 0.2168 test acc: 0.9255\n"
     ]
    },
    {
     "name": "stderr",
     "output_type": "stream",
     "text": [
      "\n",
      "  0%|                                                                                           | 0/96 [00:00<?, ?it/s]\u001b[A\n",
      "  2%|█▋                                                                                 | 2/96 [00:00<00:07, 13.38it/s]\u001b[A\n",
      "  4%|███▍                                                                               | 4/96 [00:00<00:06, 13.65it/s]\u001b[A\n",
      "  6%|█████▏                                                                             | 6/96 [00:00<00:06, 13.57it/s]\u001b[A\n",
      "  8%|██████▉                                                                            | 8/96 [00:00<00:06, 13.64it/s]\u001b[A\n",
      " 10%|████████▌                                                                         | 10/96 [00:00<00:06, 13.48it/s]\u001b[A\n",
      " 12%|██████████▎                                                                       | 12/96 [00:00<00:06, 13.42it/s]\u001b[A\n",
      " 15%|███████████▉                                                                      | 14/96 [00:01<00:06, 13.29it/s]\u001b[A\n",
      " 17%|█████████████▋                                                                    | 16/96 [00:01<00:05, 13.49it/s]\u001b[A\n",
      " 19%|███████████████▍                                                                  | 18/96 [00:01<00:05, 13.52it/s]\u001b[A\n",
      " 21%|█████████████████                                                                 | 20/96 [00:01<00:05, 13.65it/s]\u001b[A\n",
      " 23%|██████████████████▊                                                               | 22/96 [00:01<00:05, 13.54it/s]\u001b[A\n",
      " 25%|████████████████████▌                                                             | 24/96 [00:01<00:05, 13.47it/s]\u001b[A\n",
      " 27%|██████████████████████▏                                                           | 26/96 [00:01<00:05, 13.55it/s]\u001b[A\n",
      " 29%|███████████████████████▉                                                          | 28/96 [00:02<00:05, 13.42it/s]\u001b[A\n",
      " 31%|█████████████████████████▋                                                        | 30/96 [00:02<00:04, 13.50it/s]\u001b[A\n",
      " 33%|███████████████████████████▎                                                      | 32/96 [00:02<00:04, 13.44it/s]\u001b[A\n",
      " 35%|█████████████████████████████                                                     | 34/96 [00:02<00:04, 13.59it/s]\u001b[A\n",
      " 38%|██████████████████████████████▊                                                   | 36/96 [00:02<00:04, 13.78it/s]\u001b[A\n",
      " 40%|████████████████████████████████▍                                                 | 38/96 [00:02<00:04, 13.49it/s]\u001b[A\n",
      " 42%|██████████████████████████████████▏                                               | 40/96 [00:02<00:04, 13.27it/s]\u001b[A\n",
      " 44%|███████████████████████████████████▉                                              | 42/96 [00:03<00:03, 13.52it/s]\u001b[A\n",
      " 46%|█████████████████████████████████████▌                                            | 44/96 [00:03<00:03, 13.54it/s]\u001b[A\n",
      " 48%|███████████████████████████████████████▎                                          | 46/96 [00:03<00:03, 13.28it/s]\u001b[A\n",
      " 50%|█████████████████████████████████████████                                         | 48/96 [00:03<00:03, 13.45it/s]\u001b[A\n",
      " 52%|██████████████████████████████████████████▋                                       | 50/96 [00:03<00:03, 13.38it/s]\u001b[A\n",
      " 54%|████████████████████████████████████████████▍                                     | 52/96 [00:03<00:03, 13.35it/s]\u001b[A\n",
      " 56%|██████████████████████████████████████████████▏                                   | 54/96 [00:04<00:03, 13.26it/s]\u001b[A\n",
      " 58%|███████████████████████████████████████████████▊                                  | 56/96 [00:04<00:02, 13.43it/s]\u001b[A\n",
      " 60%|█████████████████████████████████████████████████▌                                | 58/96 [00:04<00:02, 13.53it/s]\u001b[A\n",
      " 62%|███████████████████████████████████████████████████▎                              | 60/96 [00:04<00:02, 13.60it/s]\u001b[A\n",
      " 65%|████████████████████████████████████████████████████▉                             | 62/96 [00:04<00:02, 13.48it/s]\u001b[A\n",
      " 67%|██████████████████████████████████████████████████████▋                           | 64/96 [00:04<00:02, 13.54it/s]\u001b[A\n",
      " 69%|████████████████████████████████████████████████████████▍                         | 66/96 [00:04<00:02, 13.63it/s]\u001b[A\n",
      " 71%|██████████████████████████████████████████████████████████                        | 68/96 [00:05<00:02, 13.67it/s]\u001b[A\n",
      " 73%|███████████████████████████████████████████████████████████▊                      | 70/96 [00:05<00:01, 13.61it/s]\u001b[A\n",
      " 75%|█████████████████████████████████████████████████████████████▌                    | 72/96 [00:05<00:01, 13.44it/s]\u001b[A\n",
      " 77%|███████████████████████████████████████████████████████████████▏                  | 74/96 [00:05<00:01, 13.53it/s]\u001b[A\n",
      " 79%|████████████████████████████████████████████████████████████████▉                 | 76/96 [00:05<00:01, 13.30it/s]\u001b[A\n",
      " 81%|██████████████████████████████████████████████████████████████████▋               | 78/96 [00:05<00:01, 13.46it/s]\u001b[A\n",
      " 83%|████████████████████████████████████████████████████████████████████▎             | 80/96 [00:05<00:01, 13.46it/s]\u001b[A\n",
      " 85%|██████████████████████████████████████████████████████████████████████            | 82/96 [00:06<00:01, 13.58it/s]\u001b[A\n",
      " 88%|███████████████████████████████████████████████████████████████████████▊          | 84/96 [00:06<00:00, 13.62it/s]\u001b[A\n",
      " 90%|█████████████████████████████████████████████████████████████████████████▍        | 86/96 [00:06<00:00, 13.55it/s]\u001b[A\n",
      " 92%|███████████████████████████████████████████████████████████████████████████▏      | 88/96 [00:06<00:00, 13.36it/s]\u001b[A\n",
      " 94%|████████████████████████████████████████████████████████████████████████████▉     | 90/96 [00:06<00:00, 13.26it/s]\u001b[A\n",
      " 96%|██████████████████████████████████████████████████████████████████████████████▌   | 92/96 [00:06<00:00, 13.09it/s]\u001b[A\n",
      " 98%|████████████████████████████████████████████████████████████████████████████████▎ | 94/96 [00:06<00:00, 13.13it/s]\u001b[A\n",
      "100%|██████████████████████████████████████████████████████████████████████████████████| 96/96 [00:07<00:00, 13.47it/s]\u001b[A\n"
     ]
    },
    {
     "name": "stdout",
     "output_type": "stream",
     "text": [
      "Epoch 40 test loss: 0.2168 test acc: 0.9255\n"
     ]
    },
    {
     "data": {
      "image/png": "[encoded data removed]",
      "text/plain": [
       "<Figure size 1000x500 with 2 Axes>"
      ]
     },
     "metadata": {},
     "output_type": "display_data"
    }
   ],
   "source": [
    "import matplotlib.pyplot as plt\n",
    "\n",
    "# Initialize lists to store loss and accuracy values for plotting\n",
    "test_losses = []\n",
    "test_accuracies = []\n",
    "\n",
    "# Loop over 40 epochs\n",
    "for epoch in range(1, 41):\n",
    "    running_loss = 0.0\n",
    "    running_correct = 0\n",
    "    model.eval()\n",
    "    \n",
    "    # Iterate over batches\n",
    "    for inputs, labels in tqdm(test_dataloader):\n",
    "        inputs = inputs.to(device)\n",
    "        labels = labels.to(device)\n",
    "\n",
    "        with torch.set_grad_enabled(False):\n",
    "            outputs = model(inputs)\n",
    "            _, preds = torch.max(outputs, 1)\n",
    "            loss = criterion(outputs, labels)\n",
    "\n",
    "        running_loss += loss.item() * inputs.size(0)\n",
    "        running_correct += torch.sum(preds == labels.data)\n",
    "    \n",
    "    epoch_loss = running_loss / test_len\n",
    "    epoch_acc = running_correct.double() / test_len\n",
    "\n",
    "    print('Epoch {} test loss: {:.4f} test acc: {:.4f}'.format(epoch, epoch_loss, epoch_acc))\n",
    "    \n",
    "    # Append loss and accuracy values to lists for plotting\n",
    "    test_losses.append(epoch_loss)\n",
    "    test_accuracies.append(epoch_acc.item())\n",
    "\n",
    "# Plotting\n",
    "plt.figure(figsize=(10, 5))\n",
    "plt.subplot(1, 2, 1)\n",
    "plt.plot(range(1, 41), test_losses, label='Test Loss')\n",
    "plt.xlabel('Epoch')\n",
    "plt.ylabel('Loss')\n",
    "plt.title('Test Loss over Epochs')\n",
    "plt.legend()\n",
    "\n",
    "plt.subplot(1, 2, 2)\n",
    "plt.plot(range(1, 41), test_accuracies, label='Test Accuracy')\n",
    "plt.xlabel('Epoch')\n",
    "plt.ylabel('Accuracy')\n",
    "plt.title('Test Accuracy over Epochs')\n",
    "plt.legend()\n",
    "\n",
    "plt.tight_layout()\n",
    "plt.show()\n"
   ]
  },
  {
   "cell_type": "code",
   "execution_count": 25,
   "id": "b3f269da",
   "metadata": {},
   "outputs": [
    {
     "data": {
      "image/png": "[encoded data removed]",
      "text/plain": [
       "<Figure size 640x480 with 2 Axes>"
      ]
     },
     "metadata": {},
     "output_type": "display_data"
    }
   ],
   "source": [
    "cm_custom = plot_cm(labels, preds, classes, title='Confusion Matrix of Test-Set')"
   ]
  }
 ],
 "metadata": {
  "kernelspec": {
   "display_name": "Hanieh_second_env ",
   "language": "python",
   "name": "hanieh_second_env"
  },
  "language_info": {
   "codemirror_mode": {
    "name": "ipython",
    "version": 3
   },
   "file_extension": ".py",
   "mimetype": "text/x-python",
   "name": "python",
   "nbconvert_exporter": "python",
   "pygments_lexer": "ipython3",
   "version": "3.8.18"
  }
 },
 "nbformat": 4,
 "nbformat_minor": 5
}
